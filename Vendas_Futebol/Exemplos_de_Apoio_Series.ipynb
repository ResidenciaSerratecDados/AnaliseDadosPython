{
  "nbformat": 4,
  "nbformat_minor": 0,
  "metadata": {
    "colab": {
      "provenance": []
    },
    "kernelspec": {
      "name": "python3",
      "display_name": "Python 3"
    },
    "language_info": {
      "name": "python"
    }
  },
  "cells": [
    {
      "cell_type": "code",
      "execution_count": 1,
      "metadata": {
        "id": "hOH_2-_fE3rz"
      },
      "outputs": [],
      "source": [
        "import pandas as pd"
      ]
    },
    {
      "cell_type": "markdown",
      "source": [
        "### Exemplos\n",
        "\n",
        "Dicinários gerados com coleta manual de dados de gols pró e gols contra do campeonato brasileiro de 2025 até a 8ª rodada."
      ],
      "metadata": {
        "id": "sQufH9hGFNa2"
      }
    },
    {
      "cell_type": "code",
      "source": [
        "gols_pro = {\"Flamengo\":17,\n",
        "            \"Fluminense\":10,\n",
        "            \"Vasco\":7,\n",
        "            \"Botafogo\":10,\n",
        "            \"Palmeiras\":9,\n",
        "            \"Corinthians\":11,\n",
        "            \"São Paulo\":6,\n",
        "            \"Santos\":7}"
      ],
      "metadata": {
        "id": "Ei1ECpqkFMvq"
      },
      "execution_count": 2,
      "outputs": []
    },
    {
      "cell_type": "code",
      "source": [
        "gols_contra = {\"Flamengo\":4,\n",
        "            \"Fluminense\":10,\n",
        "            \"Vasco\":11,\n",
        "            \"Botafogo\":5,\n",
        "            \"Palmeiras\":3,\n",
        "            \"Corinthians\":14,\n",
        "            \"São Paulo\":6,\n",
        "            \"Santos\":10}"
      ],
      "metadata": {
        "id": "RfCpNQBkLCsP"
      },
      "execution_count": 3,
      "outputs": []
    },
    {
      "cell_type": "markdown",
      "source": [
        "### Criando Series"
      ],
      "metadata": {
        "id": "ipMcWABt1QCW"
      }
    },
    {
      "cell_type": "code",
      "source": [
        "series_pro = pd.Series(gols_pro)\n",
        "series_contra = pd.Series(gols_contra)"
      ],
      "metadata": {
        "id": "aSd9NA9lFaIc"
      },
      "execution_count": 4,
      "outputs": []
    },
    {
      "cell_type": "markdown",
      "source": [
        "### A partir dos gols pró e gols contra, passa a ser possível calcular o saldo de gols"
      ],
      "metadata": {
        "id": "ETcYvmhH1WZD"
      }
    },
    {
      "cell_type": "markdown",
      "source": [
        "Retornar Serie com o saldo de gols a partir de operação entre as duas séries existentes."
      ],
      "metadata": {
        "id": "lWw21LYg1gcF"
      }
    },
    {
      "cell_type": "code",
      "source": [
        "serie_saldo_gols = series_pro - series_contra"
      ],
      "metadata": {
        "id": "jd2se-uNso-1"
      },
      "execution_count": 5,
      "outputs": []
    },
    {
      "cell_type": "code",
      "source": [
        "display(serie_saldo_gols)"
      ],
      "metadata": {
        "colab": {
          "base_uri": "https://localhost:8080/",
          "height": 335
        },
        "id": "9Ck1yRR_1mlj",
        "outputId": "bfb2eb3a-b5cc-434b-eebe-cf2eafba9b23"
      },
      "execution_count": 6,
      "outputs": [
        {
          "output_type": "display_data",
          "data": {
            "text/plain": [
              "Flamengo       13\n",
              "Fluminense      0\n",
              "Vasco          -4\n",
              "Botafogo        5\n",
              "Palmeiras       6\n",
              "Corinthians    -3\n",
              "São Paulo       0\n",
              "Santos         -3\n",
              "dtype: int64"
            ],
            "text/html": [
              "<div>\n",
              "<style scoped>\n",
              "    .dataframe tbody tr th:only-of-type {\n",
              "        vertical-align: middle;\n",
              "    }\n",
              "\n",
              "    .dataframe tbody tr th {\n",
              "        vertical-align: top;\n",
              "    }\n",
              "\n",
              "    .dataframe thead th {\n",
              "        text-align: right;\n",
              "    }\n",
              "</style>\n",
              "<table border=\"1\" class=\"dataframe\">\n",
              "  <thead>\n",
              "    <tr style=\"text-align: right;\">\n",
              "      <th></th>\n",
              "      <th>0</th>\n",
              "    </tr>\n",
              "  </thead>\n",
              "  <tbody>\n",
              "    <tr>\n",
              "      <th>Flamengo</th>\n",
              "      <td>13</td>\n",
              "    </tr>\n",
              "    <tr>\n",
              "      <th>Fluminense</th>\n",
              "      <td>0</td>\n",
              "    </tr>\n",
              "    <tr>\n",
              "      <th>Vasco</th>\n",
              "      <td>-4</td>\n",
              "    </tr>\n",
              "    <tr>\n",
              "      <th>Botafogo</th>\n",
              "      <td>5</td>\n",
              "    </tr>\n",
              "    <tr>\n",
              "      <th>Palmeiras</th>\n",
              "      <td>6</td>\n",
              "    </tr>\n",
              "    <tr>\n",
              "      <th>Corinthians</th>\n",
              "      <td>-3</td>\n",
              "    </tr>\n",
              "    <tr>\n",
              "      <th>São Paulo</th>\n",
              "      <td>0</td>\n",
              "    </tr>\n",
              "    <tr>\n",
              "      <th>Santos</th>\n",
              "      <td>-3</td>\n",
              "    </tr>\n",
              "  </tbody>\n",
              "</table>\n",
              "</div><br><label><b>dtype:</b> int64</label>"
            ]
          },
          "metadata": {}
        }
      ]
    },
    {
      "cell_type": "markdown",
      "source": [
        "Retornar Serie com valores booleanos da verificação de saldo positivo (maior que zero)"
      ],
      "metadata": {
        "id": "3l3qvMkW1l5d"
      }
    },
    {
      "cell_type": "code",
      "source": [
        "serie_saldo_positivo = series_pro > series_contra"
      ],
      "metadata": {
        "id": "whev3PfPtDJc"
      },
      "execution_count": 7,
      "outputs": []
    },
    {
      "cell_type": "code",
      "source": [
        "display(serie_saldo_positivo)"
      ],
      "metadata": {
        "colab": {
          "base_uri": "https://localhost:8080/",
          "height": 335
        },
        "id": "TVSpwEbi1wc4",
        "outputId": "573e8147-8b3c-4ab0-f57d-d7a816b419e5"
      },
      "execution_count": 8,
      "outputs": [
        {
          "output_type": "display_data",
          "data": {
            "text/plain": [
              "Flamengo        True\n",
              "Fluminense     False\n",
              "Vasco          False\n",
              "Botafogo        True\n",
              "Palmeiras       True\n",
              "Corinthians    False\n",
              "São Paulo      False\n",
              "Santos         False\n",
              "dtype: bool"
            ],
            "text/html": [
              "<div>\n",
              "<style scoped>\n",
              "    .dataframe tbody tr th:only-of-type {\n",
              "        vertical-align: middle;\n",
              "    }\n",
              "\n",
              "    .dataframe tbody tr th {\n",
              "        vertical-align: top;\n",
              "    }\n",
              "\n",
              "    .dataframe thead th {\n",
              "        text-align: right;\n",
              "    }\n",
              "</style>\n",
              "<table border=\"1\" class=\"dataframe\">\n",
              "  <thead>\n",
              "    <tr style=\"text-align: right;\">\n",
              "      <th></th>\n",
              "      <th>0</th>\n",
              "    </tr>\n",
              "  </thead>\n",
              "  <tbody>\n",
              "    <tr>\n",
              "      <th>Flamengo</th>\n",
              "      <td>True</td>\n",
              "    </tr>\n",
              "    <tr>\n",
              "      <th>Fluminense</th>\n",
              "      <td>False</td>\n",
              "    </tr>\n",
              "    <tr>\n",
              "      <th>Vasco</th>\n",
              "      <td>False</td>\n",
              "    </tr>\n",
              "    <tr>\n",
              "      <th>Botafogo</th>\n",
              "      <td>True</td>\n",
              "    </tr>\n",
              "    <tr>\n",
              "      <th>Palmeiras</th>\n",
              "      <td>True</td>\n",
              "    </tr>\n",
              "    <tr>\n",
              "      <th>Corinthians</th>\n",
              "      <td>False</td>\n",
              "    </tr>\n",
              "    <tr>\n",
              "      <th>São Paulo</th>\n",
              "      <td>False</td>\n",
              "    </tr>\n",
              "    <tr>\n",
              "      <th>Santos</th>\n",
              "      <td>False</td>\n",
              "    </tr>\n",
              "  </tbody>\n",
              "</table>\n",
              "</div><br><label><b>dtype:</b> bool</label>"
            ]
          },
          "metadata": {}
        }
      ]
    },
    {
      "cell_type": "markdown",
      "source": [
        "O mesmo resultado pode ser obtido usando a Serie de saldo de gols, criada inicialmente"
      ],
      "metadata": {
        "id": "q-NTJ1QT28n1"
      }
    },
    {
      "cell_type": "code",
      "source": [
        "serie_saldo_positivo = serie_saldo_gols > 0"
      ],
      "metadata": {
        "id": "Vkfu7OtX3CD-"
      },
      "execution_count": 15,
      "outputs": []
    },
    {
      "cell_type": "code",
      "source": [
        "display(serie_saldo_positivo)"
      ],
      "metadata": {
        "colab": {
          "base_uri": "https://localhost:8080/",
          "height": 335
        },
        "id": "6Dv_NaLR3HeA",
        "outputId": "77807354-9761-408f-963b-a1fe55d3ac85"
      },
      "execution_count": 16,
      "outputs": [
        {
          "output_type": "display_data",
          "data": {
            "text/plain": [
              "Flamengo        True\n",
              "Fluminense     False\n",
              "Vasco          False\n",
              "Botafogo        True\n",
              "Palmeiras       True\n",
              "Corinthians    False\n",
              "São Paulo      False\n",
              "Santos         False\n",
              "dtype: bool"
            ],
            "text/html": [
              "<div>\n",
              "<style scoped>\n",
              "    .dataframe tbody tr th:only-of-type {\n",
              "        vertical-align: middle;\n",
              "    }\n",
              "\n",
              "    .dataframe tbody tr th {\n",
              "        vertical-align: top;\n",
              "    }\n",
              "\n",
              "    .dataframe thead th {\n",
              "        text-align: right;\n",
              "    }\n",
              "</style>\n",
              "<table border=\"1\" class=\"dataframe\">\n",
              "  <thead>\n",
              "    <tr style=\"text-align: right;\">\n",
              "      <th></th>\n",
              "      <th>0</th>\n",
              "    </tr>\n",
              "  </thead>\n",
              "  <tbody>\n",
              "    <tr>\n",
              "      <th>Flamengo</th>\n",
              "      <td>True</td>\n",
              "    </tr>\n",
              "    <tr>\n",
              "      <th>Fluminense</th>\n",
              "      <td>False</td>\n",
              "    </tr>\n",
              "    <tr>\n",
              "      <th>Vasco</th>\n",
              "      <td>False</td>\n",
              "    </tr>\n",
              "    <tr>\n",
              "      <th>Botafogo</th>\n",
              "      <td>True</td>\n",
              "    </tr>\n",
              "    <tr>\n",
              "      <th>Palmeiras</th>\n",
              "      <td>True</td>\n",
              "    </tr>\n",
              "    <tr>\n",
              "      <th>Corinthians</th>\n",
              "      <td>False</td>\n",
              "    </tr>\n",
              "    <tr>\n",
              "      <th>São Paulo</th>\n",
              "      <td>False</td>\n",
              "    </tr>\n",
              "    <tr>\n",
              "      <th>Santos</th>\n",
              "      <td>False</td>\n",
              "    </tr>\n",
              "  </tbody>\n",
              "</table>\n",
              "</div><br><label><b>dtype:</b> bool</label>"
            ]
          },
          "metadata": {}
        }
      ]
    },
    {
      "cell_type": "markdown",
      "source": [
        "Retornando uma nova Serie com a verificação de quais equipes possuem gols pró a partir de 10"
      ],
      "metadata": {
        "id": "Zrk_vVrV11-O"
      }
    },
    {
      "cell_type": "code",
      "source": [
        "serie_maior_que_10_gols = series_pro >= 10"
      ],
      "metadata": {
        "id": "NKvLa5x_uP8U"
      },
      "execution_count": 9,
      "outputs": []
    },
    {
      "cell_type": "code",
      "source": [
        "display(serie_maior_que_10_gols)"
      ],
      "metadata": {
        "colab": {
          "base_uri": "https://localhost:8080/",
          "height": 335
        },
        "id": "C3VD5Zxp2IP5",
        "outputId": "40f0e9a6-809b-4ca6-be74-a727ed09b74a"
      },
      "execution_count": 10,
      "outputs": [
        {
          "output_type": "display_data",
          "data": {
            "text/plain": [
              "Flamengo        True\n",
              "Fluminense      True\n",
              "Vasco          False\n",
              "Botafogo        True\n",
              "Palmeiras      False\n",
              "Corinthians     True\n",
              "São Paulo      False\n",
              "Santos         False\n",
              "dtype: bool"
            ],
            "text/html": [
              "<div>\n",
              "<style scoped>\n",
              "    .dataframe tbody tr th:only-of-type {\n",
              "        vertical-align: middle;\n",
              "    }\n",
              "\n",
              "    .dataframe tbody tr th {\n",
              "        vertical-align: top;\n",
              "    }\n",
              "\n",
              "    .dataframe thead th {\n",
              "        text-align: right;\n",
              "    }\n",
              "</style>\n",
              "<table border=\"1\" class=\"dataframe\">\n",
              "  <thead>\n",
              "    <tr style=\"text-align: right;\">\n",
              "      <th></th>\n",
              "      <th>0</th>\n",
              "    </tr>\n",
              "  </thead>\n",
              "  <tbody>\n",
              "    <tr>\n",
              "      <th>Flamengo</th>\n",
              "      <td>True</td>\n",
              "    </tr>\n",
              "    <tr>\n",
              "      <th>Fluminense</th>\n",
              "      <td>True</td>\n",
              "    </tr>\n",
              "    <tr>\n",
              "      <th>Vasco</th>\n",
              "      <td>False</td>\n",
              "    </tr>\n",
              "    <tr>\n",
              "      <th>Botafogo</th>\n",
              "      <td>True</td>\n",
              "    </tr>\n",
              "    <tr>\n",
              "      <th>Palmeiras</th>\n",
              "      <td>False</td>\n",
              "    </tr>\n",
              "    <tr>\n",
              "      <th>Corinthians</th>\n",
              "      <td>True</td>\n",
              "    </tr>\n",
              "    <tr>\n",
              "      <th>São Paulo</th>\n",
              "      <td>False</td>\n",
              "    </tr>\n",
              "    <tr>\n",
              "      <th>Santos</th>\n",
              "      <td>False</td>\n",
              "    </tr>\n",
              "  </tbody>\n",
              "</table>\n",
              "</div><br><label><b>dtype:</b> bool</label>"
            ]
          },
          "metadata": {}
        }
      ]
    },
    {
      "cell_type": "markdown",
      "source": [
        "Criando uma Serie para verificar situações em que as duas afirmações sejam verdadeiras"
      ],
      "metadata": {
        "id": "HIBybCbx2SHl"
      }
    },
    {
      "cell_type": "code",
      "source": [
        "serie_resultado = serie_maior_que_10_gols & serie_saldo_positivo"
      ],
      "metadata": {
        "id": "91aAGEABnLSR"
      },
      "execution_count": 17,
      "outputs": []
    },
    {
      "cell_type": "code",
      "source": [
        "display(serie_resultado)"
      ],
      "metadata": {
        "colab": {
          "base_uri": "https://localhost:8080/",
          "height": 335
        },
        "id": "lTqhiqAzwuN4",
        "outputId": "4b45c4cf-d222-4fc5-c5f3-b01767fca998"
      },
      "execution_count": 18,
      "outputs": [
        {
          "output_type": "display_data",
          "data": {
            "text/plain": [
              "Flamengo        True\n",
              "Fluminense     False\n",
              "Vasco          False\n",
              "Botafogo        True\n",
              "Palmeiras      False\n",
              "Corinthians    False\n",
              "São Paulo      False\n",
              "Santos         False\n",
              "dtype: bool"
            ],
            "text/html": [
              "<div>\n",
              "<style scoped>\n",
              "    .dataframe tbody tr th:only-of-type {\n",
              "        vertical-align: middle;\n",
              "    }\n",
              "\n",
              "    .dataframe tbody tr th {\n",
              "        vertical-align: top;\n",
              "    }\n",
              "\n",
              "    .dataframe thead th {\n",
              "        text-align: right;\n",
              "    }\n",
              "</style>\n",
              "<table border=\"1\" class=\"dataframe\">\n",
              "  <thead>\n",
              "    <tr style=\"text-align: right;\">\n",
              "      <th></th>\n",
              "      <th>0</th>\n",
              "    </tr>\n",
              "  </thead>\n",
              "  <tbody>\n",
              "    <tr>\n",
              "      <th>Flamengo</th>\n",
              "      <td>True</td>\n",
              "    </tr>\n",
              "    <tr>\n",
              "      <th>Fluminense</th>\n",
              "      <td>False</td>\n",
              "    </tr>\n",
              "    <tr>\n",
              "      <th>Vasco</th>\n",
              "      <td>False</td>\n",
              "    </tr>\n",
              "    <tr>\n",
              "      <th>Botafogo</th>\n",
              "      <td>True</td>\n",
              "    </tr>\n",
              "    <tr>\n",
              "      <th>Palmeiras</th>\n",
              "      <td>False</td>\n",
              "    </tr>\n",
              "    <tr>\n",
              "      <th>Corinthians</th>\n",
              "      <td>False</td>\n",
              "    </tr>\n",
              "    <tr>\n",
              "      <th>São Paulo</th>\n",
              "      <td>False</td>\n",
              "    </tr>\n",
              "    <tr>\n",
              "      <th>Santos</th>\n",
              "      <td>False</td>\n",
              "    </tr>\n",
              "  </tbody>\n",
              "</table>\n",
              "</div><br><label><b>dtype:</b> bool</label>"
            ]
          },
          "metadata": {}
        }
      ]
    },
    {
      "cell_type": "markdown",
      "source": [
        "A partir do resultado buscado, o resultado pode ser convertido em uma lista para retornar **quais** são as equipes que atendem ambos os critérios"
      ],
      "metadata": {
        "id": "aG8JG9Xy2aOj"
      }
    },
    {
      "cell_type": "code",
      "source": [
        "resultado = serie_resultado[serie_resultado == True].index.to_list()"
      ],
      "metadata": {
        "id": "0Mne4IgPwpRY"
      },
      "execution_count": 19,
      "outputs": []
    },
    {
      "cell_type": "code",
      "source": [
        "print(resultado)"
      ],
      "metadata": {
        "colab": {
          "base_uri": "https://localhost:8080/"
        },
        "id": "bSUG6r5MyZJ3",
        "outputId": "bbef4735-a8e4-421b-b4ca-61b107d59c5e"
      },
      "execution_count": 20,
      "outputs": [
        {
          "output_type": "stream",
          "name": "stdout",
          "text": [
            "['Flamengo', 'Botafogo']\n"
          ]
        }
      ]
    }
  ]
}