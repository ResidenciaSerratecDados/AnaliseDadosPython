{
  "nbformat": 4,
  "nbformat_minor": 0,
  "metadata": {
    "colab": {
      "provenance": []
    },
    "kernelspec": {
      "name": "python3",
      "display_name": "Python 3"
    },
    "language_info": {
      "name": "python"
    }
  },
  "cells": [
    {
      "cell_type": "markdown",
      "source": [
        "### Precisamos antes de tudo, importar a biblioteca. É um padrão abreviar o nome da biblioteca para 'pd' por meio de um alias."
      ],
      "metadata": {
        "id": "GMnMA56N2x9P"
      }
    },
    {
      "cell_type": "code",
      "execution_count": 14,
      "metadata": {
        "id": "Zoj-OXI72rN0"
      },
      "outputs": [],
      "source": [
        "import pandas as pd"
      ]
    },
    {
      "cell_type": "markdown",
      "source": [
        "# Séries - Análise Unidimensional"
      ],
      "metadata": {
        "id": "aFa0gl1ekG_c"
      }
    },
    {
      "cell_type": "markdown",
      "source": [
        "### Uma série em pandas representa uma estrutura unidimensional, junto a um índice."
      ],
      "metadata": {
        "id": "vV7Fy1V6k0jB"
      }
    },
    {
      "cell_type": "markdown",
      "source": [
        "Vamos criar uma série números múltiplos de 10."
      ],
      "metadata": {
        "id": "OnI0i4GslQBe"
      }
    },
    {
      "cell_type": "code",
      "source": [
        "serie = pd.Series([10, 20, 30, 40, 50, 60, 70, 80, 90])"
      ],
      "metadata": {
        "id": "QaSMlnJvkOtA"
      },
      "execution_count": 61,
      "outputs": []
    },
    {
      "cell_type": "markdown",
      "source": [
        "Podemos usar os métodos Head e Tail para ler os primeiros e últimos elementos em uma série"
      ],
      "metadata": {
        "id": "url99REXloVV"
      }
    },
    {
      "cell_type": "code",
      "source": [
        "serie.head()"
      ],
      "metadata": {
        "id": "fp25sNFFlCrS",
        "colab": {
          "base_uri": "https://localhost:8080/",
          "height": 241
        },
        "outputId": "146d5f9a-9bf7-4cc3-b8b2-39a69bd2385f"
      },
      "execution_count": 62,
      "outputs": [
        {
          "output_type": "execute_result",
          "data": {
            "text/plain": [
              "0    10\n",
              "1    20\n",
              "2    30\n",
              "3    40\n",
              "4    50\n",
              "dtype: int64"
            ],
            "text/html": [
              "<div>\n",
              "<style scoped>\n",
              "    .dataframe tbody tr th:only-of-type {\n",
              "        vertical-align: middle;\n",
              "    }\n",
              "\n",
              "    .dataframe tbody tr th {\n",
              "        vertical-align: top;\n",
              "    }\n",
              "\n",
              "    .dataframe thead th {\n",
              "        text-align: right;\n",
              "    }\n",
              "</style>\n",
              "<table border=\"1\" class=\"dataframe\">\n",
              "  <thead>\n",
              "    <tr style=\"text-align: right;\">\n",
              "      <th></th>\n",
              "      <th>0</th>\n",
              "    </tr>\n",
              "  </thead>\n",
              "  <tbody>\n",
              "    <tr>\n",
              "      <th>0</th>\n",
              "      <td>10</td>\n",
              "    </tr>\n",
              "    <tr>\n",
              "      <th>1</th>\n",
              "      <td>20</td>\n",
              "    </tr>\n",
              "    <tr>\n",
              "      <th>2</th>\n",
              "      <td>30</td>\n",
              "    </tr>\n",
              "    <tr>\n",
              "      <th>3</th>\n",
              "      <td>40</td>\n",
              "    </tr>\n",
              "    <tr>\n",
              "      <th>4</th>\n",
              "      <td>50</td>\n",
              "    </tr>\n",
              "  </tbody>\n",
              "</table>\n",
              "</div><br><label><b>dtype:</b> int64</label>"
            ]
          },
          "metadata": {},
          "execution_count": 62
        }
      ]
    },
    {
      "cell_type": "code",
      "source": [
        "serie.head(3)"
      ],
      "metadata": {
        "colab": {
          "base_uri": "https://localhost:8080/",
          "height": 178
        },
        "id": "IjAmp9pGwyhc",
        "outputId": "463972d9-61db-4192-d0b6-c8b90d30949b"
      },
      "execution_count": 63,
      "outputs": [
        {
          "output_type": "execute_result",
          "data": {
            "text/plain": [
              "0    10\n",
              "1    20\n",
              "2    30\n",
              "dtype: int64"
            ],
            "text/html": [
              "<div>\n",
              "<style scoped>\n",
              "    .dataframe tbody tr th:only-of-type {\n",
              "        vertical-align: middle;\n",
              "    }\n",
              "\n",
              "    .dataframe tbody tr th {\n",
              "        vertical-align: top;\n",
              "    }\n",
              "\n",
              "    .dataframe thead th {\n",
              "        text-align: right;\n",
              "    }\n",
              "</style>\n",
              "<table border=\"1\" class=\"dataframe\">\n",
              "  <thead>\n",
              "    <tr style=\"text-align: right;\">\n",
              "      <th></th>\n",
              "      <th>0</th>\n",
              "    </tr>\n",
              "  </thead>\n",
              "  <tbody>\n",
              "    <tr>\n",
              "      <th>0</th>\n",
              "      <td>10</td>\n",
              "    </tr>\n",
              "    <tr>\n",
              "      <th>1</th>\n",
              "      <td>20</td>\n",
              "    </tr>\n",
              "    <tr>\n",
              "      <th>2</th>\n",
              "      <td>30</td>\n",
              "    </tr>\n",
              "  </tbody>\n",
              "</table>\n",
              "</div><br><label><b>dtype:</b> int64</label>"
            ]
          },
          "metadata": {},
          "execution_count": 63
        }
      ]
    },
    {
      "cell_type": "code",
      "source": [
        "serie.tail()"
      ],
      "metadata": {
        "id": "_QHfbBll5kKz",
        "colab": {
          "base_uri": "https://localhost:8080/",
          "height": 241
        },
        "outputId": "5e687858-632e-460d-fd0b-43afd180cd3d"
      },
      "execution_count": 64,
      "outputs": [
        {
          "output_type": "execute_result",
          "data": {
            "text/plain": [
              "4    50\n",
              "5    60\n",
              "6    70\n",
              "7    80\n",
              "8    90\n",
              "dtype: int64"
            ],
            "text/html": [
              "<div>\n",
              "<style scoped>\n",
              "    .dataframe tbody tr th:only-of-type {\n",
              "        vertical-align: middle;\n",
              "    }\n",
              "\n",
              "    .dataframe tbody tr th {\n",
              "        vertical-align: top;\n",
              "    }\n",
              "\n",
              "    .dataframe thead th {\n",
              "        text-align: right;\n",
              "    }\n",
              "</style>\n",
              "<table border=\"1\" class=\"dataframe\">\n",
              "  <thead>\n",
              "    <tr style=\"text-align: right;\">\n",
              "      <th></th>\n",
              "      <th>0</th>\n",
              "    </tr>\n",
              "  </thead>\n",
              "  <tbody>\n",
              "    <tr>\n",
              "      <th>4</th>\n",
              "      <td>50</td>\n",
              "    </tr>\n",
              "    <tr>\n",
              "      <th>5</th>\n",
              "      <td>60</td>\n",
              "    </tr>\n",
              "    <tr>\n",
              "      <th>6</th>\n",
              "      <td>70</td>\n",
              "    </tr>\n",
              "    <tr>\n",
              "      <th>7</th>\n",
              "      <td>80</td>\n",
              "    </tr>\n",
              "    <tr>\n",
              "      <th>8</th>\n",
              "      <td>90</td>\n",
              "    </tr>\n",
              "  </tbody>\n",
              "</table>\n",
              "</div><br><label><b>dtype:</b> int64</label>"
            ]
          },
          "metadata": {},
          "execution_count": 64
        }
      ]
    },
    {
      "cell_type": "code",
      "source": [
        "print(serie)"
      ],
      "metadata": {
        "id": "5wNVY4HZ3Ltt",
        "colab": {
          "base_uri": "https://localhost:8080/"
        },
        "outputId": "36e6f18d-b636-4f2e-d704-8b0ca29be084"
      },
      "execution_count": 65,
      "outputs": [
        {
          "output_type": "stream",
          "name": "stdout",
          "text": [
            "0    10\n",
            "1    20\n",
            "2    30\n",
            "3    40\n",
            "4    50\n",
            "5    60\n",
            "6    70\n",
            "7    80\n",
            "8    90\n",
            "dtype: int64\n"
          ]
        }
      ]
    },
    {
      "cell_type": "code",
      "source": [
        "print(serie[3])"
      ],
      "metadata": {
        "colab": {
          "base_uri": "https://localhost:8080/"
        },
        "id": "kgUQqXVbws5s",
        "outputId": "ea8b860b-0631-43f1-a39c-ae77b1aa231c"
      },
      "execution_count": 66,
      "outputs": [
        {
          "output_type": "stream",
          "name": "stdout",
          "text": [
            "40\n"
          ]
        }
      ]
    },
    {
      "cell_type": "markdown",
      "source": [
        "Em arquivos do tipo ipynb (notebooks), é possível utilizar também o método display para exibir os dados."
      ],
      "metadata": {
        "id": "L0SAQB5rnq66"
      }
    },
    {
      "cell_type": "code",
      "source": [
        "display(serie)"
      ],
      "metadata": {
        "id": "XA_VhAdDnxMV",
        "colab": {
          "base_uri": "https://localhost:8080/",
          "height": 366
        },
        "outputId": "08e42e96-1098-41b4-cd85-db5515c1346b"
      },
      "execution_count": 67,
      "outputs": [
        {
          "output_type": "display_data",
          "data": {
            "text/plain": [
              "0    10\n",
              "1    20\n",
              "2    30\n",
              "3    40\n",
              "4    50\n",
              "5    60\n",
              "6    70\n",
              "7    80\n",
              "8    90\n",
              "dtype: int64"
            ],
            "text/html": [
              "<div>\n",
              "<style scoped>\n",
              "    .dataframe tbody tr th:only-of-type {\n",
              "        vertical-align: middle;\n",
              "    }\n",
              "\n",
              "    .dataframe tbody tr th {\n",
              "        vertical-align: top;\n",
              "    }\n",
              "\n",
              "    .dataframe thead th {\n",
              "        text-align: right;\n",
              "    }\n",
              "</style>\n",
              "<table border=\"1\" class=\"dataframe\">\n",
              "  <thead>\n",
              "    <tr style=\"text-align: right;\">\n",
              "      <th></th>\n",
              "      <th>0</th>\n",
              "    </tr>\n",
              "  </thead>\n",
              "  <tbody>\n",
              "    <tr>\n",
              "      <th>0</th>\n",
              "      <td>10</td>\n",
              "    </tr>\n",
              "    <tr>\n",
              "      <th>1</th>\n",
              "      <td>20</td>\n",
              "    </tr>\n",
              "    <tr>\n",
              "      <th>2</th>\n",
              "      <td>30</td>\n",
              "    </tr>\n",
              "    <tr>\n",
              "      <th>3</th>\n",
              "      <td>40</td>\n",
              "    </tr>\n",
              "    <tr>\n",
              "      <th>4</th>\n",
              "      <td>50</td>\n",
              "    </tr>\n",
              "    <tr>\n",
              "      <th>5</th>\n",
              "      <td>60</td>\n",
              "    </tr>\n",
              "    <tr>\n",
              "      <th>6</th>\n",
              "      <td>70</td>\n",
              "    </tr>\n",
              "    <tr>\n",
              "      <th>7</th>\n",
              "      <td>80</td>\n",
              "    </tr>\n",
              "    <tr>\n",
              "      <th>8</th>\n",
              "      <td>90</td>\n",
              "    </tr>\n",
              "  </tbody>\n",
              "</table>\n",
              "</div><br><label><b>dtype:</b> int64</label>"
            ]
          },
          "metadata": {}
        }
      ]
    },
    {
      "cell_type": "markdown",
      "source": [
        "Podemos acessar elementos da série através dos seus índices, assim como é feito nas listas."
      ],
      "metadata": {
        "id": "qs_4EQCb5BYz"
      }
    },
    {
      "cell_type": "code",
      "source": [
        "print(serie[3])"
      ],
      "metadata": {
        "id": "G04wEj1C5G6P",
        "colab": {
          "base_uri": "https://localhost:8080/"
        },
        "outputId": "9481bf36-1e7e-4f36-fedf-f07c4e8a398c"
      },
      "execution_count": 68,
      "outputs": [
        {
          "output_type": "stream",
          "name": "stdout",
          "text": [
            "40\n"
          ]
        }
      ]
    },
    {
      "cell_type": "code",
      "source": [
        "display(serie[4:7])"
      ],
      "metadata": {
        "id": "MJhVfqQJ5SHl",
        "colab": {
          "base_uri": "https://localhost:8080/",
          "height": 178
        },
        "outputId": "9c80a151-3e0c-40e9-e016-5d1e52c92dfe"
      },
      "execution_count": 69,
      "outputs": [
        {
          "output_type": "display_data",
          "data": {
            "text/plain": [
              "4    50\n",
              "5    60\n",
              "6    70\n",
              "dtype: int64"
            ],
            "text/html": [
              "<div>\n",
              "<style scoped>\n",
              "    .dataframe tbody tr th:only-of-type {\n",
              "        vertical-align: middle;\n",
              "    }\n",
              "\n",
              "    .dataframe tbody tr th {\n",
              "        vertical-align: top;\n",
              "    }\n",
              "\n",
              "    .dataframe thead th {\n",
              "        text-align: right;\n",
              "    }\n",
              "</style>\n",
              "<table border=\"1\" class=\"dataframe\">\n",
              "  <thead>\n",
              "    <tr style=\"text-align: right;\">\n",
              "      <th></th>\n",
              "      <th>0</th>\n",
              "    </tr>\n",
              "  </thead>\n",
              "  <tbody>\n",
              "    <tr>\n",
              "      <th>4</th>\n",
              "      <td>50</td>\n",
              "    </tr>\n",
              "    <tr>\n",
              "      <th>5</th>\n",
              "      <td>60</td>\n",
              "    </tr>\n",
              "    <tr>\n",
              "      <th>6</th>\n",
              "      <td>70</td>\n",
              "    </tr>\n",
              "  </tbody>\n",
              "</table>\n",
              "</div><br><label><b>dtype:</b> int64</label>"
            ]
          },
          "metadata": {}
        }
      ]
    },
    {
      "cell_type": "markdown",
      "source": [
        "Podemos obter informações estatísticas básicas a partir da série."
      ],
      "metadata": {
        "id": "GR2oY63Cn5WZ"
      }
    },
    {
      "cell_type": "code",
      "source": [
        "serie.describe()"
      ],
      "metadata": {
        "id": "RLUXB_yI4ZlG",
        "colab": {
          "base_uri": "https://localhost:8080/",
          "height": 335
        },
        "outputId": "314d544f-34ca-4687-a716-3947b48ef9db"
      },
      "execution_count": 70,
      "outputs": [
        {
          "output_type": "execute_result",
          "data": {
            "text/plain": [
              "count     9.000000\n",
              "mean     50.000000\n",
              "std      27.386128\n",
              "min      10.000000\n",
              "25%      30.000000\n",
              "50%      50.000000\n",
              "75%      70.000000\n",
              "max      90.000000\n",
              "dtype: float64"
            ],
            "text/html": [
              "<div>\n",
              "<style scoped>\n",
              "    .dataframe tbody tr th:only-of-type {\n",
              "        vertical-align: middle;\n",
              "    }\n",
              "\n",
              "    .dataframe tbody tr th {\n",
              "        vertical-align: top;\n",
              "    }\n",
              "\n",
              "    .dataframe thead th {\n",
              "        text-align: right;\n",
              "    }\n",
              "</style>\n",
              "<table border=\"1\" class=\"dataframe\">\n",
              "  <thead>\n",
              "    <tr style=\"text-align: right;\">\n",
              "      <th></th>\n",
              "      <th>0</th>\n",
              "    </tr>\n",
              "  </thead>\n",
              "  <tbody>\n",
              "    <tr>\n",
              "      <th>count</th>\n",
              "      <td>9.000000</td>\n",
              "    </tr>\n",
              "    <tr>\n",
              "      <th>mean</th>\n",
              "      <td>50.000000</td>\n",
              "    </tr>\n",
              "    <tr>\n",
              "      <th>std</th>\n",
              "      <td>27.386128</td>\n",
              "    </tr>\n",
              "    <tr>\n",
              "      <th>min</th>\n",
              "      <td>10.000000</td>\n",
              "    </tr>\n",
              "    <tr>\n",
              "      <th>25%</th>\n",
              "      <td>30.000000</td>\n",
              "    </tr>\n",
              "    <tr>\n",
              "      <th>50%</th>\n",
              "      <td>50.000000</td>\n",
              "    </tr>\n",
              "    <tr>\n",
              "      <th>75%</th>\n",
              "      <td>70.000000</td>\n",
              "    </tr>\n",
              "    <tr>\n",
              "      <th>max</th>\n",
              "      <td>90.000000</td>\n",
              "    </tr>\n",
              "  </tbody>\n",
              "</table>\n",
              "</div><br><label><b>dtype:</b> float64</label>"
            ]
          },
          "metadata": {},
          "execution_count": 70
        }
      ]
    },
    {
      "cell_type": "markdown",
      "source": [
        "Média Aritimética (Soma de todos elementos dividido pela quantidade de elementos)"
      ],
      "metadata": {
        "id": "Fb7quGf-1s9d"
      }
    },
    {
      "cell_type": "code",
      "source": [
        "tamanho = serie.size\n",
        "print(f'Total de Elementos: {tamanho}')"
      ],
      "metadata": {
        "id": "EAd_6sYL2j2f",
        "colab": {
          "base_uri": "https://localhost:8080/"
        },
        "outputId": "f9372f79-cde3-4ea8-da1e-39e554e3d646"
      },
      "execution_count": 71,
      "outputs": [
        {
          "output_type": "stream",
          "name": "stdout",
          "text": [
            "Total de Elementos: 9\n"
          ]
        }
      ]
    },
    {
      "cell_type": "code",
      "source": [
        "media = serie.mean()\n",
        "print(f'Média: {media}')"
      ],
      "metadata": {
        "id": "OvOvYFnioC_d",
        "colab": {
          "base_uri": "https://localhost:8080/"
        },
        "outputId": "3a42ea50-c138-4d10-f8ce-601aa0b057e1"
      },
      "execution_count": 72,
      "outputs": [
        {
          "output_type": "stream",
          "name": "stdout",
          "text": [
            "Média: 50.0\n"
          ]
        }
      ]
    },
    {
      "cell_type": "markdown",
      "source": [
        "Maior Valor"
      ],
      "metadata": {
        "id": "EWyu2kvo13fA"
      }
    },
    {
      "cell_type": "code",
      "source": [
        "maximo = serie.max()\n",
        "print(f'Maior Valor: {maximo}')"
      ],
      "metadata": {
        "id": "8CTTy7Skpc5n",
        "colab": {
          "base_uri": "https://localhost:8080/"
        },
        "outputId": "e90e2bda-3d8c-4d5a-e169-029cfe0d39b4"
      },
      "execution_count": 73,
      "outputs": [
        {
          "output_type": "stream",
          "name": "stdout",
          "text": [
            "Maior Valor: 90\n"
          ]
        }
      ]
    },
    {
      "cell_type": "markdown",
      "source": [
        "Menor Valor"
      ],
      "metadata": {
        "id": "FlAj0ZVD14ns"
      }
    },
    {
      "cell_type": "code",
      "source": [
        "minimo = serie.min()\n",
        "print(f'Menor Valor: {minimo}')"
      ],
      "metadata": {
        "id": "zpWRBvr_piOT",
        "colab": {
          "base_uri": "https://localhost:8080/"
        },
        "outputId": "b83f0979-f3f1-46be-969d-b7ce8e0edab4"
      },
      "execution_count": 74,
      "outputs": [
        {
          "output_type": "stream",
          "name": "stdout",
          "text": [
            "Menor Valor: 10\n"
          ]
        }
      ]
    },
    {
      "cell_type": "markdown",
      "source": [
        "A Mediana, o elemento localizado no centro ao considerar a série ordenada em ordem crescente."
      ],
      "metadata": {
        "id": "FN3R7VUq17AA"
      }
    },
    {
      "cell_type": "code",
      "source": [
        "mediana = serie.median()\n",
        "print(f'Mediana: {mediana}')"
      ],
      "metadata": {
        "id": "sUtfWs_2ppyJ",
        "colab": {
          "base_uri": "https://localhost:8080/"
        },
        "outputId": "0aa0ed90-a593-4a55-aee4-c399fa114729"
      },
      "execution_count": 75,
      "outputs": [
        {
          "output_type": "stream",
          "name": "stdout",
          "text": [
            "Mediana: 50.0\n"
          ]
        }
      ]
    },
    {
      "cell_type": "markdown",
      "source": [
        "Vamos adicionar mais um elemento no próximo índice da série"
      ],
      "metadata": {
        "id": "qEom9dwh1cmX"
      }
    },
    {
      "cell_type": "code",
      "source": [
        "serie[9] = 100\n",
        "print(serie)"
      ],
      "metadata": {
        "id": "AoaBbWAb1KqA",
        "colab": {
          "base_uri": "https://localhost:8080/"
        },
        "outputId": "1ad71d7e-4392-4317-c259-7d14da3639de"
      },
      "execution_count": 76,
      "outputs": [
        {
          "output_type": "stream",
          "name": "stdout",
          "text": [
            "0     10\n",
            "1     20\n",
            "2     30\n",
            "3     40\n",
            "4     50\n",
            "5     60\n",
            "6     70\n",
            "7     80\n",
            "8     90\n",
            "9    100\n",
            "dtype: int64\n"
          ]
        }
      ]
    },
    {
      "cell_type": "markdown",
      "source": [
        "Se a mediana é o elemento central, como calculá-la em um cojunto de elementos com número de itens par?"
      ],
      "metadata": {
        "id": "ZOEsUzxm3SjH"
      }
    },
    {
      "cell_type": "code",
      "source": [
        "mediana = serie.median()\n",
        "print(f'Mediana: {mediana}')"
      ],
      "metadata": {
        "id": "vZeXgkPs3SOX",
        "colab": {
          "base_uri": "https://localhost:8080/"
        },
        "outputId": "e228c7f5-ac30-41a4-e6b6-2ef2aa6df3a5"
      },
      "execution_count": 77,
      "outputs": [
        {
          "output_type": "stream",
          "name": "stdout",
          "text": [
            "Mediana: 55.0\n"
          ]
        }
      ]
    },
    {
      "cell_type": "markdown",
      "source": [
        "É possível realizar ações de filtragem na série"
      ],
      "metadata": {
        "id": "z72HDlASTndl"
      }
    },
    {
      "cell_type": "code",
      "source": [
        "display(serie[serie > 30])"
      ],
      "metadata": {
        "id": "1bLWu5fzUA_0",
        "colab": {
          "base_uri": "https://localhost:8080/",
          "height": 304
        },
        "outputId": "374507c6-d9b9-4f53-ca89-db04c836cc57"
      },
      "execution_count": 78,
      "outputs": [
        {
          "output_type": "display_data",
          "data": {
            "text/plain": [
              "3     40\n",
              "4     50\n",
              "5     60\n",
              "6     70\n",
              "7     80\n",
              "8     90\n",
              "9    100\n",
              "dtype: int64"
            ],
            "text/html": [
              "<div>\n",
              "<style scoped>\n",
              "    .dataframe tbody tr th:only-of-type {\n",
              "        vertical-align: middle;\n",
              "    }\n",
              "\n",
              "    .dataframe tbody tr th {\n",
              "        vertical-align: top;\n",
              "    }\n",
              "\n",
              "    .dataframe thead th {\n",
              "        text-align: right;\n",
              "    }\n",
              "</style>\n",
              "<table border=\"1\" class=\"dataframe\">\n",
              "  <thead>\n",
              "    <tr style=\"text-align: right;\">\n",
              "      <th></th>\n",
              "      <th>0</th>\n",
              "    </tr>\n",
              "  </thead>\n",
              "  <tbody>\n",
              "    <tr>\n",
              "      <th>3</th>\n",
              "      <td>40</td>\n",
              "    </tr>\n",
              "    <tr>\n",
              "      <th>4</th>\n",
              "      <td>50</td>\n",
              "    </tr>\n",
              "    <tr>\n",
              "      <th>5</th>\n",
              "      <td>60</td>\n",
              "    </tr>\n",
              "    <tr>\n",
              "      <th>6</th>\n",
              "      <td>70</td>\n",
              "    </tr>\n",
              "    <tr>\n",
              "      <th>7</th>\n",
              "      <td>80</td>\n",
              "    </tr>\n",
              "    <tr>\n",
              "      <th>8</th>\n",
              "      <td>90</td>\n",
              "    </tr>\n",
              "    <tr>\n",
              "      <th>9</th>\n",
              "      <td>100</td>\n",
              "    </tr>\n",
              "  </tbody>\n",
              "</table>\n",
              "</div><br><label><b>dtype:</b> int64</label>"
            ]
          },
          "metadata": {}
        }
      ]
    },
    {
      "cell_type": "code",
      "source": [
        "display(serie[serie % 3 == 0])"
      ],
      "metadata": {
        "id": "bt-c8776USs6",
        "colab": {
          "base_uri": "https://localhost:8080/",
          "height": 178
        },
        "outputId": "af42c70d-11f6-4e78-f000-99b16c77628f"
      },
      "execution_count": 79,
      "outputs": [
        {
          "output_type": "display_data",
          "data": {
            "text/plain": [
              "2    30\n",
              "5    60\n",
              "8    90\n",
              "dtype: int64"
            ],
            "text/html": [
              "<div>\n",
              "<style scoped>\n",
              "    .dataframe tbody tr th:only-of-type {\n",
              "        vertical-align: middle;\n",
              "    }\n",
              "\n",
              "    .dataframe tbody tr th {\n",
              "        vertical-align: top;\n",
              "    }\n",
              "\n",
              "    .dataframe thead th {\n",
              "        text-align: right;\n",
              "    }\n",
              "</style>\n",
              "<table border=\"1\" class=\"dataframe\">\n",
              "  <thead>\n",
              "    <tr style=\"text-align: right;\">\n",
              "      <th></th>\n",
              "      <th>0</th>\n",
              "    </tr>\n",
              "  </thead>\n",
              "  <tbody>\n",
              "    <tr>\n",
              "      <th>2</th>\n",
              "      <td>30</td>\n",
              "    </tr>\n",
              "    <tr>\n",
              "      <th>5</th>\n",
              "      <td>60</td>\n",
              "    </tr>\n",
              "    <tr>\n",
              "      <th>8</th>\n",
              "      <td>90</td>\n",
              "    </tr>\n",
              "  </tbody>\n",
              "</table>\n",
              "</div><br><label><b>dtype:</b> int64</label>"
            ]
          },
          "metadata": {}
        }
      ]
    },
    {
      "cell_type": "code",
      "source": [
        "display(serie[serie > serie.mean()])"
      ],
      "metadata": {
        "id": "JH6r0S6tUZ_x",
        "colab": {
          "base_uri": "https://localhost:8080/",
          "height": 241
        },
        "outputId": "9698c4c0-9fa5-47cd-d05c-25dcd35d9535"
      },
      "execution_count": 80,
      "outputs": [
        {
          "output_type": "display_data",
          "data": {
            "text/plain": [
              "5     60\n",
              "6     70\n",
              "7     80\n",
              "8     90\n",
              "9    100\n",
              "dtype: int64"
            ],
            "text/html": [
              "<div>\n",
              "<style scoped>\n",
              "    .dataframe tbody tr th:only-of-type {\n",
              "        vertical-align: middle;\n",
              "    }\n",
              "\n",
              "    .dataframe tbody tr th {\n",
              "        vertical-align: top;\n",
              "    }\n",
              "\n",
              "    .dataframe thead th {\n",
              "        text-align: right;\n",
              "    }\n",
              "</style>\n",
              "<table border=\"1\" class=\"dataframe\">\n",
              "  <thead>\n",
              "    <tr style=\"text-align: right;\">\n",
              "      <th></th>\n",
              "      <th>0</th>\n",
              "    </tr>\n",
              "  </thead>\n",
              "  <tbody>\n",
              "    <tr>\n",
              "      <th>5</th>\n",
              "      <td>60</td>\n",
              "    </tr>\n",
              "    <tr>\n",
              "      <th>6</th>\n",
              "      <td>70</td>\n",
              "    </tr>\n",
              "    <tr>\n",
              "      <th>7</th>\n",
              "      <td>80</td>\n",
              "    </tr>\n",
              "    <tr>\n",
              "      <th>8</th>\n",
              "      <td>90</td>\n",
              "    </tr>\n",
              "    <tr>\n",
              "      <th>9</th>\n",
              "      <td>100</td>\n",
              "    </tr>\n",
              "  </tbody>\n",
              "</table>\n",
              "</div><br><label><b>dtype:</b> int64</label>"
            ]
          },
          "metadata": {}
        }
      ]
    },
    {
      "cell_type": "markdown",
      "source": [
        "Podemos também, aplicar cálculos para todos os elementos das séries"
      ],
      "metadata": {
        "id": "xfrsbBRsD1W5"
      }
    },
    {
      "cell_type": "code",
      "source": [
        "serie_metade = serie/2\n",
        "\n",
        "display(serie_metade)"
      ],
      "metadata": {
        "id": "BxNQOzonD01T",
        "colab": {
          "base_uri": "https://localhost:8080/",
          "height": 398
        },
        "outputId": "4861bbdf-4120-4f0f-aa50-e2eaada55265"
      },
      "execution_count": 81,
      "outputs": [
        {
          "output_type": "display_data",
          "data": {
            "text/plain": [
              "0     5.0\n",
              "1    10.0\n",
              "2    15.0\n",
              "3    20.0\n",
              "4    25.0\n",
              "5    30.0\n",
              "6    35.0\n",
              "7    40.0\n",
              "8    45.0\n",
              "9    50.0\n",
              "dtype: float64"
            ],
            "text/html": [
              "<div>\n",
              "<style scoped>\n",
              "    .dataframe tbody tr th:only-of-type {\n",
              "        vertical-align: middle;\n",
              "    }\n",
              "\n",
              "    .dataframe tbody tr th {\n",
              "        vertical-align: top;\n",
              "    }\n",
              "\n",
              "    .dataframe thead th {\n",
              "        text-align: right;\n",
              "    }\n",
              "</style>\n",
              "<table border=\"1\" class=\"dataframe\">\n",
              "  <thead>\n",
              "    <tr style=\"text-align: right;\">\n",
              "      <th></th>\n",
              "      <th>0</th>\n",
              "    </tr>\n",
              "  </thead>\n",
              "  <tbody>\n",
              "    <tr>\n",
              "      <th>0</th>\n",
              "      <td>5.0</td>\n",
              "    </tr>\n",
              "    <tr>\n",
              "      <th>1</th>\n",
              "      <td>10.0</td>\n",
              "    </tr>\n",
              "    <tr>\n",
              "      <th>2</th>\n",
              "      <td>15.0</td>\n",
              "    </tr>\n",
              "    <tr>\n",
              "      <th>3</th>\n",
              "      <td>20.0</td>\n",
              "    </tr>\n",
              "    <tr>\n",
              "      <th>4</th>\n",
              "      <td>25.0</td>\n",
              "    </tr>\n",
              "    <tr>\n",
              "      <th>5</th>\n",
              "      <td>30.0</td>\n",
              "    </tr>\n",
              "    <tr>\n",
              "      <th>6</th>\n",
              "      <td>35.0</td>\n",
              "    </tr>\n",
              "    <tr>\n",
              "      <th>7</th>\n",
              "      <td>40.0</td>\n",
              "    </tr>\n",
              "    <tr>\n",
              "      <th>8</th>\n",
              "      <td>45.0</td>\n",
              "    </tr>\n",
              "    <tr>\n",
              "      <th>9</th>\n",
              "      <td>50.0</td>\n",
              "    </tr>\n",
              "  </tbody>\n",
              "</table>\n",
              "</div><br><label><b>dtype:</b> float64</label>"
            ]
          },
          "metadata": {}
        }
      ]
    },
    {
      "cell_type": "markdown",
      "source": [
        "E também fazer operações entre duas séries. Nesse caso, o índice é utilizado como referência para correlacionar os registros"
      ],
      "metadata": {
        "id": "4YP4C3UfEJce"
      }
    },
    {
      "cell_type": "code",
      "source": [
        "display(serie + serie_metade)"
      ],
      "metadata": {
        "id": "JM7dHF0BEI5o",
        "colab": {
          "base_uri": "https://localhost:8080/",
          "height": 398
        },
        "outputId": "5cf6389d-6805-4c39-dd90-cb642bf55fcd"
      },
      "execution_count": 82,
      "outputs": [
        {
          "output_type": "display_data",
          "data": {
            "text/plain": [
              "0     15.0\n",
              "1     30.0\n",
              "2     45.0\n",
              "3     60.0\n",
              "4     75.0\n",
              "5     90.0\n",
              "6    105.0\n",
              "7    120.0\n",
              "8    135.0\n",
              "9    150.0\n",
              "dtype: float64"
            ],
            "text/html": [
              "<div>\n",
              "<style scoped>\n",
              "    .dataframe tbody tr th:only-of-type {\n",
              "        vertical-align: middle;\n",
              "    }\n",
              "\n",
              "    .dataframe tbody tr th {\n",
              "        vertical-align: top;\n",
              "    }\n",
              "\n",
              "    .dataframe thead th {\n",
              "        text-align: right;\n",
              "    }\n",
              "</style>\n",
              "<table border=\"1\" class=\"dataframe\">\n",
              "  <thead>\n",
              "    <tr style=\"text-align: right;\">\n",
              "      <th></th>\n",
              "      <th>0</th>\n",
              "    </tr>\n",
              "  </thead>\n",
              "  <tbody>\n",
              "    <tr>\n",
              "      <th>0</th>\n",
              "      <td>15.0</td>\n",
              "    </tr>\n",
              "    <tr>\n",
              "      <th>1</th>\n",
              "      <td>30.0</td>\n",
              "    </tr>\n",
              "    <tr>\n",
              "      <th>2</th>\n",
              "      <td>45.0</td>\n",
              "    </tr>\n",
              "    <tr>\n",
              "      <th>3</th>\n",
              "      <td>60.0</td>\n",
              "    </tr>\n",
              "    <tr>\n",
              "      <th>4</th>\n",
              "      <td>75.0</td>\n",
              "    </tr>\n",
              "    <tr>\n",
              "      <th>5</th>\n",
              "      <td>90.0</td>\n",
              "    </tr>\n",
              "    <tr>\n",
              "      <th>6</th>\n",
              "      <td>105.0</td>\n",
              "    </tr>\n",
              "    <tr>\n",
              "      <th>7</th>\n",
              "      <td>120.0</td>\n",
              "    </tr>\n",
              "    <tr>\n",
              "      <th>8</th>\n",
              "      <td>135.0</td>\n",
              "    </tr>\n",
              "    <tr>\n",
              "      <th>9</th>\n",
              "      <td>150.0</td>\n",
              "    </tr>\n",
              "  </tbody>\n",
              "</table>\n",
              "</div><br><label><b>dtype:</b> float64</label>"
            ]
          },
          "metadata": {}
        }
      ]
    },
    {
      "cell_type": "markdown",
      "source": [
        "Se o número de elementos for par, a mediana é a média aritmética dos dois valores centrais."
      ],
      "metadata": {
        "id": "QlViTDPh4KGB"
      }
    },
    {
      "cell_type": "markdown",
      "source": [
        "### Além dos índices numéricos autoincrementais, é possível fornecer um conjunto de índices customizado, que pode ser utilizado para acrescentar informações à análise."
      ],
      "metadata": {
        "id": "4RBXmH3U9X6B"
      }
    },
    {
      "cell_type": "markdown",
      "source": [
        "Vamos criar uma série com as temperaturas médias por mês do ano em Petrópolis.\n",
        "\n",
        "Fonte: https://www.climatempo.com.br/previsao-do-tempo/15-dias/cidade/317/petropolis-rj"
      ],
      "metadata": {
        "id": "RH9ICeF09462"
      }
    },
    {
      "cell_type": "code",
      "source": [
        "temperatura_minima = {'13/05': 13,\n",
        "                     '14/05': 12,\n",
        "                     '15/05': 15,\n",
        "                     '16/05': 14,\n",
        "                     '17/05': 14,\n",
        "                     '18/05': 15,\n",
        "                     '19/05': 14,\n",
        "                     '20/05': 15,\n",
        "                     '21/05': 16,\n",
        "                     '22/05': 16}"
      ],
      "metadata": {
        "id": "D3ud8c7R9Rke"
      },
      "execution_count": 83,
      "outputs": []
    },
    {
      "cell_type": "code",
      "source": [
        "temperatura_min = pd.Series(temperatura_minima)"
      ],
      "metadata": {
        "id": "ximKEaIO_jdJ"
      },
      "execution_count": 84,
      "outputs": []
    },
    {
      "cell_type": "code",
      "source": [
        "temperatura_min.head()"
      ],
      "metadata": {
        "id": "DuO0hxm2_m7P",
        "colab": {
          "base_uri": "https://localhost:8080/",
          "height": 241
        },
        "outputId": "581e50a0-c55e-4907-b52c-666c0d001fed"
      },
      "execution_count": 85,
      "outputs": [
        {
          "output_type": "execute_result",
          "data": {
            "text/plain": [
              "13/05    13\n",
              "14/05    12\n",
              "15/05    15\n",
              "16/05    14\n",
              "17/05    14\n",
              "dtype: int64"
            ],
            "text/html": [
              "<div>\n",
              "<style scoped>\n",
              "    .dataframe tbody tr th:only-of-type {\n",
              "        vertical-align: middle;\n",
              "    }\n",
              "\n",
              "    .dataframe tbody tr th {\n",
              "        vertical-align: top;\n",
              "    }\n",
              "\n",
              "    .dataframe thead th {\n",
              "        text-align: right;\n",
              "    }\n",
              "</style>\n",
              "<table border=\"1\" class=\"dataframe\">\n",
              "  <thead>\n",
              "    <tr style=\"text-align: right;\">\n",
              "      <th></th>\n",
              "      <th>0</th>\n",
              "    </tr>\n",
              "  </thead>\n",
              "  <tbody>\n",
              "    <tr>\n",
              "      <th>13/05</th>\n",
              "      <td>13</td>\n",
              "    </tr>\n",
              "    <tr>\n",
              "      <th>14/05</th>\n",
              "      <td>12</td>\n",
              "    </tr>\n",
              "    <tr>\n",
              "      <th>15/05</th>\n",
              "      <td>15</td>\n",
              "    </tr>\n",
              "    <tr>\n",
              "      <th>16/05</th>\n",
              "      <td>14</td>\n",
              "    </tr>\n",
              "    <tr>\n",
              "      <th>17/05</th>\n",
              "      <td>14</td>\n",
              "    </tr>\n",
              "  </tbody>\n",
              "</table>\n",
              "</div><br><label><b>dtype:</b> int64</label>"
            ]
          },
          "metadata": {},
          "execution_count": 85
        }
      ]
    },
    {
      "cell_type": "code",
      "source": [
        "temperatura_min.describe()"
      ],
      "metadata": {
        "id": "OtyGd_o9_qOk",
        "colab": {
          "base_uri": "https://localhost:8080/",
          "height": 335
        },
        "outputId": "15f3688a-7006-42d8-f5da-f12241be474c"
      },
      "execution_count": 86,
      "outputs": [
        {
          "output_type": "execute_result",
          "data": {
            "text/plain": [
              "count    10.000000\n",
              "mean     14.400000\n",
              "std       1.264911\n",
              "min      12.000000\n",
              "25%      14.000000\n",
              "50%      14.500000\n",
              "75%      15.000000\n",
              "max      16.000000\n",
              "dtype: float64"
            ],
            "text/html": [
              "<div>\n",
              "<style scoped>\n",
              "    .dataframe tbody tr th:only-of-type {\n",
              "        vertical-align: middle;\n",
              "    }\n",
              "\n",
              "    .dataframe tbody tr th {\n",
              "        vertical-align: top;\n",
              "    }\n",
              "\n",
              "    .dataframe thead th {\n",
              "        text-align: right;\n",
              "    }\n",
              "</style>\n",
              "<table border=\"1\" class=\"dataframe\">\n",
              "  <thead>\n",
              "    <tr style=\"text-align: right;\">\n",
              "      <th></th>\n",
              "      <th>0</th>\n",
              "    </tr>\n",
              "  </thead>\n",
              "  <tbody>\n",
              "    <tr>\n",
              "      <th>count</th>\n",
              "      <td>10.000000</td>\n",
              "    </tr>\n",
              "    <tr>\n",
              "      <th>mean</th>\n",
              "      <td>14.400000</td>\n",
              "    </tr>\n",
              "    <tr>\n",
              "      <th>std</th>\n",
              "      <td>1.264911</td>\n",
              "    </tr>\n",
              "    <tr>\n",
              "      <th>min</th>\n",
              "      <td>12.000000</td>\n",
              "    </tr>\n",
              "    <tr>\n",
              "      <th>25%</th>\n",
              "      <td>14.000000</td>\n",
              "    </tr>\n",
              "    <tr>\n",
              "      <th>50%</th>\n",
              "      <td>14.500000</td>\n",
              "    </tr>\n",
              "    <tr>\n",
              "      <th>75%</th>\n",
              "      <td>15.000000</td>\n",
              "    </tr>\n",
              "    <tr>\n",
              "      <th>max</th>\n",
              "      <td>16.000000</td>\n",
              "    </tr>\n",
              "  </tbody>\n",
              "</table>\n",
              "</div><br><label><b>dtype:</b> float64</label>"
            ]
          },
          "metadata": {},
          "execution_count": 86
        }
      ]
    },
    {
      "cell_type": "markdown",
      "source": [
        "Ou até mesmo, acessar diretamente pelos índices"
      ],
      "metadata": {
        "id": "H7vAVZyyAyWV"
      }
    },
    {
      "cell_type": "code",
      "source": [
        "temperatura_min[['14/05','18/05','20/05','22/05']]"
      ],
      "metadata": {
        "id": "uXXdomEZAxyp",
        "colab": {
          "base_uri": "https://localhost:8080/",
          "height": 210
        },
        "outputId": "b76df841-a3f6-4ad8-88e2-26b06ff4ac0a"
      },
      "execution_count": 87,
      "outputs": [
        {
          "output_type": "execute_result",
          "data": {
            "text/plain": [
              "14/05    12\n",
              "18/05    15\n",
              "20/05    15\n",
              "22/05    16\n",
              "dtype: int64"
            ],
            "text/html": [
              "<div>\n",
              "<style scoped>\n",
              "    .dataframe tbody tr th:only-of-type {\n",
              "        vertical-align: middle;\n",
              "    }\n",
              "\n",
              "    .dataframe tbody tr th {\n",
              "        vertical-align: top;\n",
              "    }\n",
              "\n",
              "    .dataframe thead th {\n",
              "        text-align: right;\n",
              "    }\n",
              "</style>\n",
              "<table border=\"1\" class=\"dataframe\">\n",
              "  <thead>\n",
              "    <tr style=\"text-align: right;\">\n",
              "      <th></th>\n",
              "      <th>0</th>\n",
              "    </tr>\n",
              "  </thead>\n",
              "  <tbody>\n",
              "    <tr>\n",
              "      <th>14/05</th>\n",
              "      <td>12</td>\n",
              "    </tr>\n",
              "    <tr>\n",
              "      <th>18/05</th>\n",
              "      <td>15</td>\n",
              "    </tr>\n",
              "    <tr>\n",
              "      <th>20/05</th>\n",
              "      <td>15</td>\n",
              "    </tr>\n",
              "    <tr>\n",
              "      <th>22/05</th>\n",
              "      <td>16</td>\n",
              "    </tr>\n",
              "  </tbody>\n",
              "</table>\n",
              "</div><br><label><b>dtype:</b> int64</label>"
            ]
          },
          "metadata": {},
          "execution_count": 87
        }
      ]
    },
    {
      "cell_type": "markdown",
      "source": [
        "Ainda é possível buscar por posição, através do método iLoc"
      ],
      "metadata": {
        "id": "XovzKxNiDKXa"
      }
    },
    {
      "cell_type": "code",
      "source": [
        "temperatura_min.iloc[0:3] #1º até 3º elemento"
      ],
      "metadata": {
        "id": "qRuFRuYYDJU2",
        "colab": {
          "base_uri": "https://localhost:8080/",
          "height": 178
        },
        "outputId": "0927c2eb-91ff-4810-a409-1658405b47aa"
      },
      "execution_count": 88,
      "outputs": [
        {
          "output_type": "execute_result",
          "data": {
            "text/plain": [
              "13/05    13\n",
              "14/05    12\n",
              "15/05    15\n",
              "dtype: int64"
            ],
            "text/html": [
              "<div>\n",
              "<style scoped>\n",
              "    .dataframe tbody tr th:only-of-type {\n",
              "        vertical-align: middle;\n",
              "    }\n",
              "\n",
              "    .dataframe tbody tr th {\n",
              "        vertical-align: top;\n",
              "    }\n",
              "\n",
              "    .dataframe thead th {\n",
              "        text-align: right;\n",
              "    }\n",
              "</style>\n",
              "<table border=\"1\" class=\"dataframe\">\n",
              "  <thead>\n",
              "    <tr style=\"text-align: right;\">\n",
              "      <th></th>\n",
              "      <th>0</th>\n",
              "    </tr>\n",
              "  </thead>\n",
              "  <tbody>\n",
              "    <tr>\n",
              "      <th>13/05</th>\n",
              "      <td>13</td>\n",
              "    </tr>\n",
              "    <tr>\n",
              "      <th>14/05</th>\n",
              "      <td>12</td>\n",
              "    </tr>\n",
              "    <tr>\n",
              "      <th>15/05</th>\n",
              "      <td>15</td>\n",
              "    </tr>\n",
              "  </tbody>\n",
              "</table>\n",
              "</div><br><label><b>dtype:</b> int64</label>"
            ]
          },
          "metadata": {},
          "execution_count": 88
        }
      ]
    },
    {
      "cell_type": "markdown",
      "source": [
        "Podemos também usar o método Plot para gerar visualizacoes sobre os dados"
      ],
      "metadata": {
        "id": "zYPZJcrt6cNk"
      }
    },
    {
      "cell_type": "code",
      "source": [
        "temperatura_min.plot()"
      ],
      "metadata": {
        "id": "o_Usvz_lDC6J",
        "colab": {
          "base_uri": "https://localhost:8080/",
          "height": 448
        },
        "outputId": "8f1aee76-1fd4-4b37-b1f7-37758f2c419c"
      },
      "execution_count": 89,
      "outputs": [
        {
          "output_type": "execute_result",
          "data": {
            "text/plain": [
              "<Axes: >"
            ]
          },
          "metadata": {},
          "execution_count": 89
        },
        {
          "output_type": "display_data",
          "data": {
            "text/plain": [
              "<Figure size 640x480 with 1 Axes>"
            ],
            "image/png": "[encoded data removed]"
          },
          "metadata": {}
        }
      ]
    },
    {
      "cell_type": "code",
      "source": [
        "temperatura_min.plot(kind='bar')"
      ],
      "metadata": {
        "id": "vnCAGfwC6ID-",
        "colab": {
          "base_uri": "https://localhost:8080/",
          "height": 474
        },
        "outputId": "0135ea05-f836-427b-9a64-27a21710a0d8"
      },
      "execution_count": 131,
      "outputs": [
        {
          "output_type": "execute_result",
          "data": {
            "text/plain": [
              "<Axes: >"
            ]
          },
          "metadata": {},
          "execution_count": 131
        },
        {
          "output_type": "display_data",
          "data": {
            "text/plain": [
              "<Figure size 640x480 with 1 Axes>"
            ],
            "image/png": "[encoded data removed]"
          },
          "metadata": {}
        }
      ]
    },
    {
      "cell_type": "markdown",
      "source": [
        "## **Prática**\n",
        "\n",
        "A partir do conjunto de dados de temperaturas mínimas do exemplo, junto ao conjunto de dados a seguir de temperaturas máximas, mais as regras de negócios fornecidas resolva a seguinte questão. Utilize Series Pandas e demais conhecimentos de python aprendidos.\n",
        "\n",
        "Seu objetivo é ajudar um turista a planejar quais roupas deverá usar ou levar ao sair de casa para passar um dia inteiro de outono em Petrópolis, as regras são as seguintes:\n",
        "\n",
        "\n",
        "*   **Casaco**: se a temperatura mínima do dia for menor que 16ºc\n",
        "*   **Gorro**: se a temperatura mínima do dia for menor que a média de temperaturas mínimas\n",
        "*   **Mochila**: quando a amplitude térmica for maior ou igual a 5ºc, será necessário levar uma mochila para guardar as roupas de frio\n",
        "*   **Bermuda**: Se a temperatura máxima for pelo menos 22ºc e a mínima for acima das médias de temperaturas mínimas\n",
        "*   **Luvas**: Se a temperatura mínima for a menor do período analisado\n",
        "\n",
        "\n",
        "####*Amplitude Térmica*: Diferença entre a maior a menor temperatura em um período analisado. Nesse caso, estamos analisando por dia. (Máxima Dia - Mínima Dia)\n",
        "####*Efeito Chuva*: Se chover, a sensação térmica ficará menor, com isso, todas as temperaturas serão consideradas 2ºc menores, tanto para máximas quanto para mínimas.\n",
        "\n",
        "\n",
        "**Crie scripts para responder as seguintes questões**\n",
        "\n",
        "1.   Se as temperaturas mínimas e máximas oscilarem 1ºc para cima em todos os dias, quantos dias o turista será recomendado a usar bermuda?\n",
        "2.   Em quais dias será necessário levar mochila?\n",
        "3.   Em algum dos dias o Turista será indicado a usar tanto bermuda quanto luvas?\n",
        "4.   Quais serão os itens indicados para o dia 17/05?\n",
        "5.   Em quais dias, que normalmente não necessitariam o uso de casaco, o item passaria a ser necessário em caso de chuva?\n",
        "6.   Gere um gráfico com a evolução da amplitude térmica.\n",
        "7.   Gere um gráfico que retorne quantas vezes cada item será utilizado."
      ],
      "metadata": {
        "id": "DBhghsqsVK1_"
      }
    },
    {
      "cell_type": "code",
      "source": [
        "temperatura_maxima = {'13/05': 21,\n",
        "                     '14/05': 20,\n",
        "                     '15/05': 21,\n",
        "                     '16/05': 22,\n",
        "                     '17/05': 23,\n",
        "                     '18/05': 22,\n",
        "                     '19/05': 23,\n",
        "                     '20/05': 23,\n",
        "                     '21/05': 25,\n",
        "                     '22/05': 25}"
      ],
      "metadata": {
        "id": "RWRpNeNEUtiC"
      },
      "execution_count": 91,
      "outputs": []
    },
    {
      "cell_type": "code",
      "source": [
        "print(temperatura_maxima)"
      ],
      "metadata": {
        "colab": {
          "base_uri": "https://localhost:8080/"
        },
        "id": "Sxcy_NJd1NlT",
        "outputId": "7db16ec8-8e8c-472e-a52c-bc9c98cf948a"
      },
      "execution_count": 92,
      "outputs": [
        {
          "output_type": "stream",
          "name": "stdout",
          "text": [
            "{'13/05': 21, '14/05': 20, '15/05': 21, '16/05': 22, '17/05': 23, '18/05': 22, '19/05': 23, '20/05': 23, '21/05': 25, '22/05': 25}\n"
          ]
        }
      ]
    },
    {
      "cell_type": "code",
      "source": [
        "ler_base = pd.read_csv('TempoMaio25.csv', sep = ';') # Ler o arquico CSV separado por virgulas\n",
        "print(ler_base)"
      ],
      "metadata": {
        "colab": {
          "base_uri": "https://localhost:8080/"
        },
        "id": "rVFkNSvqJ8yO",
        "outputId": "4cc25c8f-5ea4-4ac0-9066-f309ab51ca28"
      },
      "execution_count": 99,
      "outputs": [
        {
          "output_type": "stream",
          "name": "stdout",
          "text": [
            "     Data  Chuva  Minima  Maxima  Minima_Oficial  Maxima_Oficial  \\\n",
            "0  13/mai      0      13      21              13              21   \n",
            "1  14/mai      0      12      20              12              20   \n",
            "2  15/mai      1      15      21              13              19   \n",
            "3  16/mai      1      14      22              12              20   \n",
            "4  17/mai      0      14      23              14              23   \n",
            "5  18/mai      0      15      22              15              22   \n",
            "6  19/mai      0      14      23              14              23   \n",
            "7  20/mai      0      15      23              15              23   \n",
            "8  21/mai      0      16      25              16              25   \n",
            "9  22/mai      0      16      25              16              25   \n",
            "\n",
            "   Amplitude_Termica  Maxima1  Casaco  Gorro  Mochila  Bermuda  Luvas  \n",
            "0                  8       22       1      1        1        0      0  \n",
            "1                  8       21       1      1        1        0      1  \n",
            "2                  6       20       1      1        1        0      0  \n",
            "3                  8       21       1      1        1        0      1  \n",
            "4                  9       24       1      0        1        0      0  \n",
            "5                  7       23       1      0        1        1      0  \n",
            "6                  9       24       1      0        1        0      0  \n",
            "7                  8       24       1      0        1        1      0  \n",
            "8                  9       26       0      0        1        1      0  \n",
            "9                  9       26       0      0        1        1      0  \n"
          ]
        }
      ]
    },
    {
      "cell_type": "code",
      "source": [
        "import matplotlib.pyplot as plt"
      ],
      "metadata": {
        "id": "Z2FQOmGYL_1O"
      },
      "execution_count": 100,
      "outputs": []
    },
    {
      "cell_type": "code",
      "source": [
        "bermuda = ler_base['Bermuda'] # Quantidade de dias recomendados para usar bermuda - Questão 1\n",
        "qtdBermuda = (bermuda == 1).sum()\n",
        "print(qtdBermuda)"
      ],
      "metadata": {
        "colab": {
          "base_uri": "https://localhost:8080/"
        },
        "id": "GYCYNdagKTf2",
        "outputId": "b9073c14-58c4-4ed7-8fc8-3a653ef46fb1"
      },
      "execution_count": 101,
      "outputs": [
        {
          "output_type": "stream",
          "name": "stdout",
          "text": [
            "4\n"
          ]
        }
      ]
    },
    {
      "cell_type": "code",
      "source": [
        "mochila = ler_base['Mochila'] # Quantidade de dias recomendados para usar mochila - Questão 2\n",
        "qtdMochila = (mochila == 1).sum()\n",
        "print(qtdMochila)"
      ],
      "metadata": {
        "colab": {
          "base_uri": "https://localhost:8080/"
        },
        "id": "xDbCI-lJMp28",
        "outputId": "bcc1352d-981e-4600-ef25-03a4b64a0f5a"
      },
      "execution_count": 102,
      "outputs": [
        {
          "output_type": "stream",
          "name": "stdout",
          "text": [
            "10\n"
          ]
        }
      ]
    },
    {
      "cell_type": "code",
      "source": [
        "luva = ler_base['Luvas'] # Quantidade de dias recomendados para usar luva\n",
        "qtdLuva = (luva == 1).sum()\n",
        "print(qtdLuva)"
      ],
      "metadata": {
        "colab": {
          "base_uri": "https://localhost:8080/"
        },
        "id": "O3iSJPCiNOCb",
        "outputId": "3abaf4c5-0afe-45c6-9a7c-aa5cad033980"
      },
      "execution_count": 103,
      "outputs": [
        {
          "output_type": "stream",
          "name": "stdout",
          "text": [
            "2\n"
          ]
        }
      ]
    },
    {
      "cell_type": "code",
      "source": [
        "casaco = ler_base['Casaco'] # Quantidade de dias recomendados para usar casaco\n",
        "qtdCasaco = (casaco == 1).sum()\n",
        "print(qtdCasaco)"
      ],
      "metadata": {
        "colab": {
          "base_uri": "https://localhost:8080/"
        },
        "id": "ckh6SCGIP7Oq",
        "outputId": "c02c0de3-983d-46c6-b6db-f9f0366af448"
      },
      "execution_count": 104,
      "outputs": [
        {
          "output_type": "stream",
          "name": "stdout",
          "text": [
            "8\n"
          ]
        }
      ]
    },
    {
      "cell_type": "code",
      "source": [
        "gorro = ler_base['Gorro'] # Quantidade de dias recomendados para usar gorro\n",
        "qtdGorro = (gorro == 1).sum()\n",
        "print(qtdGorro)\n"
      ],
      "metadata": {
        "colab": {
          "base_uri": "https://localhost:8080/"
        },
        "id": "3ZNCL0WlODv9",
        "outputId": "8baf4a8b-147d-414b-8f48-df026f0566e1"
      },
      "execution_count": 105,
      "outputs": [
        {
          "output_type": "stream",
          "name": "stdout",
          "text": [
            "4\n"
          ]
        }
      ]
    },
    {
      "cell_type": "code",
      "source": [
        "print(ler_base.loc[4],'Casaco', 'Gorro', 'Mochila', 'Bermuda', 'Luvas')# Dados do dia 17/05 - Questão 4"
      ],
      "metadata": {
        "colab": {
          "base_uri": "https://localhost:8080/"
        },
        "id": "ypPElSfrQcW3",
        "outputId": "f1f7d115-a223-49c9-8133-f06f1470102b"
      },
      "execution_count": 156,
      "outputs": [
        {
          "output_type": "stream",
          "name": "stdout",
          "text": [
            "Data                 17/mai\n",
            "Chuva                     0\n",
            "Minima                   14\n",
            "Maxima                   23\n",
            "Minima_Oficial           14\n",
            "Maxima_Oficial           23\n",
            "Amplitude_Termica         9\n",
            "Maxima1                  24\n",
            "Casaco                    1\n",
            "Gorro                     0\n",
            "Mochila                   1\n",
            "Bermuda                   0\n",
            "Luvas                     0\n",
            "Name: 4, dtype: object Casaco Gorro Mochila Bermuda Luvas\n"
          ]
        }
      ]
    },
    {
      "cell_type": "code",
      "source": [
        "# Questão 5 - Uso de casaco será necessário entre os dia 13 e 20 de maio,\n",
        "#e somente chuva nos dias 15 e 16 de maio. Ou seja, com sol ou chuva,\n",
        "#usar o casaco será necessário de acordo com as temperaturas."
      ],
      "metadata": {
        "id": "14iPemR2BB4d"
      },
      "execution_count": 107,
      "outputs": []
    },
    {
      "cell_type": "code",
      "source": [
        "amplitude_termica = ler_base['Amplitude_Termica']# Questão 6 - Gráfico em linha\n",
        "data = ler_base['Data']\n",
        "plt.plot(data, amplitude_termica)\n",
        "plt.xlabel('Data')\n",
        "plt.ylabel('Amplitude Térmica')\n",
        "plt.title('Evolução da Amplitude Térmica')\n",
        "plt.show()"
      ],
      "metadata": {
        "colab": {
          "base_uri": "https://localhost:8080/",
          "height": 472
        },
        "id": "LU6v0EhCEt72",
        "outputId": "6d1e6c93-1b3a-4c6b-b69b-97227919c3a4"
      },
      "execution_count": 145,
      "outputs": [
        {
          "output_type": "display_data",
          "data": {
            "text/plain": [
              "<Figure size 640x480 with 1 Axes>"
            ],
            "image/png": "[encoded data removed]"
          },
          "metadata": {}
        }
      ]
    },
    {
      "cell_type": "code",
      "source": [
        "amplitude_termica = ler_base['Amplitude_Termica']# Questão 6 - Gráfico em barras\n",
        "data = ler_base['Data']\n",
        "plt.bar(data, amplitude_termica)\n",
        "plt.xlabel('Data')\n",
        "plt.ylabel('Amplitude Térmica')\n",
        "plt.title('Evolução da Amplitude Térmica')\n",
        "plt.show()"
      ],
      "metadata": {
        "colab": {
          "base_uri": "https://localhost:8080/",
          "height": 472
        },
        "id": "3mib5g39HL0W",
        "outputId": "1b90889e-6220-4285-eae2-7ffab2d0feb0"
      },
      "execution_count": 149,
      "outputs": [
        {
          "output_type": "display_data",
          "data": {
            "text/plain": [
              "<Figure size 640x480 with 1 Axes>"
            ],
            "image/png": "[encoded data removed]"
          },
          "metadata": {}
        }
      ]
    },
    {
      "cell_type": "code",
      "source": [
        "itens = {\n",
        "    'Roupas': ['Casaco', 'Gorro', 'Mochila', 'Bermuda', 'Luvas'],\n",
        "    'Quantidade': [qtdCasaco, qtdGorro, qtdMochila, qtdBermuda, qtdLuva]\n",
        "}\n",
        "df_itens = pd.DataFrame(itens)\n",
        "print(df_itens)\n",
        "# Impressão de tabela das quantidades de itens usados - Questão 7"
      ],
      "metadata": {
        "colab": {
          "base_uri": "https://localhost:8080/"
        },
        "id": "E21CVV5zI5-6",
        "outputId": "8c319e31-cccf-4f43-fd6e-bbac5af39919"
      },
      "execution_count": 151,
      "outputs": [
        {
          "output_type": "stream",
          "name": "stdout",
          "text": [
            "    Roupas  Quantidade\n",
            "0   Casaco           8\n",
            "1    Gorro           4\n",
            "2  Mochila          10\n",
            "3  Bermuda           4\n",
            "4    Luvas           2\n"
          ]
        }
      ]
    },
    {
      "cell_type": "code",
      "source": [
        "roupa = itens['Roupas']\n",
        "quantidade = itens['Quantidade']\n",
        "\n",
        "plt.plot(roupa, quantidade)\n",
        "plt.xlabel('Roupas')\n",
        "plt.ylabel('Quantidade')\n",
        "plt.title('Uso Diário de Cada Item')\n",
        "plt.show()\n",
        "#Gráfico em linhas - Questão 7"
      ],
      "metadata": {
        "colab": {
          "base_uri": "https://localhost:8080/",
          "height": 472
        },
        "id": "EngZ0KYhJbKd",
        "outputId": "87687aad-55ee-4664-83ef-82b68be58808"
      },
      "execution_count": 152,
      "outputs": [
        {
          "output_type": "display_data",
          "data": {
            "text/plain": [
              "<Figure size 640x480 with 1 Axes>"
            ],
            "image/png": "[encoded data removed]"
          },
          "metadata": {}
        }
      ]
    },
    {
      "cell_type": "code",
      "source": [
        "roupa = itens['Roupas']\n",
        "quantidade = itens['Quantidade']\n",
        "\n",
        "plt.bar(roupa, quantidade)\n",
        "plt.xlabel('Roupas')\n",
        "plt.ylabel('Quantidade')\n",
        "plt.title('Uso Diário de Cada Item')\n",
        "plt.show()\n",
        "#Gráfico em barras - Questão 7"
      ],
      "metadata": {
        "colab": {
          "base_uri": "https://localhost:8080/",
          "height": 472
        },
        "id": "xmq4gXz2J9nE",
        "outputId": "8d782426-5e1a-481d-f961-2e8e407be273"
      },
      "execution_count": 153,
      "outputs": [
        {
          "output_type": "display_data",
          "data": {
            "text/plain": [
              "<Figure size 640x480 with 1 Axes>"
            ],
            "image/png": "[encoded data removed]"
          },
          "metadata": {}
        }
      ]
    },
    {
      "cell_type": "code",
      "source": [
        "#Fazer 3\n",
        "#Corrigir 4"
      ],
      "metadata": {
        "id": "khGaj7heKyVY"
      },
      "execution_count": 157,
      "outputs": []
    },
    {
      "cell_type": "markdown",
      "source": [
        "# DataFrames"
      ],
      "metadata": {
        "id": "whH_671_kD9A"
      }
    },
    {
      "cell_type": "markdown",
      "source": [
        "### Assim como nas seríes é possível usar as estruturas comuns da linguagem para a criação dos DataFrames. Também é possível importar de arquivos (txt, csv, excel, etc) ou da Web."
      ],
      "metadata": {
        "id": "UhKStPemM4kI"
      }
    },
    {
      "cell_type": "markdown",
      "source": [],
      "metadata": {
        "id": "FO0hABcb4bPv"
      }
    },
    {
      "cell_type": "code",
      "source": [
        "#Campos: ID da Transação, Codigo Cliente, Modelo, Data do Aluguel, Data de Devolução, Valor Locacao, Taxa Administrativa\n",
        "\n",
        "alugueis = [\n",
        "    (1, 1023, \"Onix\", \"2025-01-05\", \"2025-01-10\", 1250.00, \"R$ 150,00\"),\n",
        "    (2, 1045, \"HB20\", \"2025-01-07\", \"2025-01-12\", 1400.00, \"R$ 150,00\"),\n",
        "    (3, 1102, \"Tracker\", \"2025-01-10\", \"2025-01-15\", 1750.50, \"R$ 200,00\"),\n",
        "    (4, 1150, \"T-Cross\", \"2025-01-12\", \"2025-01-16\", 1120.75, \"R$ 200,00\"),\n",
        "    (5, 1201, \"Civic\", \"2025-01-15\", \"2025-01-17\", 800.00, \"R$ 250,00\"),\n",
        "    (6, 1254, \"Civic\", \"2025-01-18\", \"2025-01-31\", 4525.25, \"R$ 250,00\"),\n",
        "    (7, 1300, \"L200\", \"2025-01-20\", \"2025-01-29\", 4875.00, \"R$ 300,00\"),\n",
        "    (8, 1356, \"Compass\", \"2025-01-22\", \"2025-01-28\", 3400.60, \"R$ 400,00\"),\n",
        "    (9, 1025, \"Onix\", \"2025-02-01\", \"2025-02-05\", 1000.00, \"R$ 150,00\"),\n",
        "    (10, 1023, \"HB20\", \"2025-02-03\", \"2025-02-07\", 1120.00, \"R$ 150,00\"),\n",
        "    (11, 1122, \"Tracker\", \"2025-02-05\", \"2025-02-07\", 425.75, \"R$ 200,00\"),\n",
        "    (12, 1177, \"T-Cross\", \"2025-02-08\", \"2025-02-12\", 1240.50, \"R$ 200,00\"),\n",
        "    (13, 1225, \"Civic\", \"2025-02-10\", \"2025-02-15\", 1750.00, \"R$ 250,00\"),\n",
        "    (14, 1270, \"Civic\", \"2025-02-12\", \"2025-02-17\", 2000.00, \"R$ 250,00\"),\n",
        "    (15, 1300, \"L200\", \"2025-02-14\", \"2025-02-15\", 500.00, \"R$ 300,00\"),\n",
        "    (16, 1375, \"Compass\", \"2025-02-16\", \"2025-02-21\", 3600.00, \"R$ 400,00\"),\n",
        "    (17, 1005, \"Onix\", \"2025-02-18\", \"2025-02-19\", 400.00, \"R$ 150,00\"),\n",
        "    (18, 1150, \"Tracker\", \"2025-02-20\", \"2025-02-25\", 1925.00, \"R$ 250,00\"),\n",
        "    (19, 1105, \"T-Cross\", \"2025-02-22\", \"2025-02-26\", 1300.00, \"R$ 200,00\"),\n",
        "    (20, 1023, \"Civic\", \"2025-02-20\", \"2025-02-28\", 3850.00, \"R$ 250,00\")\n",
        "]"
      ],
      "metadata": {
        "id": "IPuazVr9NAZ_"
      },
      "execution_count": null,
      "outputs": []
    },
    {
      "cell_type": "markdown",
      "source": [
        "### Com isso, conseguimos instanciar a classe Dataframe, a partir da leitura do CSV. A partir de agora, os dados estão disponíveis para serem trabalhados em memória."
      ],
      "metadata": {
        "id": "HZxBbu6_NTNj"
      }
    },
    {
      "cell_type": "code",
      "source": [
        "df = pd.DataFrame(alugueis)"
      ],
      "metadata": {
        "id": "nawYM1nINOcX"
      },
      "execution_count": null,
      "outputs": []
    },
    {
      "cell_type": "code",
      "source": [
        "df.to_csv('alugueis_carros.csv', index= False, header = False)"
      ],
      "metadata": {
        "id": "n3CwpPFVkRj1"
      },
      "execution_count": null,
      "outputs": []
    },
    {
      "cell_type": "code",
      "source": [
        "df.tail()"
      ],
      "metadata": {
        "id": "1oTZxZ88n_U6"
      },
      "execution_count": null,
      "outputs": []
    },
    {
      "cell_type": "code",
      "source": [
        "df = pd.read_csv('alugueis_carros.csv',header=None)"
      ],
      "metadata": {
        "id": "cru1gkj8SN7g"
      },
      "execution_count": null,
      "outputs": []
    },
    {
      "cell_type": "code",
      "source": [
        "display(df)"
      ],
      "metadata": {
        "id": "YZoHXl6nn42g"
      },
      "execution_count": null,
      "outputs": []
    },
    {
      "cell_type": "markdown",
      "source": [
        "Podemos incluir o nome das colunas, já na criação do DataFrame"
      ],
      "metadata": {
        "id": "U6ghaJuwSSK2"
      }
    },
    {
      "cell_type": "code",
      "source": [
        "df = pd.DataFrame(alugueis, columns=[\n",
        "    \"id_transacao\", \"cod_cliente\", \"modelo\", \"data_aluguel\", \"data_devolucao\", \"valor_locacao\", \"taxa_administrativa\"\n",
        "])"
      ],
      "metadata": {
        "id": "6h6H_Mw9SFeh"
      },
      "execution_count": null,
      "outputs": []
    },
    {
      "cell_type": "code",
      "source": [
        "df.head(10)"
      ],
      "metadata": {
        "id": "QKniF5OtSMsD"
      },
      "execution_count": null,
      "outputs": []
    },
    {
      "cell_type": "markdown",
      "source": [
        "### Podemos utilizar alguns métodos para explorar e entender melhor o conjunto de dados."
      ],
      "metadata": {
        "id": "6MUP6XIaNstW"
      }
    },
    {
      "cell_type": "code",
      "source": [
        "df.info()"
      ],
      "metadata": {
        "id": "QQMHtS6pNfF_"
      },
      "execution_count": null,
      "outputs": []
    },
    {
      "cell_type": "code",
      "source": [
        "df.describe()"
      ],
      "metadata": {
        "id": "Vy0sMaaVOLYa"
      },
      "execution_count": null,
      "outputs": []
    },
    {
      "cell_type": "code",
      "source": [
        "df[['modelo','valor_locacao']].head(15)"
      ],
      "metadata": {
        "id": "ks9tMu4fONlK"
      },
      "execution_count": null,
      "outputs": []
    },
    {
      "cell_type": "markdown",
      "source": [
        "### Mesmo em conjuntos de dados simples, podemos descobrir informações valiosas manipulando os dados."
      ],
      "metadata": {
        "id": "TiznJ54HTBuH"
      }
    },
    {
      "cell_type": "code",
      "source": [
        "df.groupby('modelo')['valor_locacao'].mean()"
      ],
      "metadata": {
        "id": "FTAg5JFyS-19"
      },
      "execution_count": null,
      "outputs": []
    },
    {
      "cell_type": "markdown",
      "source": [
        "Um tratamento comum de ser feito é a alteração de tipagens de dados"
      ],
      "metadata": {
        "id": "k79inoLcUKJ0"
      }
    },
    {
      "cell_type": "code",
      "source": [
        "df['data_aluguel'] = pd.to_datetime(df['data_aluguel'], format='%Y-%m-%d')\n",
        "df['data_devolucao'] = pd.to_datetime(df['data_devolucao'], format='%Y-%m-%d')"
      ],
      "metadata": {
        "id": "VxDcbbjYTxqb"
      },
      "execution_count": null,
      "outputs": []
    },
    {
      "cell_type": "markdown",
      "source": [
        "Podemos incluir a informação de duração prevista do aluguel"
      ],
      "metadata": {
        "id": "zNIkKT_LUH8F"
      }
    },
    {
      "cell_type": "code",
      "source": [
        "df['duracao_dias'] = (df['data_devolucao'] - df['data_aluguel']).dt.days"
      ],
      "metadata": {
        "id": "cuU4RQXUT_yu"
      },
      "execution_count": null,
      "outputs": []
    },
    {
      "cell_type": "code",
      "source": [
        "df.head(20)"
      ],
      "metadata": {
        "id": "7SWAJwSyUk-x"
      },
      "execution_count": null,
      "outputs": []
    },
    {
      "cell_type": "code",
      "source": [
        "df['valor_dia'] = (df['valor_locacao'] / df['duracao_dias']).round(2)"
      ],
      "metadata": {
        "id": "ZBiSUhmIUFhe"
      },
      "execution_count": null,
      "outputs": []
    },
    {
      "cell_type": "code",
      "source": [
        "df.head()"
      ],
      "metadata": {
        "id": "oBMZRsdWVLVS"
      },
      "execution_count": null,
      "outputs": []
    },
    {
      "cell_type": "code",
      "source": [
        "df.groupby('modelo')['valor_dia'].mean()"
      ],
      "metadata": {
        "id": "ISeJQ9BRVNla"
      },
      "execution_count": null,
      "outputs": []
    },
    {
      "cell_type": "markdown",
      "source": [
        "## **Prática**\n",
        "\n",
        "A partir do conteúdo apresentado sobre DataFrames, Séries e demais conhecimentos em Python. Utilize o conjunto de dados sobre locação veiculas abordado até aqui e responda as seguintes perguntas. Se necessário, faça tratamentos de manipulações no DataFrame.\n",
        "\n",
        "### **Regras:**\n",
        "\n",
        "**Classificação da duração do aluguel:**\n",
        "\n",
        "*   **Curta** - Até 3 dias\n",
        "*   **Média** - 4-7\n",
        "*   **Longa** - Acima de 7 dias\n",
        "\n",
        "\n",
        "**Valor Total:**\n",
        "\n",
        "*   Soma do Total do Aluguel com a Taxa Administrativa\n",
        "\n",
        "*Repare que o campo da Taxa Administrativa precisa ser tratado para poder ser utilizado como um campo numérico*\n",
        "\n",
        "**Definição do Impacto das Taxas Administrativas na Composição do Preço:**\n",
        "\n",
        "*   **Baixa** - Menos de 8% do Valor Total\n",
        "*   **Média** - Entre 8% e 15% do Valor Total\n",
        "*   **Alta** - Acima de 15% do Valor Total\n",
        "\n",
        "**Desconto:**\n",
        "\n",
        "*   Os descontos são aplicados após o cálculo do valor total. Existem 2 tipos de desconto, e eles são acumulativos.\n",
        "\n",
        "1.   Desconto de Taxa: Caso a Classificação de Impacto das Taxas seja **Alta**, será ofertado um desconto que subtraído do valor da taxa, a deixe no patamar de 15%.\n",
        "2.   Desconto de Duração: Será ofertado um desconto de **8%** para locações de duração **Média** e **12%** para locações de duração **Longa**.\n",
        "3.   Desconto Total: Desconto de Duração + Desconto de Taxa.\n",
        "\n",
        "*Formate com 2 casas decimais*\n",
        "\n",
        "**Valor Final:**\n",
        "\n",
        "*   Total - Desconto de Taxa - Desconto de Duração\n",
        "\n",
        "**Percentual de Desconto:**\n",
        "\n",
        "*   1 - (valor_final/valor_inicial)\n",
        "\n",
        "*Formate com 1 casa decimal*\n",
        "\n",
        "**Crie scripts para responder as seguintes questões**\n",
        "\n",
        "\n",
        "\n",
        "1.    Qual é a proporção (%) de contratos curtos, médios e longos no período analisado?\n",
        "2.   Quem são os três clientes (Código Cliente) que mais geraram receita total no período? Quanto (R$) cada um gastou?\n",
        "3.   Calcule o total de desconto concedido pode modelo de carro.\n",
        "4.   Ordene os aluguéis por % de desconto\n",
        "5.   Calcule o Total de Diárias e o valor médio de diária por mês de aluguel (data_aluguel)\n",
        "6.   Bônus: Exporte um Excel com todos os campos originais, além das informações enriquecidas: Classificador de Duração, Desconto Total, Valor Final e Percentual de Desconto.\n",
        "\n",
        "\n",
        "\n",
        "\n"
      ],
      "metadata": {
        "id": "Ac6GuJVH2SMW"
      }
    }
  ]
}