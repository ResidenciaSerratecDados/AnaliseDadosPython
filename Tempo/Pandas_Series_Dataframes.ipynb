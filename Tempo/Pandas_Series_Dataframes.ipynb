{
  "cells": [
    {
      "cell_type": "markdown",
      "metadata": {
        "id": "GMnMA56N2x9P"
      },
      "source": [
        "### Precisamos antes de tudo, importar a biblioteca. É um padrão abreviar o nome da biblioteca para 'pd' por meio de um alias."
      ]
    },
    {
      "cell_type": "code",
      "execution_count": 1,
      "metadata": {
        "id": "Zoj-OXI72rN0"
      },
      "outputs": [],
      "source": [
        "import pandas as pd"
      ]
    },
    {
      "cell_type": "markdown",
      "metadata": {
        "id": "aFa0gl1ekG_c"
      },
      "source": [
        "# Séries - Análise Unidimensional"
      ]
    },
    {
      "cell_type": "markdown",
      "metadata": {
        "id": "vV7Fy1V6k0jB"
      },
      "source": [
        "### Uma série em pandas representa uma estrutura unidimensional, junto a um índice."
      ]
    },
    {
      "cell_type": "markdown",
      "metadata": {
        "id": "OnI0i4GslQBe"
      },
      "source": [
        "Vamos criar uma série números múltiplos de 10."
      ]
    },
    {
      "cell_type": "code",
      "execution_count": 2,
      "metadata": {
        "id": "QaSMlnJvkOtA"
      },
      "outputs": [],
      "source": [
        "serie = pd.Series([10, 20, 30, 40, 50, 60, 70, 80, 90])"
      ]
    },
    {
      "cell_type": "markdown",
      "metadata": {
        "id": "url99REXloVV"
      },
      "source": [
        "Podemos usar os métodos Head e Tail para ler os primeiros e últimos elementos em uma série"
      ]
    },
    {
      "cell_type": "code",
      "execution_count": 3,
      "metadata": {
        "id": "fp25sNFFlCrS"
      },
      "outputs": [
        {
          "data": {
            "text/plain": [
              "0    10\n",
              "1    20\n",
              "2    30\n",
              "3    40\n",
              "4    50\n",
              "dtype: int64"
            ]
          },
          "execution_count": 3,
          "metadata": {},
          "output_type": "execute_result"
        }
      ],
      "source": [
        "serie.head()"
      ]
    },
    {
      "cell_type": "code",
      "execution_count": 4,
      "metadata": {
        "id": "_QHfbBll5kKz"
      },
      "outputs": [
        {
          "data": {
            "text/plain": [
              "4    50\n",
              "5    60\n",
              "6    70\n",
              "7    80\n",
              "8    90\n",
              "dtype: int64"
            ]
          },
          "execution_count": 4,
          "metadata": {},
          "output_type": "execute_result"
        }
      ],
      "source": [
        "serie.tail()"
      ]
    },
    {
      "cell_type": "code",
      "execution_count": 5,
      "metadata": {
        "id": "5wNVY4HZ3Ltt"
      },
      "outputs": [
        {
          "name": "stdout",
          "output_type": "stream",
          "text": [
            "0    10\n",
            "1    20\n",
            "2    30\n",
            "3    40\n",
            "4    50\n",
            "5    60\n",
            "6    70\n",
            "7    80\n",
            "8    90\n",
            "dtype: int64\n"
          ]
        }
      ],
      "source": [
        "print(serie)"
      ]
    },
    {
      "cell_type": "markdown",
      "metadata": {
        "id": "L0SAQB5rnq66"
      },
      "source": [
        "Em arquivos do tipo ipynb (notebooks), é possível utilizar também o método display para exibir os dados."
      ]
    },
    {
      "cell_type": "code",
      "execution_count": 6,
      "metadata": {
        "id": "XA_VhAdDnxMV"
      },
      "outputs": [
        {
          "data": {
            "text/plain": [
              "0    10\n",
              "1    20\n",
              "2    30\n",
              "3    40\n",
              "4    50\n",
              "5    60\n",
              "6    70\n",
              "7    80\n",
              "8    90\n",
              "dtype: int64"
            ]
          },
          "metadata": {},
          "output_type": "display_data"
        }
      ],
      "source": [
        "display(serie)"
      ]
    },
    {
      "cell_type": "markdown",
      "metadata": {
        "id": "qs_4EQCb5BYz"
      },
      "source": [
        "Podemos acessar elementos da série através dos seus índices, assim como é feito nas listas."
      ]
    },
    {
      "cell_type": "code",
      "execution_count": 7,
      "metadata": {
        "id": "G04wEj1C5G6P"
      },
      "outputs": [
        {
          "name": "stdout",
          "output_type": "stream",
          "text": [
            "40\n"
          ]
        }
      ],
      "source": [
        "print(serie[3])"
      ]
    },
    {
      "cell_type": "code",
      "execution_count": 8,
      "metadata": {
        "id": "MJhVfqQJ5SHl"
      },
      "outputs": [
        {
          "data": {
            "text/plain": [
              "4    50\n",
              "5    60\n",
              "6    70\n",
              "dtype: int64"
            ]
          },
          "metadata": {},
          "output_type": "display_data"
        }
      ],
      "source": [
        "display(serie[4:7])"
      ]
    },
    {
      "cell_type": "markdown",
      "metadata": {
        "id": "GR2oY63Cn5WZ"
      },
      "source": [
        "Podemos obter informações estatísticas básicas a partir da série."
      ]
    },
    {
      "cell_type": "code",
      "execution_count": 9,
      "metadata": {
        "id": "RLUXB_yI4ZlG"
      },
      "outputs": [
        {
          "data": {
            "text/plain": [
              "count     9.000000\n",
              "mean     50.000000\n",
              "std      27.386128\n",
              "min      10.000000\n",
              "25%      30.000000\n",
              "50%      50.000000\n",
              "75%      70.000000\n",
              "max      90.000000\n",
              "dtype: float64"
            ]
          },
          "execution_count": 9,
          "metadata": {},
          "output_type": "execute_result"
        }
      ],
      "source": [
        "serie.describe()"
      ]
    },
    {
      "cell_type": "markdown",
      "metadata": {
        "id": "Fb7quGf-1s9d"
      },
      "source": [
        "Média Aritimética (Soma de todos elementos dividido pela quantidade de elementos)"
      ]
    },
    {
      "cell_type": "code",
      "execution_count": 10,
      "metadata": {
        "id": "EAd_6sYL2j2f"
      },
      "outputs": [
        {
          "name": "stdout",
          "output_type": "stream",
          "text": [
            "Total de Elementos: 9\n"
          ]
        }
      ],
      "source": [
        "tamanho = serie.size\n",
        "print(f'Total de Elementos: {tamanho}')"
      ]
    },
    {
      "cell_type": "code",
      "execution_count": 11,
      "metadata": {
        "id": "OvOvYFnioC_d"
      },
      "outputs": [
        {
          "name": "stdout",
          "output_type": "stream",
          "text": [
            "Média: 50.0\n"
          ]
        }
      ],
      "source": [
        "media = serie.mean()\n",
        "print(f'Média: {media}')"
      ]
    },
    {
      "cell_type": "markdown",
      "metadata": {
        "id": "EWyu2kvo13fA"
      },
      "source": [
        "Maior Valor"
      ]
    },
    {
      "cell_type": "code",
      "execution_count": 12,
      "metadata": {
        "id": "8CTTy7Skpc5n"
      },
      "outputs": [
        {
          "name": "stdout",
          "output_type": "stream",
          "text": [
            "Maior Valor: 90\n"
          ]
        }
      ],
      "source": [
        "maximo = serie.max()\n",
        "print(f'Maior Valor: {maximo}')"
      ]
    },
    {
      "cell_type": "markdown",
      "metadata": {
        "id": "FlAj0ZVD14ns"
      },
      "source": [
        "Menor Valor"
      ]
    },
    {
      "cell_type": "code",
      "execution_count": 13,
      "metadata": {
        "id": "zpWRBvr_piOT"
      },
      "outputs": [
        {
          "name": "stdout",
          "output_type": "stream",
          "text": [
            "Menor Valor: 10\n"
          ]
        }
      ],
      "source": [
        "minimo = serie.min()\n",
        "print(f'Menor Valor: {minimo}')"
      ]
    },
    {
      "cell_type": "markdown",
      "metadata": {
        "id": "FN3R7VUq17AA"
      },
      "source": [
        "A Mediana, o elemento localizado no centro ao considerar a série ordenada em ordem crescente."
      ]
    },
    {
      "cell_type": "code",
      "execution_count": 14,
      "metadata": {
        "id": "sUtfWs_2ppyJ"
      },
      "outputs": [
        {
          "name": "stdout",
          "output_type": "stream",
          "text": [
            "Mediana: 50.0\n"
          ]
        }
      ],
      "source": [
        "mediana = serie.median()\n",
        "print(f'Mediana: {mediana}')"
      ]
    },
    {
      "cell_type": "markdown",
      "metadata": {
        "id": "qEom9dwh1cmX"
      },
      "source": [
        "Vamos adicionar mais um elemento no próximo índice da série"
      ]
    },
    {
      "cell_type": "code",
      "execution_count": 15,
      "metadata": {
        "id": "AoaBbWAb1KqA"
      },
      "outputs": [
        {
          "name": "stdout",
          "output_type": "stream",
          "text": [
            "0     10\n",
            "1     20\n",
            "2     30\n",
            "3     40\n",
            "4     50\n",
            "5     60\n",
            "6     70\n",
            "7     80\n",
            "8     90\n",
            "9    100\n",
            "dtype: int64\n"
          ]
        }
      ],
      "source": [
        "serie[9] = 100\n",
        "print(serie)"
      ]
    },
    {
      "cell_type": "markdown",
      "metadata": {
        "id": "ZOEsUzxm3SjH"
      },
      "source": [
        "Se a mediana é o elemento central, como calculá-la em um cojunto de elementos com número de itens par?"
      ]
    },
    {
      "cell_type": "code",
      "execution_count": 16,
      "metadata": {
        "id": "vZeXgkPs3SOX"
      },
      "outputs": [
        {
          "name": "stdout",
          "output_type": "stream",
          "text": [
            "Mediana: 55.0\n"
          ]
        }
      ],
      "source": [
        "mediana = serie.median()\n",
        "print(f'Mediana: {mediana}')"
      ]
    },
    {
      "cell_type": "markdown",
      "metadata": {
        "id": "z72HDlASTndl"
      },
      "source": [
        "É possível realizar ações de filtragem na série"
      ]
    },
    {
      "cell_type": "code",
      "execution_count": 17,
      "metadata": {
        "id": "1bLWu5fzUA_0"
      },
      "outputs": [
        {
          "data": {
            "text/plain": [
              "3     40\n",
              "4     50\n",
              "5     60\n",
              "6     70\n",
              "7     80\n",
              "8     90\n",
              "9    100\n",
              "dtype: int64"
            ]
          },
          "metadata": {},
          "output_type": "display_data"
        }
      ],
      "source": [
        "display(serie[serie > 30])"
      ]
    },
    {
      "cell_type": "code",
      "execution_count": 18,
      "metadata": {
        "id": "bt-c8776USs6"
      },
      "outputs": [
        {
          "data": {
            "text/plain": [
              "2    30\n",
              "5    60\n",
              "8    90\n",
              "dtype: int64"
            ]
          },
          "metadata": {},
          "output_type": "display_data"
        }
      ],
      "source": [
        "display(serie[serie % 3 == 0])"
      ]
    },
    {
      "cell_type": "code",
      "execution_count": 19,
      "metadata": {
        "id": "JH6r0S6tUZ_x"
      },
      "outputs": [
        {
          "data": {
            "text/plain": [
              "5     60\n",
              "6     70\n",
              "7     80\n",
              "8     90\n",
              "9    100\n",
              "dtype: int64"
            ]
          },
          "metadata": {},
          "output_type": "display_data"
        }
      ],
      "source": [
        "display(serie[serie > serie.mean()])"
      ]
    },
    {
      "cell_type": "markdown",
      "metadata": {
        "id": "xfrsbBRsD1W5"
      },
      "source": [
        "Podemos também, aplicar cálculos para todos os elementos das séries"
      ]
    },
    {
      "cell_type": "code",
      "execution_count": 20,
      "metadata": {
        "id": "BxNQOzonD01T"
      },
      "outputs": [
        {
          "data": {
            "text/plain": [
              "0     5.0\n",
              "1    10.0\n",
              "2    15.0\n",
              "3    20.0\n",
              "4    25.0\n",
              "5    30.0\n",
              "6    35.0\n",
              "7    40.0\n",
              "8    45.0\n",
              "9    50.0\n",
              "dtype: float64"
            ]
          },
          "metadata": {},
          "output_type": "display_data"
        }
      ],
      "source": [
        "serie_metade = serie/2\n",
        "\n",
        "display(serie_metade)"
      ]
    },
    {
      "cell_type": "markdown",
      "metadata": {
        "id": "4YP4C3UfEJce"
      },
      "source": [
        "E também fazer operações entre duas séries. Nesse caso, o índice é utilizado como referência para correlacionar os registros"
      ]
    },
    {
      "cell_type": "code",
      "execution_count": 21,
      "metadata": {
        "id": "JM7dHF0BEI5o"
      },
      "outputs": [
        {
          "data": {
            "text/plain": [
              "0     15.0\n",
              "1     30.0\n",
              "2     45.0\n",
              "3     60.0\n",
              "4     75.0\n",
              "5     90.0\n",
              "6    105.0\n",
              "7    120.0\n",
              "8    135.0\n",
              "9    150.0\n",
              "dtype: float64"
            ]
          },
          "metadata": {},
          "output_type": "display_data"
        }
      ],
      "source": [
        "display(serie + serie_metade)"
      ]
    },
    {
      "cell_type": "markdown",
      "metadata": {
        "id": "QlViTDPh4KGB"
      },
      "source": [
        "Se o número de elementos for par, a mediana é a média aritmética dos dois valores centrais."
      ]
    },
    {
      "cell_type": "markdown",
      "metadata": {
        "id": "4RBXmH3U9X6B"
      },
      "source": [
        "### Além dos índices numéricos autoincrementais, é possível fornecer um conjunto de índices customizado, que pode ser utilizado para acrescentar informações à análise."
      ]
    },
    {
      "cell_type": "markdown",
      "metadata": {
        "id": "RH9ICeF09462"
      },
      "source": [
        "Vamos criar uma série com as temperaturas médias por mês do ano em Petrópolis.\n",
        "\n",
        "Fonte: https://www.climatempo.com.br/previsao-do-tempo/15-dias/cidade/317/petropolis-rj"
      ]
    },
    {
      "cell_type": "code",
      "execution_count": 22,
      "metadata": {
        "id": "D3ud8c7R9Rke"
      },
      "outputs": [],
      "source": [
        "temperatura_minima = {'13/05': 13,\n",
        "                     '14/05': 12,\n",
        "                     '15/05': 15,\n",
        "                     '16/05': 14,\n",
        "                     '17/05': 14,\n",
        "                     '18/05': 15,\n",
        "                     '19/05': 14,\n",
        "                     '20/05': 15,\n",
        "                     '21/05': 16,\n",
        "                     '22/05': 16}"
      ]
    },
    {
      "cell_type": "code",
      "execution_count": 23,
      "metadata": {
        "id": "ximKEaIO_jdJ"
      },
      "outputs": [],
      "source": [
        "temperatura_min = pd.Series(temperatura_minima)"
      ]
    },
    {
      "cell_type": "code",
      "execution_count": 24,
      "metadata": {
        "id": "DuO0hxm2_m7P"
      },
      "outputs": [
        {
          "data": {
            "text/plain": [
              "13/05    13\n",
              "14/05    12\n",
              "15/05    15\n",
              "16/05    14\n",
              "17/05    14\n",
              "dtype: int64"
            ]
          },
          "execution_count": 24,
          "metadata": {},
          "output_type": "execute_result"
        }
      ],
      "source": [
        "temperatura_min.head()"
      ]
    },
    {
      "cell_type": "code",
      "execution_count": 25,
      "metadata": {
        "id": "OtyGd_o9_qOk"
      },
      "outputs": [
        {
          "data": {
            "text/plain": [
              "count    10.000000\n",
              "mean     14.400000\n",
              "std       1.264911\n",
              "min      12.000000\n",
              "25%      14.000000\n",
              "50%      14.500000\n",
              "75%      15.000000\n",
              "max      16.000000\n",
              "dtype: float64"
            ]
          },
          "execution_count": 25,
          "metadata": {},
          "output_type": "execute_result"
        }
      ],
      "source": [
        "temperatura_min.describe()"
      ]
    },
    {
      "cell_type": "markdown",
      "metadata": {
        "id": "H7vAVZyyAyWV"
      },
      "source": [
        "Ou até mesmo, acessar diretamente pelos índices"
      ]
    },
    {
      "cell_type": "code",
      "execution_count": 26,
      "metadata": {
        "id": "uXXdomEZAxyp"
      },
      "outputs": [
        {
          "data": {
            "text/plain": [
              "14/05    12\n",
              "18/05    15\n",
              "20/05    15\n",
              "22/05    16\n",
              "dtype: int64"
            ]
          },
          "execution_count": 26,
          "metadata": {},
          "output_type": "execute_result"
        }
      ],
      "source": [
        "temperatura_min[['14/05','18/05','20/05','22/05']]"
      ]
    },
    {
      "cell_type": "markdown",
      "metadata": {
        "id": "XovzKxNiDKXa"
      },
      "source": [
        "Ainda é possível buscar por posição, através do método iLoc"
      ]
    },
    {
      "cell_type": "code",
      "execution_count": 27,
      "metadata": {
        "id": "qRuFRuYYDJU2"
      },
      "outputs": [
        {
          "data": {
            "text/plain": [
              "13/05    13\n",
              "14/05    12\n",
              "15/05    15\n",
              "dtype: int64"
            ]
          },
          "execution_count": 27,
          "metadata": {},
          "output_type": "execute_result"
        }
      ],
      "source": [
        "temperatura_min.iloc[0:3]"
      ]
    },
    {
      "cell_type": "markdown",
      "metadata": {
        "id": "zYPZJcrt6cNk"
      },
      "source": [
        "Podemos também usar o método Plot para gerar visualizacoes sobre os dados"
      ]
    },
    {
      "cell_type": "code",
      "execution_count": 28,
      "metadata": {
        "id": "o_Usvz_lDC6J"
      },
      "outputs": [
        {
          "ename": "ImportError",
          "evalue": "matplotlib is required for plotting when the default backend \"matplotlib\" is selected.",
          "output_type": "error",
          "traceback": [
            "\u001b[1;31m---------------------------------------------------------------------------\u001b[0m",
            "\u001b[1;31mImportError\u001b[0m                               Traceback (most recent call last)",
            "Cell \u001b[1;32mIn[28], line 1\u001b[0m\n\u001b[1;32m----> 1\u001b[0m \u001b[43mtemperatura_min\u001b[49m\u001b[38;5;241;43m.\u001b[39;49m\u001b[43mplot\u001b[49m\u001b[43m(\u001b[49m\u001b[43m)\u001b[49m\n",
            "File \u001b[1;32m~\\AppData\\Roaming\\Python\\Python310\\site-packages\\pandas\\plotting\\_core.py:947\u001b[0m, in \u001b[0;36mPlotAccessor.__call__\u001b[1;34m(self, *args, **kwargs)\u001b[0m\n\u001b[0;32m    946\u001b[0m \u001b[38;5;28;01mdef\u001b[39;00m\u001b[38;5;250m \u001b[39m\u001b[38;5;21m__call__\u001b[39m(\u001b[38;5;28mself\u001b[39m, \u001b[38;5;241m*\u001b[39margs, \u001b[38;5;241m*\u001b[39m\u001b[38;5;241m*\u001b[39mkwargs):\n\u001b[1;32m--> 947\u001b[0m     plot_backend \u001b[38;5;241m=\u001b[39m \u001b[43m_get_plot_backend\u001b[49m\u001b[43m(\u001b[49m\u001b[43mkwargs\u001b[49m\u001b[38;5;241;43m.\u001b[39;49m\u001b[43mpop\u001b[49m\u001b[43m(\u001b[49m\u001b[38;5;124;43m\"\u001b[39;49m\u001b[38;5;124;43mbackend\u001b[39;49m\u001b[38;5;124;43m\"\u001b[39;49m\u001b[43m,\u001b[49m\u001b[43m \u001b[49m\u001b[38;5;28;43;01mNone\u001b[39;49;00m\u001b[43m)\u001b[49m\u001b[43m)\u001b[49m\n\u001b[0;32m    949\u001b[0m     x, y, kind, kwargs \u001b[38;5;241m=\u001b[39m \u001b[38;5;28mself\u001b[39m\u001b[38;5;241m.\u001b[39m_get_call_args(\n\u001b[0;32m    950\u001b[0m         plot_backend\u001b[38;5;241m.\u001b[39m\u001b[38;5;18m__name__\u001b[39m, \u001b[38;5;28mself\u001b[39m\u001b[38;5;241m.\u001b[39m_parent, args, kwargs\n\u001b[0;32m    951\u001b[0m     )\n\u001b[0;32m    953\u001b[0m     kind \u001b[38;5;241m=\u001b[39m \u001b[38;5;28mself\u001b[39m\u001b[38;5;241m.\u001b[39m_kind_aliases\u001b[38;5;241m.\u001b[39mget(kind, kind)\n",
            "File \u001b[1;32m~\\AppData\\Roaming\\Python\\Python310\\site-packages\\pandas\\plotting\\_core.py:1944\u001b[0m, in \u001b[0;36m_get_plot_backend\u001b[1;34m(backend)\u001b[0m\n\u001b[0;32m   1941\u001b[0m \u001b[38;5;28;01mif\u001b[39;00m backend_str \u001b[38;5;129;01min\u001b[39;00m _backends:\n\u001b[0;32m   1942\u001b[0m     \u001b[38;5;28;01mreturn\u001b[39;00m _backends[backend_str]\n\u001b[1;32m-> 1944\u001b[0m module \u001b[38;5;241m=\u001b[39m \u001b[43m_load_backend\u001b[49m\u001b[43m(\u001b[49m\u001b[43mbackend_str\u001b[49m\u001b[43m)\u001b[49m\n\u001b[0;32m   1945\u001b[0m _backends[backend_str] \u001b[38;5;241m=\u001b[39m module\n\u001b[0;32m   1946\u001b[0m \u001b[38;5;28;01mreturn\u001b[39;00m module\n",
            "File \u001b[1;32m~\\AppData\\Roaming\\Python\\Python310\\site-packages\\pandas\\plotting\\_core.py:1874\u001b[0m, in \u001b[0;36m_load_backend\u001b[1;34m(backend)\u001b[0m\n\u001b[0;32m   1872\u001b[0m         module \u001b[38;5;241m=\u001b[39m importlib\u001b[38;5;241m.\u001b[39mimport_module(\u001b[38;5;124m\"\u001b[39m\u001b[38;5;124mpandas.plotting._matplotlib\u001b[39m\u001b[38;5;124m\"\u001b[39m)\n\u001b[0;32m   1873\u001b[0m     \u001b[38;5;28;01mexcept\u001b[39;00m \u001b[38;5;167;01mImportError\u001b[39;00m:\n\u001b[1;32m-> 1874\u001b[0m         \u001b[38;5;28;01mraise\u001b[39;00m \u001b[38;5;167;01mImportError\u001b[39;00m(\n\u001b[0;32m   1875\u001b[0m             \u001b[38;5;124m\"\u001b[39m\u001b[38;5;124mmatplotlib is required for plotting when the \u001b[39m\u001b[38;5;124m\"\u001b[39m\n\u001b[0;32m   1876\u001b[0m             \u001b[38;5;124m'\u001b[39m\u001b[38;5;124mdefault backend \u001b[39m\u001b[38;5;124m\"\u001b[39m\u001b[38;5;124mmatplotlib\u001b[39m\u001b[38;5;124m\"\u001b[39m\u001b[38;5;124m is selected.\u001b[39m\u001b[38;5;124m'\u001b[39m\n\u001b[0;32m   1877\u001b[0m         ) \u001b[38;5;28;01mfrom\u001b[39;00m\u001b[38;5;250m \u001b[39m\u001b[38;5;28;01mNone\u001b[39;00m\n\u001b[0;32m   1878\u001b[0m     \u001b[38;5;28;01mreturn\u001b[39;00m module\n\u001b[0;32m   1880\u001b[0m found_backend \u001b[38;5;241m=\u001b[39m \u001b[38;5;28;01mFalse\u001b[39;00m\n",
            "\u001b[1;31mImportError\u001b[0m: matplotlib is required for plotting when the default backend \"matplotlib\" is selected."
          ]
        }
      ],
      "source": [
        "temperatura_min.plot()"
      ]
    },
    {
      "cell_type": "code",
      "execution_count": null,
      "metadata": {
        "id": "vnCAGfwC6ID-"
      },
      "outputs": [],
      "source": [
        "temperatura_min.plot(kind='bar')"
      ]
    },
    {
      "cell_type": "markdown",
      "metadata": {
        "id": "DBhghsqsVK1_"
      },
      "source": [
        "## **Prática**\n",
        "\n",
        "A partir do conjunto de dados de temperaturas mínimas do exemplo, junto ao conjunto de dados a seguir de temperaturas máximas, mais as regras de negócios fornecidas resolva a seguinte questão. Utilize Series Pandas e demais conhecimentos de python aprendidos.\n",
        "\n",
        "Seu objetivo é ajudar um turista a planejar quais roupas deverá usar ou levar ao sair de casa para passar um dia inteiro de outono em Petrópolis, as regras são as seguintes:\n",
        "\n",
        "\n",
        "*   **Casaco**: se a temperatura mínima do dia for menor que 16ºc\n",
        "*   **Gorro**: se a temperatura mínima do dia for menor que a média de temperaturas mínimas\n",
        "*   **Mochila**: quando a amplitude térmica for maior ou igual a 5ºc, será necessário levar uma mochila para guardar as roupas de frio\n",
        "*   **Bermuda**: Se a temperatura máxima for pelo menos 22ºc e a mínima for acima das médias de temperaturas mínimas\n",
        "*   **Luvas**: Se a temperatura mínima for a menor do período analisado\n",
        "\n",
        "\n",
        "####*Amplitude Térmica*: Diferença entre a maior a menor temperatura em um período analisado. Nesse caso, estamos analisando por dia. (Máxima Dia - Mínima Dia)\n",
        "####*Efeito Chuva*: Se chover, a sensação térmica ficará menor, com isso, todas as temperaturas serão consideradas 2ºc menores, tanto para máximas quanto para mínimas.\n",
        "\n",
        "\n",
        "**Crie scripts para responder as seguintes questões**\n",
        "\n",
        "1.   Se as temperaturas mínimas e máximas oscilarem 1ºc para cima em todos os dias, quantos dias o turista será recomendado a usar bermuda?\n",
        "2.   Em quais dias será necessário levar mochila?\n",
        "3.   Em algum dos dias o Turista será indicado a usar tanto bermuda quanto luvas?\n",
        "4.   Quais serão os itens indicados para o dia 17/05?\n",
        "5.   Em quais dias, que normalmente não necessitariam o uso de casaco, o item passaria a ser necessário em caso de chuva?\n",
        "6.   Gere um gráfico com a evolução da amplitude térmica.\n",
        "7.   Gere um gráfico que retorne quantas vezes cada item será utilizado."
      ]
    },
    {
      "cell_type": "code",
      "execution_count": null,
      "metadata": {
        "id": "RWRpNeNEUtiC"
      },
      "outputs": [],
      "source": [
        "temperatura_maxima = {'13/05': 21,\n",
        "                     '14/05': 20,\n",
        "                     '15/05': 21,\n",
        "                     '16/05': 22,\n",
        "                     '17/05': 23,\n",
        "                     '18/05': 22,\n",
        "                     '19/05': 23,\n",
        "                     '20/05': 23,\n",
        "                     '21/05': 25,\n",
        "                     '22/05': 25}"
      ]
    },
    {
      "cell_type": "markdown",
      "metadata": {
        "id": "whH_671_kD9A"
      },
      "source": [
        "# DataFrames"
      ]
    },
    {
      "cell_type": "markdown",
      "metadata": {
        "id": "UhKStPemM4kI"
      },
      "source": [
        "### Assim como nas seríes é possível usar as estruturas comuns da linguagem para a criação dos DataFrames. Também é possível importar de arquivos (txt, csv, excel, etc) ou da Web."
      ]
    },
    {
      "cell_type": "markdown",
      "metadata": {
        "id": "FO0hABcb4bPv"
      },
      "source": []
    },
    {
      "cell_type": "code",
      "execution_count": 29,
      "metadata": {
        "id": "IPuazVr9NAZ_"
      },
      "outputs": [],
      "source": [
        "#Campos: ID da Transação, Codigo Cliente, Modelo, Data do Aluguel, Data de Devolução, Valor Locacao, Taxa Administrativa\n",
        "\n",
        "alugueis = [\n",
        "    (1, 1023, \"Onix\", \"2025-01-05\", \"2025-01-10\", 1250.00, \"R$ 150,00\"),\n",
        "    (2, 1045, \"HB20\", \"2025-01-07\", \"2025-01-12\", 1400.00, \"R$ 150,00\"),\n",
        "    (3, 1102, \"Tracker\", \"2025-01-10\", \"2025-01-15\", 1750.50, \"R$ 200,00\"),\n",
        "    (4, 1150, \"T-Cross\", \"2025-01-12\", \"2025-01-16\", 1120.75, \"R$ 200,00\"),\n",
        "    (5, 1201, \"Civic\", \"2025-01-15\", \"2025-01-17\", 800.00, \"R$ 250,00\"),\n",
        "    (6, 1254, \"Civic\", \"2025-01-18\", \"2025-01-31\", 4525.25, \"R$ 250,00\"),\n",
        "    (7, 1300, \"L200\", \"2025-01-20\", \"2025-01-29\", 4875.00, \"R$ 300,00\"),\n",
        "    (8, 1356, \"Compass\", \"2025-01-22\", \"2025-01-28\", 3400.60, \"R$ 400,00\"),\n",
        "    (9, 1025, \"Onix\", \"2025-02-01\", \"2025-02-05\", 1000.00, \"R$ 150,00\"),\n",
        "    (10, 1023, \"HB20\", \"2025-02-03\", \"2025-02-07\", 1120.00, \"R$ 150,00\"),\n",
        "    (11, 1122, \"Tracker\", \"2025-02-05\", \"2025-02-07\", 425.75, \"R$ 200,00\"),\n",
        "    (12, 1177, \"T-Cross\", \"2025-02-08\", \"2025-02-12\", 1240.50, \"R$ 200,00\"),\n",
        "    (13, 1225, \"Civic\", \"2025-02-10\", \"2025-02-15\", 1750.00, \"R$ 250,00\"),\n",
        "    (14, 1270, \"Civic\", \"2025-02-12\", \"2025-02-17\", 2000.00, \"R$ 250,00\"),\n",
        "    (15, 1300, \"L200\", \"2025-02-14\", \"2025-02-15\", 500.00, \"R$ 300,00\"),\n",
        "    (16, 1375, \"Compass\", \"2025-02-16\", \"2025-02-21\", 3600.00, \"R$ 400,00\"),\n",
        "    (17, 1005, \"Onix\", \"2025-02-18\", \"2025-02-19\", 400.00, \"R$ 150,00\"),\n",
        "    (18, 1150, \"Tracker\", \"2025-02-20\", \"2025-02-25\", 1925.00, \"R$ 250,00\"),\n",
        "    (19, 1105, \"T-Cross\", \"2025-02-22\", \"2025-02-26\", 1300.00, \"R$ 200,00\"),\n",
        "    (20, 1023, \"Civic\", \"2025-02-20\", \"2025-02-28\", 3850.00, \"R$ 250,00\")\n",
        "]"
      ]
    },
    {
      "cell_type": "markdown",
      "metadata": {
        "id": "HZxBbu6_NTNj"
      },
      "source": [
        "### Com isso, conseguimos instanciar a classe Dataframe, a partir da leitura do CSV. A partir de agora, os dados estão disponíveis para serem trabalhados em memória."
      ]
    },
    {
      "cell_type": "code",
      "execution_count": 30,
      "metadata": {
        "id": "nawYM1nINOcX"
      },
      "outputs": [],
      "source": [
        "df = pd.DataFrame(alugueis)"
      ]
    },
    {
      "cell_type": "code",
      "execution_count": 31,
      "metadata": {
        "id": "n3CwpPFVkRj1"
      },
      "outputs": [],
      "source": [
        "df.to_csv('alugueis_carros.csv', index= False, header = False)"
      ]
    },
    {
      "cell_type": "code",
      "execution_count": 32,
      "metadata": {
        "id": "1oTZxZ88n_U6"
      },
      "outputs": [
        {
          "data": {
            "text/html": [
              "<div>\n",
              "<style scoped>\n",
              "    .dataframe tbody tr th:only-of-type {\n",
              "        vertical-align: middle;\n",
              "    }\n",
              "\n",
              "    .dataframe tbody tr th {\n",
              "        vertical-align: top;\n",
              "    }\n",
              "\n",
              "    .dataframe thead th {\n",
              "        text-align: right;\n",
              "    }\n",
              "</style>\n",
              "<table border=\"1\" class=\"dataframe\">\n",
              "  <thead>\n",
              "    <tr style=\"text-align: right;\">\n",
              "      <th></th>\n",
              "      <th>0</th>\n",
              "      <th>1</th>\n",
              "      <th>2</th>\n",
              "      <th>3</th>\n",
              "      <th>4</th>\n",
              "      <th>5</th>\n",
              "      <th>6</th>\n",
              "    </tr>\n",
              "  </thead>\n",
              "  <tbody>\n",
              "    <tr>\n",
              "      <th>15</th>\n",
              "      <td>16</td>\n",
              "      <td>1375</td>\n",
              "      <td>Compass</td>\n",
              "      <td>2025-02-16</td>\n",
              "      <td>2025-02-21</td>\n",
              "      <td>3600.0</td>\n",
              "      <td>R$ 400,00</td>\n",
              "    </tr>\n",
              "    <tr>\n",
              "      <th>16</th>\n",
              "      <td>17</td>\n",
              "      <td>1005</td>\n",
              "      <td>Onix</td>\n",
              "      <td>2025-02-18</td>\n",
              "      <td>2025-02-19</td>\n",
              "      <td>400.0</td>\n",
              "      <td>R$ 150,00</td>\n",
              "    </tr>\n",
              "    <tr>\n",
              "      <th>17</th>\n",
              "      <td>18</td>\n",
              "      <td>1150</td>\n",
              "      <td>Tracker</td>\n",
              "      <td>2025-02-20</td>\n",
              "      <td>2025-02-25</td>\n",
              "      <td>1925.0</td>\n",
              "      <td>R$ 250,00</td>\n",
              "    </tr>\n",
              "    <tr>\n",
              "      <th>18</th>\n",
              "      <td>19</td>\n",
              "      <td>1105</td>\n",
              "      <td>T-Cross</td>\n",
              "      <td>2025-02-22</td>\n",
              "      <td>2025-02-26</td>\n",
              "      <td>1300.0</td>\n",
              "      <td>R$ 200,00</td>\n",
              "    </tr>\n",
              "    <tr>\n",
              "      <th>19</th>\n",
              "      <td>20</td>\n",
              "      <td>1023</td>\n",
              "      <td>Civic</td>\n",
              "      <td>2025-02-20</td>\n",
              "      <td>2025-02-28</td>\n",
              "      <td>3850.0</td>\n",
              "      <td>R$ 250,00</td>\n",
              "    </tr>\n",
              "  </tbody>\n",
              "</table>\n",
              "</div>"
            ],
            "text/plain": [
              "     0     1        2           3           4       5          6\n",
              "15  16  1375  Compass  2025-02-16  2025-02-21  3600.0  R$ 400,00\n",
              "16  17  1005     Onix  2025-02-18  2025-02-19   400.0  R$ 150,00\n",
              "17  18  1150  Tracker  2025-02-20  2025-02-25  1925.0  R$ 250,00\n",
              "18  19  1105  T-Cross  2025-02-22  2025-02-26  1300.0  R$ 200,00\n",
              "19  20  1023    Civic  2025-02-20  2025-02-28  3850.0  R$ 250,00"
            ]
          },
          "execution_count": 32,
          "metadata": {},
          "output_type": "execute_result"
        }
      ],
      "source": [
        "df.tail()"
      ]
    },
    {
      "cell_type": "code",
      "execution_count": 33,
      "metadata": {
        "id": "cru1gkj8SN7g"
      },
      "outputs": [],
      "source": [
        "df = pd.read_csv('alugueis_carros.csv',header=None)"
      ]
    },
    {
      "cell_type": "code",
      "execution_count": 34,
      "metadata": {
        "id": "YZoHXl6nn42g"
      },
      "outputs": [
        {
          "data": {
            "text/html": [
              "<div>\n",
              "<style scoped>\n",
              "    .dataframe tbody tr th:only-of-type {\n",
              "        vertical-align: middle;\n",
              "    }\n",
              "\n",
              "    .dataframe tbody tr th {\n",
              "        vertical-align: top;\n",
              "    }\n",
              "\n",
              "    .dataframe thead th {\n",
              "        text-align: right;\n",
              "    }\n",
              "</style>\n",
              "<table border=\"1\" class=\"dataframe\">\n",
              "  <thead>\n",
              "    <tr style=\"text-align: right;\">\n",
              "      <th></th>\n",
              "      <th>0</th>\n",
              "      <th>1</th>\n",
              "      <th>2</th>\n",
              "      <th>3</th>\n",
              "      <th>4</th>\n",
              "      <th>5</th>\n",
              "      <th>6</th>\n",
              "    </tr>\n",
              "  </thead>\n",
              "  <tbody>\n",
              "    <tr>\n",
              "      <th>0</th>\n",
              "      <td>1</td>\n",
              "      <td>1023</td>\n",
              "      <td>Onix</td>\n",
              "      <td>2025-01-05</td>\n",
              "      <td>2025-01-10</td>\n",
              "      <td>1250.00</td>\n",
              "      <td>R$ 150,00</td>\n",
              "    </tr>\n",
              "    <tr>\n",
              "      <th>1</th>\n",
              "      <td>2</td>\n",
              "      <td>1045</td>\n",
              "      <td>HB20</td>\n",
              "      <td>2025-01-07</td>\n",
              "      <td>2025-01-12</td>\n",
              "      <td>1400.00</td>\n",
              "      <td>R$ 150,00</td>\n",
              "    </tr>\n",
              "    <tr>\n",
              "      <th>2</th>\n",
              "      <td>3</td>\n",
              "      <td>1102</td>\n",
              "      <td>Tracker</td>\n",
              "      <td>2025-01-10</td>\n",
              "      <td>2025-01-15</td>\n",
              "      <td>1750.50</td>\n",
              "      <td>R$ 200,00</td>\n",
              "    </tr>\n",
              "    <tr>\n",
              "      <th>3</th>\n",
              "      <td>4</td>\n",
              "      <td>1150</td>\n",
              "      <td>T-Cross</td>\n",
              "      <td>2025-01-12</td>\n",
              "      <td>2025-01-16</td>\n",
              "      <td>1120.75</td>\n",
              "      <td>R$ 200,00</td>\n",
              "    </tr>\n",
              "    <tr>\n",
              "      <th>4</th>\n",
              "      <td>5</td>\n",
              "      <td>1201</td>\n",
              "      <td>Civic</td>\n",
              "      <td>2025-01-15</td>\n",
              "      <td>2025-01-17</td>\n",
              "      <td>800.00</td>\n",
              "      <td>R$ 250,00</td>\n",
              "    </tr>\n",
              "    <tr>\n",
              "      <th>5</th>\n",
              "      <td>6</td>\n",
              "      <td>1254</td>\n",
              "      <td>Civic</td>\n",
              "      <td>2025-01-18</td>\n",
              "      <td>2025-01-31</td>\n",
              "      <td>4525.25</td>\n",
              "      <td>R$ 250,00</td>\n",
              "    </tr>\n",
              "    <tr>\n",
              "      <th>6</th>\n",
              "      <td>7</td>\n",
              "      <td>1300</td>\n",
              "      <td>L200</td>\n",
              "      <td>2025-01-20</td>\n",
              "      <td>2025-01-29</td>\n",
              "      <td>4875.00</td>\n",
              "      <td>R$ 300,00</td>\n",
              "    </tr>\n",
              "    <tr>\n",
              "      <th>7</th>\n",
              "      <td>8</td>\n",
              "      <td>1356</td>\n",
              "      <td>Compass</td>\n",
              "      <td>2025-01-22</td>\n",
              "      <td>2025-01-28</td>\n",
              "      <td>3400.60</td>\n",
              "      <td>R$ 400,00</td>\n",
              "    </tr>\n",
              "    <tr>\n",
              "      <th>8</th>\n",
              "      <td>9</td>\n",
              "      <td>1025</td>\n",
              "      <td>Onix</td>\n",
              "      <td>2025-02-01</td>\n",
              "      <td>2025-02-05</td>\n",
              "      <td>1000.00</td>\n",
              "      <td>R$ 150,00</td>\n",
              "    </tr>\n",
              "    <tr>\n",
              "      <th>9</th>\n",
              "      <td>10</td>\n",
              "      <td>1023</td>\n",
              "      <td>HB20</td>\n",
              "      <td>2025-02-03</td>\n",
              "      <td>2025-02-07</td>\n",
              "      <td>1120.00</td>\n",
              "      <td>R$ 150,00</td>\n",
              "    </tr>\n",
              "    <tr>\n",
              "      <th>10</th>\n",
              "      <td>11</td>\n",
              "      <td>1122</td>\n",
              "      <td>Tracker</td>\n",
              "      <td>2025-02-05</td>\n",
              "      <td>2025-02-07</td>\n",
              "      <td>425.75</td>\n",
              "      <td>R$ 200,00</td>\n",
              "    </tr>\n",
              "    <tr>\n",
              "      <th>11</th>\n",
              "      <td>12</td>\n",
              "      <td>1177</td>\n",
              "      <td>T-Cross</td>\n",
              "      <td>2025-02-08</td>\n",
              "      <td>2025-02-12</td>\n",
              "      <td>1240.50</td>\n",
              "      <td>R$ 200,00</td>\n",
              "    </tr>\n",
              "    <tr>\n",
              "      <th>12</th>\n",
              "      <td>13</td>\n",
              "      <td>1225</td>\n",
              "      <td>Civic</td>\n",
              "      <td>2025-02-10</td>\n",
              "      <td>2025-02-15</td>\n",
              "      <td>1750.00</td>\n",
              "      <td>R$ 250,00</td>\n",
              "    </tr>\n",
              "    <tr>\n",
              "      <th>13</th>\n",
              "      <td>14</td>\n",
              "      <td>1270</td>\n",
              "      <td>Civic</td>\n",
              "      <td>2025-02-12</td>\n",
              "      <td>2025-02-17</td>\n",
              "      <td>2000.00</td>\n",
              "      <td>R$ 250,00</td>\n",
              "    </tr>\n",
              "    <tr>\n",
              "      <th>14</th>\n",
              "      <td>15</td>\n",
              "      <td>1300</td>\n",
              "      <td>L200</td>\n",
              "      <td>2025-02-14</td>\n",
              "      <td>2025-02-15</td>\n",
              "      <td>500.00</td>\n",
              "      <td>R$ 300,00</td>\n",
              "    </tr>\n",
              "    <tr>\n",
              "      <th>15</th>\n",
              "      <td>16</td>\n",
              "      <td>1375</td>\n",
              "      <td>Compass</td>\n",
              "      <td>2025-02-16</td>\n",
              "      <td>2025-02-21</td>\n",
              "      <td>3600.00</td>\n",
              "      <td>R$ 400,00</td>\n",
              "    </tr>\n",
              "    <tr>\n",
              "      <th>16</th>\n",
              "      <td>17</td>\n",
              "      <td>1005</td>\n",
              "      <td>Onix</td>\n",
              "      <td>2025-02-18</td>\n",
              "      <td>2025-02-19</td>\n",
              "      <td>400.00</td>\n",
              "      <td>R$ 150,00</td>\n",
              "    </tr>\n",
              "    <tr>\n",
              "      <th>17</th>\n",
              "      <td>18</td>\n",
              "      <td>1150</td>\n",
              "      <td>Tracker</td>\n",
              "      <td>2025-02-20</td>\n",
              "      <td>2025-02-25</td>\n",
              "      <td>1925.00</td>\n",
              "      <td>R$ 250,00</td>\n",
              "    </tr>\n",
              "    <tr>\n",
              "      <th>18</th>\n",
              "      <td>19</td>\n",
              "      <td>1105</td>\n",
              "      <td>T-Cross</td>\n",
              "      <td>2025-02-22</td>\n",
              "      <td>2025-02-26</td>\n",
              "      <td>1300.00</td>\n",
              "      <td>R$ 200,00</td>\n",
              "    </tr>\n",
              "    <tr>\n",
              "      <th>19</th>\n",
              "      <td>20</td>\n",
              "      <td>1023</td>\n",
              "      <td>Civic</td>\n",
              "      <td>2025-02-20</td>\n",
              "      <td>2025-02-28</td>\n",
              "      <td>3850.00</td>\n",
              "      <td>R$ 250,00</td>\n",
              "    </tr>\n",
              "  </tbody>\n",
              "</table>\n",
              "</div>"
            ],
            "text/plain": [
              "     0     1        2           3           4        5          6\n",
              "0    1  1023     Onix  2025-01-05  2025-01-10  1250.00  R$ 150,00\n",
              "1    2  1045     HB20  2025-01-07  2025-01-12  1400.00  R$ 150,00\n",
              "2    3  1102  Tracker  2025-01-10  2025-01-15  1750.50  R$ 200,00\n",
              "3    4  1150  T-Cross  2025-01-12  2025-01-16  1120.75  R$ 200,00\n",
              "4    5  1201    Civic  2025-01-15  2025-01-17   800.00  R$ 250,00\n",
              "5    6  1254    Civic  2025-01-18  2025-01-31  4525.25  R$ 250,00\n",
              "6    7  1300     L200  2025-01-20  2025-01-29  4875.00  R$ 300,00\n",
              "7    8  1356  Compass  2025-01-22  2025-01-28  3400.60  R$ 400,00\n",
              "8    9  1025     Onix  2025-02-01  2025-02-05  1000.00  R$ 150,00\n",
              "9   10  1023     HB20  2025-02-03  2025-02-07  1120.00  R$ 150,00\n",
              "10  11  1122  Tracker  2025-02-05  2025-02-07   425.75  R$ 200,00\n",
              "11  12  1177  T-Cross  2025-02-08  2025-02-12  1240.50  R$ 200,00\n",
              "12  13  1225    Civic  2025-02-10  2025-02-15  1750.00  R$ 250,00\n",
              "13  14  1270    Civic  2025-02-12  2025-02-17  2000.00  R$ 250,00\n",
              "14  15  1300     L200  2025-02-14  2025-02-15   500.00  R$ 300,00\n",
              "15  16  1375  Compass  2025-02-16  2025-02-21  3600.00  R$ 400,00\n",
              "16  17  1005     Onix  2025-02-18  2025-02-19   400.00  R$ 150,00\n",
              "17  18  1150  Tracker  2025-02-20  2025-02-25  1925.00  R$ 250,00\n",
              "18  19  1105  T-Cross  2025-02-22  2025-02-26  1300.00  R$ 200,00\n",
              "19  20  1023    Civic  2025-02-20  2025-02-28  3850.00  R$ 250,00"
            ]
          },
          "metadata": {},
          "output_type": "display_data"
        }
      ],
      "source": [
        "display(df)"
      ]
    },
    {
      "cell_type": "markdown",
      "metadata": {
        "id": "U6ghaJuwSSK2"
      },
      "source": [
        "Podemos incluir o nome das colunas, já na criação do DataFrame"
      ]
    },
    {
      "cell_type": "code",
      "execution_count": 35,
      "metadata": {
        "id": "6h6H_Mw9SFeh"
      },
      "outputs": [],
      "source": [
        "df = pd.DataFrame(alugueis, columns=[\n",
        "    \"id_transacao\", \"cod_cliente\", \"modelo\", \"data_aluguel\", \"data_devolucao\", \"valor_locacao\", \"taxa_administrativa\"\n",
        "])"
      ]
    },
    {
      "cell_type": "code",
      "execution_count": 36,
      "metadata": {
        "id": "QKniF5OtSMsD"
      },
      "outputs": [
        {
          "data": {
            "text/html": [
              "<div>\n",
              "<style scoped>\n",
              "    .dataframe tbody tr th:only-of-type {\n",
              "        vertical-align: middle;\n",
              "    }\n",
              "\n",
              "    .dataframe tbody tr th {\n",
              "        vertical-align: top;\n",
              "    }\n",
              "\n",
              "    .dataframe thead th {\n",
              "        text-align: right;\n",
              "    }\n",
              "</style>\n",
              "<table border=\"1\" class=\"dataframe\">\n",
              "  <thead>\n",
              "    <tr style=\"text-align: right;\">\n",
              "      <th></th>\n",
              "      <th>id_transacao</th>\n",
              "      <th>cod_cliente</th>\n",
              "      <th>modelo</th>\n",
              "      <th>data_aluguel</th>\n",
              "      <th>data_devolucao</th>\n",
              "      <th>valor_locacao</th>\n",
              "      <th>taxa_administrativa</th>\n",
              "    </tr>\n",
              "  </thead>\n",
              "  <tbody>\n",
              "    <tr>\n",
              "      <th>0</th>\n",
              "      <td>1</td>\n",
              "      <td>1023</td>\n",
              "      <td>Onix</td>\n",
              "      <td>2025-01-05</td>\n",
              "      <td>2025-01-10</td>\n",
              "      <td>1250.00</td>\n",
              "      <td>R$ 150,00</td>\n",
              "    </tr>\n",
              "    <tr>\n",
              "      <th>1</th>\n",
              "      <td>2</td>\n",
              "      <td>1045</td>\n",
              "      <td>HB20</td>\n",
              "      <td>2025-01-07</td>\n",
              "      <td>2025-01-12</td>\n",
              "      <td>1400.00</td>\n",
              "      <td>R$ 150,00</td>\n",
              "    </tr>\n",
              "    <tr>\n",
              "      <th>2</th>\n",
              "      <td>3</td>\n",
              "      <td>1102</td>\n",
              "      <td>Tracker</td>\n",
              "      <td>2025-01-10</td>\n",
              "      <td>2025-01-15</td>\n",
              "      <td>1750.50</td>\n",
              "      <td>R$ 200,00</td>\n",
              "    </tr>\n",
              "    <tr>\n",
              "      <th>3</th>\n",
              "      <td>4</td>\n",
              "      <td>1150</td>\n",
              "      <td>T-Cross</td>\n",
              "      <td>2025-01-12</td>\n",
              "      <td>2025-01-16</td>\n",
              "      <td>1120.75</td>\n",
              "      <td>R$ 200,00</td>\n",
              "    </tr>\n",
              "    <tr>\n",
              "      <th>4</th>\n",
              "      <td>5</td>\n",
              "      <td>1201</td>\n",
              "      <td>Civic</td>\n",
              "      <td>2025-01-15</td>\n",
              "      <td>2025-01-17</td>\n",
              "      <td>800.00</td>\n",
              "      <td>R$ 250,00</td>\n",
              "    </tr>\n",
              "    <tr>\n",
              "      <th>5</th>\n",
              "      <td>6</td>\n",
              "      <td>1254</td>\n",
              "      <td>Civic</td>\n",
              "      <td>2025-01-18</td>\n",
              "      <td>2025-01-31</td>\n",
              "      <td>4525.25</td>\n",
              "      <td>R$ 250,00</td>\n",
              "    </tr>\n",
              "    <tr>\n",
              "      <th>6</th>\n",
              "      <td>7</td>\n",
              "      <td>1300</td>\n",
              "      <td>L200</td>\n",
              "      <td>2025-01-20</td>\n",
              "      <td>2025-01-29</td>\n",
              "      <td>4875.00</td>\n",
              "      <td>R$ 300,00</td>\n",
              "    </tr>\n",
              "    <tr>\n",
              "      <th>7</th>\n",
              "      <td>8</td>\n",
              "      <td>1356</td>\n",
              "      <td>Compass</td>\n",
              "      <td>2025-01-22</td>\n",
              "      <td>2025-01-28</td>\n",
              "      <td>3400.60</td>\n",
              "      <td>R$ 400,00</td>\n",
              "    </tr>\n",
              "    <tr>\n",
              "      <th>8</th>\n",
              "      <td>9</td>\n",
              "      <td>1025</td>\n",
              "      <td>Onix</td>\n",
              "      <td>2025-02-01</td>\n",
              "      <td>2025-02-05</td>\n",
              "      <td>1000.00</td>\n",
              "      <td>R$ 150,00</td>\n",
              "    </tr>\n",
              "    <tr>\n",
              "      <th>9</th>\n",
              "      <td>10</td>\n",
              "      <td>1023</td>\n",
              "      <td>HB20</td>\n",
              "      <td>2025-02-03</td>\n",
              "      <td>2025-02-07</td>\n",
              "      <td>1120.00</td>\n",
              "      <td>R$ 150,00</td>\n",
              "    </tr>\n",
              "  </tbody>\n",
              "</table>\n",
              "</div>"
            ],
            "text/plain": [
              "   id_transacao  cod_cliente   modelo data_aluguel data_devolucao  \\\n",
              "0             1         1023     Onix   2025-01-05     2025-01-10   \n",
              "1             2         1045     HB20   2025-01-07     2025-01-12   \n",
              "2             3         1102  Tracker   2025-01-10     2025-01-15   \n",
              "3             4         1150  T-Cross   2025-01-12     2025-01-16   \n",
              "4             5         1201    Civic   2025-01-15     2025-01-17   \n",
              "5             6         1254    Civic   2025-01-18     2025-01-31   \n",
              "6             7         1300     L200   2025-01-20     2025-01-29   \n",
              "7             8         1356  Compass   2025-01-22     2025-01-28   \n",
              "8             9         1025     Onix   2025-02-01     2025-02-05   \n",
              "9            10         1023     HB20   2025-02-03     2025-02-07   \n",
              "\n",
              "   valor_locacao taxa_administrativa  \n",
              "0        1250.00           R$ 150,00  \n",
              "1        1400.00           R$ 150,00  \n",
              "2        1750.50           R$ 200,00  \n",
              "3        1120.75           R$ 200,00  \n",
              "4         800.00           R$ 250,00  \n",
              "5        4525.25           R$ 250,00  \n",
              "6        4875.00           R$ 300,00  \n",
              "7        3400.60           R$ 400,00  \n",
              "8        1000.00           R$ 150,00  \n",
              "9        1120.00           R$ 150,00  "
            ]
          },
          "execution_count": 36,
          "metadata": {},
          "output_type": "execute_result"
        }
      ],
      "source": [
        "df.head(10)"
      ]
    },
    {
      "cell_type": "markdown",
      "metadata": {
        "id": "6MUP6XIaNstW"
      },
      "source": [
        "### Podemos utilizar alguns métodos para explorar e entender melhor o conjunto de dados."
      ]
    },
    {
      "cell_type": "code",
      "execution_count": 37,
      "metadata": {
        "id": "QQMHtS6pNfF_"
      },
      "outputs": [
        {
          "name": "stdout",
          "output_type": "stream",
          "text": [
            "<class 'pandas.core.frame.DataFrame'>\n",
            "RangeIndex: 20 entries, 0 to 19\n",
            "Data columns (total 7 columns):\n",
            " #   Column               Non-Null Count  Dtype  \n",
            "---  ------               --------------  -----  \n",
            " 0   id_transacao         20 non-null     int64  \n",
            " 1   cod_cliente          20 non-null     int64  \n",
            " 2   modelo               20 non-null     object \n",
            " 3   data_aluguel         20 non-null     object \n",
            " 4   data_devolucao       20 non-null     object \n",
            " 5   valor_locacao        20 non-null     float64\n",
            " 6   taxa_administrativa  20 non-null     object \n",
            "dtypes: float64(1), int64(2), object(4)\n",
            "memory usage: 1.2+ KB\n"
          ]
        }
      ],
      "source": [
        "df.info()"
      ]
    },
    {
      "cell_type": "code",
      "execution_count": 38,
      "metadata": {
        "id": "Vy0sMaaVOLYa"
      },
      "outputs": [
        {
          "data": {
            "text/html": [
              "<div>\n",
              "<style scoped>\n",
              "    .dataframe tbody tr th:only-of-type {\n",
              "        vertical-align: middle;\n",
              "    }\n",
              "\n",
              "    .dataframe tbody tr th {\n",
              "        vertical-align: top;\n",
              "    }\n",
              "\n",
              "    .dataframe thead th {\n",
              "        text-align: right;\n",
              "    }\n",
              "</style>\n",
              "<table border=\"1\" class=\"dataframe\">\n",
              "  <thead>\n",
              "    <tr style=\"text-align: right;\">\n",
              "      <th></th>\n",
              "      <th>id_transacao</th>\n",
              "      <th>cod_cliente</th>\n",
              "      <th>valor_locacao</th>\n",
              "    </tr>\n",
              "  </thead>\n",
              "  <tbody>\n",
              "    <tr>\n",
              "      <th>count</th>\n",
              "      <td>20.00000</td>\n",
              "      <td>20.000000</td>\n",
              "      <td>20.000000</td>\n",
              "    </tr>\n",
              "    <tr>\n",
              "      <th>mean</th>\n",
              "      <td>10.50000</td>\n",
              "      <td>1161.550000</td>\n",
              "      <td>1911.667500</td>\n",
              "    </tr>\n",
              "    <tr>\n",
              "      <th>std</th>\n",
              "      <td>5.91608</td>\n",
              "      <td>119.370928</td>\n",
              "      <td>1373.165751</td>\n",
              "    </tr>\n",
              "    <tr>\n",
              "      <th>min</th>\n",
              "      <td>1.00000</td>\n",
              "      <td>1005.000000</td>\n",
              "      <td>400.000000</td>\n",
              "    </tr>\n",
              "    <tr>\n",
              "      <th>25%</th>\n",
              "      <td>5.75000</td>\n",
              "      <td>1040.000000</td>\n",
              "      <td>1090.000000</td>\n",
              "    </tr>\n",
              "    <tr>\n",
              "      <th>50%</th>\n",
              "      <td>10.50000</td>\n",
              "      <td>1150.000000</td>\n",
              "      <td>1350.000000</td>\n",
              "    </tr>\n",
              "    <tr>\n",
              "      <th>75%</th>\n",
              "      <td>15.25000</td>\n",
              "      <td>1258.000000</td>\n",
              "      <td>2350.150000</td>\n",
              "    </tr>\n",
              "    <tr>\n",
              "      <th>max</th>\n",
              "      <td>20.00000</td>\n",
              "      <td>1375.000000</td>\n",
              "      <td>4875.000000</td>\n",
              "    </tr>\n",
              "  </tbody>\n",
              "</table>\n",
              "</div>"
            ],
            "text/plain": [
              "       id_transacao  cod_cliente  valor_locacao\n",
              "count      20.00000    20.000000      20.000000\n",
              "mean       10.50000  1161.550000    1911.667500\n",
              "std         5.91608   119.370928    1373.165751\n",
              "min         1.00000  1005.000000     400.000000\n",
              "25%         5.75000  1040.000000    1090.000000\n",
              "50%        10.50000  1150.000000    1350.000000\n",
              "75%        15.25000  1258.000000    2350.150000\n",
              "max        20.00000  1375.000000    4875.000000"
            ]
          },
          "execution_count": 38,
          "metadata": {},
          "output_type": "execute_result"
        }
      ],
      "source": [
        "df.describe()"
      ]
    },
    {
      "cell_type": "code",
      "execution_count": 39,
      "metadata": {
        "id": "ks9tMu4fONlK"
      },
      "outputs": [
        {
          "data": {
            "text/html": [
              "<div>\n",
              "<style scoped>\n",
              "    .dataframe tbody tr th:only-of-type {\n",
              "        vertical-align: middle;\n",
              "    }\n",
              "\n",
              "    .dataframe tbody tr th {\n",
              "        vertical-align: top;\n",
              "    }\n",
              "\n",
              "    .dataframe thead th {\n",
              "        text-align: right;\n",
              "    }\n",
              "</style>\n",
              "<table border=\"1\" class=\"dataframe\">\n",
              "  <thead>\n",
              "    <tr style=\"text-align: right;\">\n",
              "      <th></th>\n",
              "      <th>modelo</th>\n",
              "      <th>valor_locacao</th>\n",
              "    </tr>\n",
              "  </thead>\n",
              "  <tbody>\n",
              "    <tr>\n",
              "      <th>0</th>\n",
              "      <td>Onix</td>\n",
              "      <td>1250.00</td>\n",
              "    </tr>\n",
              "    <tr>\n",
              "      <th>1</th>\n",
              "      <td>HB20</td>\n",
              "      <td>1400.00</td>\n",
              "    </tr>\n",
              "    <tr>\n",
              "      <th>2</th>\n",
              "      <td>Tracker</td>\n",
              "      <td>1750.50</td>\n",
              "    </tr>\n",
              "    <tr>\n",
              "      <th>3</th>\n",
              "      <td>T-Cross</td>\n",
              "      <td>1120.75</td>\n",
              "    </tr>\n",
              "    <tr>\n",
              "      <th>4</th>\n",
              "      <td>Civic</td>\n",
              "      <td>800.00</td>\n",
              "    </tr>\n",
              "    <tr>\n",
              "      <th>5</th>\n",
              "      <td>Civic</td>\n",
              "      <td>4525.25</td>\n",
              "    </tr>\n",
              "    <tr>\n",
              "      <th>6</th>\n",
              "      <td>L200</td>\n",
              "      <td>4875.00</td>\n",
              "    </tr>\n",
              "    <tr>\n",
              "      <th>7</th>\n",
              "      <td>Compass</td>\n",
              "      <td>3400.60</td>\n",
              "    </tr>\n",
              "    <tr>\n",
              "      <th>8</th>\n",
              "      <td>Onix</td>\n",
              "      <td>1000.00</td>\n",
              "    </tr>\n",
              "    <tr>\n",
              "      <th>9</th>\n",
              "      <td>HB20</td>\n",
              "      <td>1120.00</td>\n",
              "    </tr>\n",
              "    <tr>\n",
              "      <th>10</th>\n",
              "      <td>Tracker</td>\n",
              "      <td>425.75</td>\n",
              "    </tr>\n",
              "    <tr>\n",
              "      <th>11</th>\n",
              "      <td>T-Cross</td>\n",
              "      <td>1240.50</td>\n",
              "    </tr>\n",
              "    <tr>\n",
              "      <th>12</th>\n",
              "      <td>Civic</td>\n",
              "      <td>1750.00</td>\n",
              "    </tr>\n",
              "    <tr>\n",
              "      <th>13</th>\n",
              "      <td>Civic</td>\n",
              "      <td>2000.00</td>\n",
              "    </tr>\n",
              "    <tr>\n",
              "      <th>14</th>\n",
              "      <td>L200</td>\n",
              "      <td>500.00</td>\n",
              "    </tr>\n",
              "  </tbody>\n",
              "</table>\n",
              "</div>"
            ],
            "text/plain": [
              "     modelo  valor_locacao\n",
              "0      Onix        1250.00\n",
              "1      HB20        1400.00\n",
              "2   Tracker        1750.50\n",
              "3   T-Cross        1120.75\n",
              "4     Civic         800.00\n",
              "5     Civic        4525.25\n",
              "6      L200        4875.00\n",
              "7   Compass        3400.60\n",
              "8      Onix        1000.00\n",
              "9      HB20        1120.00\n",
              "10  Tracker         425.75\n",
              "11  T-Cross        1240.50\n",
              "12    Civic        1750.00\n",
              "13    Civic        2000.00\n",
              "14     L200         500.00"
            ]
          },
          "execution_count": 39,
          "metadata": {},
          "output_type": "execute_result"
        }
      ],
      "source": [
        "df[['modelo','valor_locacao']].head(15)"
      ]
    },
    {
      "cell_type": "markdown",
      "metadata": {
        "id": "TiznJ54HTBuH"
      },
      "source": [
        "### Mesmo em conjuntos de dados simples, podemos descobrir informações valiosas manipulando os dados."
      ]
    },
    {
      "cell_type": "code",
      "execution_count": 40,
      "metadata": {
        "id": "FTAg5JFyS-19"
      },
      "outputs": [
        {
          "data": {
            "text/plain": [
              "modelo\n",
              "Civic      2585.050000\n",
              "Compass    3500.300000\n",
              "HB20       1260.000000\n",
              "L200       2687.500000\n",
              "Onix        883.333333\n",
              "T-Cross    1220.416667\n",
              "Tracker    1367.083333\n",
              "Name: valor_locacao, dtype: float64"
            ]
          },
          "execution_count": 40,
          "metadata": {},
          "output_type": "execute_result"
        }
      ],
      "source": [
        "df.groupby('modelo')['valor_locacao'].mean()"
      ]
    },
    {
      "cell_type": "markdown",
      "metadata": {
        "id": "k79inoLcUKJ0"
      },
      "source": [
        "Um tratamento comum de ser feito é a alteração de tipagens de dados"
      ]
    },
    {
      "cell_type": "code",
      "execution_count": 41,
      "metadata": {
        "id": "VxDcbbjYTxqb"
      },
      "outputs": [],
      "source": [
        "df['data_aluguel'] = pd.to_datetime(df['data_aluguel'], format='%Y-%m-%d')\n",
        "df['data_devolucao'] = pd.to_datetime(df['data_devolucao'], format='%Y-%m-%d')"
      ]
    },
    {
      "cell_type": "markdown",
      "metadata": {
        "id": "zNIkKT_LUH8F"
      },
      "source": [
        "Podemos incluir a informação de duração prevista do aluguel"
      ]
    },
    {
      "cell_type": "code",
      "execution_count": 42,
      "metadata": {
        "id": "cuU4RQXUT_yu"
      },
      "outputs": [],
      "source": [
        "df['duracao_dias'] = (df['data_devolucao'] - df['data_aluguel']).dt.days"
      ]
    },
    {
      "cell_type": "code",
      "execution_count": 43,
      "metadata": {
        "id": "7SWAJwSyUk-x"
      },
      "outputs": [
        {
          "data": {
            "text/html": [
              "<div>\n",
              "<style scoped>\n",
              "    .dataframe tbody tr th:only-of-type {\n",
              "        vertical-align: middle;\n",
              "    }\n",
              "\n",
              "    .dataframe tbody tr th {\n",
              "        vertical-align: top;\n",
              "    }\n",
              "\n",
              "    .dataframe thead th {\n",
              "        text-align: right;\n",
              "    }\n",
              "</style>\n",
              "<table border=\"1\" class=\"dataframe\">\n",
              "  <thead>\n",
              "    <tr style=\"text-align: right;\">\n",
              "      <th></th>\n",
              "      <th>id_transacao</th>\n",
              "      <th>cod_cliente</th>\n",
              "      <th>modelo</th>\n",
              "      <th>data_aluguel</th>\n",
              "      <th>data_devolucao</th>\n",
              "      <th>valor_locacao</th>\n",
              "      <th>taxa_administrativa</th>\n",
              "      <th>duracao_dias</th>\n",
              "    </tr>\n",
              "  </thead>\n",
              "  <tbody>\n",
              "    <tr>\n",
              "      <th>0</th>\n",
              "      <td>1</td>\n",
              "      <td>1023</td>\n",
              "      <td>Onix</td>\n",
              "      <td>2025-01-05</td>\n",
              "      <td>2025-01-10</td>\n",
              "      <td>1250.00</td>\n",
              "      <td>R$ 150,00</td>\n",
              "      <td>5</td>\n",
              "    </tr>\n",
              "    <tr>\n",
              "      <th>1</th>\n",
              "      <td>2</td>\n",
              "      <td>1045</td>\n",
              "      <td>HB20</td>\n",
              "      <td>2025-01-07</td>\n",
              "      <td>2025-01-12</td>\n",
              "      <td>1400.00</td>\n",
              "      <td>R$ 150,00</td>\n",
              "      <td>5</td>\n",
              "    </tr>\n",
              "    <tr>\n",
              "      <th>2</th>\n",
              "      <td>3</td>\n",
              "      <td>1102</td>\n",
              "      <td>Tracker</td>\n",
              "      <td>2025-01-10</td>\n",
              "      <td>2025-01-15</td>\n",
              "      <td>1750.50</td>\n",
              "      <td>R$ 200,00</td>\n",
              "      <td>5</td>\n",
              "    </tr>\n",
              "    <tr>\n",
              "      <th>3</th>\n",
              "      <td>4</td>\n",
              "      <td>1150</td>\n",
              "      <td>T-Cross</td>\n",
              "      <td>2025-01-12</td>\n",
              "      <td>2025-01-16</td>\n",
              "      <td>1120.75</td>\n",
              "      <td>R$ 200,00</td>\n",
              "      <td>4</td>\n",
              "    </tr>\n",
              "    <tr>\n",
              "      <th>4</th>\n",
              "      <td>5</td>\n",
              "      <td>1201</td>\n",
              "      <td>Civic</td>\n",
              "      <td>2025-01-15</td>\n",
              "      <td>2025-01-17</td>\n",
              "      <td>800.00</td>\n",
              "      <td>R$ 250,00</td>\n",
              "      <td>2</td>\n",
              "    </tr>\n",
              "    <tr>\n",
              "      <th>5</th>\n",
              "      <td>6</td>\n",
              "      <td>1254</td>\n",
              "      <td>Civic</td>\n",
              "      <td>2025-01-18</td>\n",
              "      <td>2025-01-31</td>\n",
              "      <td>4525.25</td>\n",
              "      <td>R$ 250,00</td>\n",
              "      <td>13</td>\n",
              "    </tr>\n",
              "    <tr>\n",
              "      <th>6</th>\n",
              "      <td>7</td>\n",
              "      <td>1300</td>\n",
              "      <td>L200</td>\n",
              "      <td>2025-01-20</td>\n",
              "      <td>2025-01-29</td>\n",
              "      <td>4875.00</td>\n",
              "      <td>R$ 300,00</td>\n",
              "      <td>9</td>\n",
              "    </tr>\n",
              "    <tr>\n",
              "      <th>7</th>\n",
              "      <td>8</td>\n",
              "      <td>1356</td>\n",
              "      <td>Compass</td>\n",
              "      <td>2025-01-22</td>\n",
              "      <td>2025-01-28</td>\n",
              "      <td>3400.60</td>\n",
              "      <td>R$ 400,00</td>\n",
              "      <td>6</td>\n",
              "    </tr>\n",
              "    <tr>\n",
              "      <th>8</th>\n",
              "      <td>9</td>\n",
              "      <td>1025</td>\n",
              "      <td>Onix</td>\n",
              "      <td>2025-02-01</td>\n",
              "      <td>2025-02-05</td>\n",
              "      <td>1000.00</td>\n",
              "      <td>R$ 150,00</td>\n",
              "      <td>4</td>\n",
              "    </tr>\n",
              "    <tr>\n",
              "      <th>9</th>\n",
              "      <td>10</td>\n",
              "      <td>1023</td>\n",
              "      <td>HB20</td>\n",
              "      <td>2025-02-03</td>\n",
              "      <td>2025-02-07</td>\n",
              "      <td>1120.00</td>\n",
              "      <td>R$ 150,00</td>\n",
              "      <td>4</td>\n",
              "    </tr>\n",
              "    <tr>\n",
              "      <th>10</th>\n",
              "      <td>11</td>\n",
              "      <td>1122</td>\n",
              "      <td>Tracker</td>\n",
              "      <td>2025-02-05</td>\n",
              "      <td>2025-02-07</td>\n",
              "      <td>425.75</td>\n",
              "      <td>R$ 200,00</td>\n",
              "      <td>2</td>\n",
              "    </tr>\n",
              "    <tr>\n",
              "      <th>11</th>\n",
              "      <td>12</td>\n",
              "      <td>1177</td>\n",
              "      <td>T-Cross</td>\n",
              "      <td>2025-02-08</td>\n",
              "      <td>2025-02-12</td>\n",
              "      <td>1240.50</td>\n",
              "      <td>R$ 200,00</td>\n",
              "      <td>4</td>\n",
              "    </tr>\n",
              "    <tr>\n",
              "      <th>12</th>\n",
              "      <td>13</td>\n",
              "      <td>1225</td>\n",
              "      <td>Civic</td>\n",
              "      <td>2025-02-10</td>\n",
              "      <td>2025-02-15</td>\n",
              "      <td>1750.00</td>\n",
              "      <td>R$ 250,00</td>\n",
              "      <td>5</td>\n",
              "    </tr>\n",
              "    <tr>\n",
              "      <th>13</th>\n",
              "      <td>14</td>\n",
              "      <td>1270</td>\n",
              "      <td>Civic</td>\n",
              "      <td>2025-02-12</td>\n",
              "      <td>2025-02-17</td>\n",
              "      <td>2000.00</td>\n",
              "      <td>R$ 250,00</td>\n",
              "      <td>5</td>\n",
              "    </tr>\n",
              "    <tr>\n",
              "      <th>14</th>\n",
              "      <td>15</td>\n",
              "      <td>1300</td>\n",
              "      <td>L200</td>\n",
              "      <td>2025-02-14</td>\n",
              "      <td>2025-02-15</td>\n",
              "      <td>500.00</td>\n",
              "      <td>R$ 300,00</td>\n",
              "      <td>1</td>\n",
              "    </tr>\n",
              "    <tr>\n",
              "      <th>15</th>\n",
              "      <td>16</td>\n",
              "      <td>1375</td>\n",
              "      <td>Compass</td>\n",
              "      <td>2025-02-16</td>\n",
              "      <td>2025-02-21</td>\n",
              "      <td>3600.00</td>\n",
              "      <td>R$ 400,00</td>\n",
              "      <td>5</td>\n",
              "    </tr>\n",
              "    <tr>\n",
              "      <th>16</th>\n",
              "      <td>17</td>\n",
              "      <td>1005</td>\n",
              "      <td>Onix</td>\n",
              "      <td>2025-02-18</td>\n",
              "      <td>2025-02-19</td>\n",
              "      <td>400.00</td>\n",
              "      <td>R$ 150,00</td>\n",
              "      <td>1</td>\n",
              "    </tr>\n",
              "    <tr>\n",
              "      <th>17</th>\n",
              "      <td>18</td>\n",
              "      <td>1150</td>\n",
              "      <td>Tracker</td>\n",
              "      <td>2025-02-20</td>\n",
              "      <td>2025-02-25</td>\n",
              "      <td>1925.00</td>\n",
              "      <td>R$ 250,00</td>\n",
              "      <td>5</td>\n",
              "    </tr>\n",
              "    <tr>\n",
              "      <th>18</th>\n",
              "      <td>19</td>\n",
              "      <td>1105</td>\n",
              "      <td>T-Cross</td>\n",
              "      <td>2025-02-22</td>\n",
              "      <td>2025-02-26</td>\n",
              "      <td>1300.00</td>\n",
              "      <td>R$ 200,00</td>\n",
              "      <td>4</td>\n",
              "    </tr>\n",
              "    <tr>\n",
              "      <th>19</th>\n",
              "      <td>20</td>\n",
              "      <td>1023</td>\n",
              "      <td>Civic</td>\n",
              "      <td>2025-02-20</td>\n",
              "      <td>2025-02-28</td>\n",
              "      <td>3850.00</td>\n",
              "      <td>R$ 250,00</td>\n",
              "      <td>8</td>\n",
              "    </tr>\n",
              "  </tbody>\n",
              "</table>\n",
              "</div>"
            ],
            "text/plain": [
              "    id_transacao  cod_cliente   modelo data_aluguel data_devolucao  \\\n",
              "0              1         1023     Onix   2025-01-05     2025-01-10   \n",
              "1              2         1045     HB20   2025-01-07     2025-01-12   \n",
              "2              3         1102  Tracker   2025-01-10     2025-01-15   \n",
              "3              4         1150  T-Cross   2025-01-12     2025-01-16   \n",
              "4              5         1201    Civic   2025-01-15     2025-01-17   \n",
              "5              6         1254    Civic   2025-01-18     2025-01-31   \n",
              "6              7         1300     L200   2025-01-20     2025-01-29   \n",
              "7              8         1356  Compass   2025-01-22     2025-01-28   \n",
              "8              9         1025     Onix   2025-02-01     2025-02-05   \n",
              "9             10         1023     HB20   2025-02-03     2025-02-07   \n",
              "10            11         1122  Tracker   2025-02-05     2025-02-07   \n",
              "11            12         1177  T-Cross   2025-02-08     2025-02-12   \n",
              "12            13         1225    Civic   2025-02-10     2025-02-15   \n",
              "13            14         1270    Civic   2025-02-12     2025-02-17   \n",
              "14            15         1300     L200   2025-02-14     2025-02-15   \n",
              "15            16         1375  Compass   2025-02-16     2025-02-21   \n",
              "16            17         1005     Onix   2025-02-18     2025-02-19   \n",
              "17            18         1150  Tracker   2025-02-20     2025-02-25   \n",
              "18            19         1105  T-Cross   2025-02-22     2025-02-26   \n",
              "19            20         1023    Civic   2025-02-20     2025-02-28   \n",
              "\n",
              "    valor_locacao taxa_administrativa  duracao_dias  \n",
              "0         1250.00           R$ 150,00             5  \n",
              "1         1400.00           R$ 150,00             5  \n",
              "2         1750.50           R$ 200,00             5  \n",
              "3         1120.75           R$ 200,00             4  \n",
              "4          800.00           R$ 250,00             2  \n",
              "5         4525.25           R$ 250,00            13  \n",
              "6         4875.00           R$ 300,00             9  \n",
              "7         3400.60           R$ 400,00             6  \n",
              "8         1000.00           R$ 150,00             4  \n",
              "9         1120.00           R$ 150,00             4  \n",
              "10         425.75           R$ 200,00             2  \n",
              "11        1240.50           R$ 200,00             4  \n",
              "12        1750.00           R$ 250,00             5  \n",
              "13        2000.00           R$ 250,00             5  \n",
              "14         500.00           R$ 300,00             1  \n",
              "15        3600.00           R$ 400,00             5  \n",
              "16         400.00           R$ 150,00             1  \n",
              "17        1925.00           R$ 250,00             5  \n",
              "18        1300.00           R$ 200,00             4  \n",
              "19        3850.00           R$ 250,00             8  "
            ]
          },
          "execution_count": 43,
          "metadata": {},
          "output_type": "execute_result"
        }
      ],
      "source": [
        "df.head(20)"
      ]
    },
    {
      "cell_type": "code",
      "execution_count": 44,
      "metadata": {
        "id": "ZBiSUhmIUFhe"
      },
      "outputs": [],
      "source": [
        "df['valor_dia'] = (df['valor_locacao'] / df['duracao_dias']).round(2)"
      ]
    },
    {
      "cell_type": "code",
      "execution_count": 45,
      "metadata": {
        "id": "oBMZRsdWVLVS"
      },
      "outputs": [
        {
          "data": {
            "text/html": [
              "<div>\n",
              "<style scoped>\n",
              "    .dataframe tbody tr th:only-of-type {\n",
              "        vertical-align: middle;\n",
              "    }\n",
              "\n",
              "    .dataframe tbody tr th {\n",
              "        vertical-align: top;\n",
              "    }\n",
              "\n",
              "    .dataframe thead th {\n",
              "        text-align: right;\n",
              "    }\n",
              "</style>\n",
              "<table border=\"1\" class=\"dataframe\">\n",
              "  <thead>\n",
              "    <tr style=\"text-align: right;\">\n",
              "      <th></th>\n",
              "      <th>id_transacao</th>\n",
              "      <th>cod_cliente</th>\n",
              "      <th>modelo</th>\n",
              "      <th>data_aluguel</th>\n",
              "      <th>data_devolucao</th>\n",
              "      <th>valor_locacao</th>\n",
              "      <th>taxa_administrativa</th>\n",
              "      <th>duracao_dias</th>\n",
              "      <th>valor_dia</th>\n",
              "    </tr>\n",
              "  </thead>\n",
              "  <tbody>\n",
              "    <tr>\n",
              "      <th>0</th>\n",
              "      <td>1</td>\n",
              "      <td>1023</td>\n",
              "      <td>Onix</td>\n",
              "      <td>2025-01-05</td>\n",
              "      <td>2025-01-10</td>\n",
              "      <td>1250.00</td>\n",
              "      <td>R$ 150,00</td>\n",
              "      <td>5</td>\n",
              "      <td>250.00</td>\n",
              "    </tr>\n",
              "    <tr>\n",
              "      <th>1</th>\n",
              "      <td>2</td>\n",
              "      <td>1045</td>\n",
              "      <td>HB20</td>\n",
              "      <td>2025-01-07</td>\n",
              "      <td>2025-01-12</td>\n",
              "      <td>1400.00</td>\n",
              "      <td>R$ 150,00</td>\n",
              "      <td>5</td>\n",
              "      <td>280.00</td>\n",
              "    </tr>\n",
              "    <tr>\n",
              "      <th>2</th>\n",
              "      <td>3</td>\n",
              "      <td>1102</td>\n",
              "      <td>Tracker</td>\n",
              "      <td>2025-01-10</td>\n",
              "      <td>2025-01-15</td>\n",
              "      <td>1750.50</td>\n",
              "      <td>R$ 200,00</td>\n",
              "      <td>5</td>\n",
              "      <td>350.10</td>\n",
              "    </tr>\n",
              "    <tr>\n",
              "      <th>3</th>\n",
              "      <td>4</td>\n",
              "      <td>1150</td>\n",
              "      <td>T-Cross</td>\n",
              "      <td>2025-01-12</td>\n",
              "      <td>2025-01-16</td>\n",
              "      <td>1120.75</td>\n",
              "      <td>R$ 200,00</td>\n",
              "      <td>4</td>\n",
              "      <td>280.19</td>\n",
              "    </tr>\n",
              "    <tr>\n",
              "      <th>4</th>\n",
              "      <td>5</td>\n",
              "      <td>1201</td>\n",
              "      <td>Civic</td>\n",
              "      <td>2025-01-15</td>\n",
              "      <td>2025-01-17</td>\n",
              "      <td>800.00</td>\n",
              "      <td>R$ 250,00</td>\n",
              "      <td>2</td>\n",
              "      <td>400.00</td>\n",
              "    </tr>\n",
              "  </tbody>\n",
              "</table>\n",
              "</div>"
            ],
            "text/plain": [
              "   id_transacao  cod_cliente   modelo data_aluguel data_devolucao  \\\n",
              "0             1         1023     Onix   2025-01-05     2025-01-10   \n",
              "1             2         1045     HB20   2025-01-07     2025-01-12   \n",
              "2             3         1102  Tracker   2025-01-10     2025-01-15   \n",
              "3             4         1150  T-Cross   2025-01-12     2025-01-16   \n",
              "4             5         1201    Civic   2025-01-15     2025-01-17   \n",
              "\n",
              "   valor_locacao taxa_administrativa  duracao_dias  valor_dia  \n",
              "0        1250.00           R$ 150,00             5     250.00  \n",
              "1        1400.00           R$ 150,00             5     280.00  \n",
              "2        1750.50           R$ 200,00             5     350.10  \n",
              "3        1120.75           R$ 200,00             4     280.19  \n",
              "4         800.00           R$ 250,00             2     400.00  "
            ]
          },
          "execution_count": 45,
          "metadata": {},
          "output_type": "execute_result"
        }
      ],
      "source": [
        "df.head()"
      ]
    },
    {
      "cell_type": "code",
      "execution_count": 46,
      "metadata": {
        "id": "ISeJQ9BRVNla"
      },
      "outputs": [
        {
          "data": {
            "text/plain": [
              "modelo\n",
              "Civic      395.870000\n",
              "Compass    643.385000\n",
              "HB20       280.000000\n",
              "L200       520.835000\n",
              "Onix       300.000000\n",
              "T-Cross    305.103333\n",
              "Tracker    315.993333\n",
              "Name: valor_dia, dtype: float64"
            ]
          },
          "execution_count": 46,
          "metadata": {},
          "output_type": "execute_result"
        }
      ],
      "source": [
        "df.groupby('modelo')['valor_dia'].mean()"
      ]
    },
    {
      "cell_type": "markdown",
      "metadata": {
        "id": "Ac6GuJVH2SMW"
      },
      "source": [
        "## **Prática**\n",
        "\n",
        "A partir do conteúdo apresentado sobre DataFrames, Séries e demais conhecimentos em Python. Utilize o conjunto de dados sobre locação veiculas abordado até aqui e responda as seguintes perguntas. Se necessário, faça tratamentos de manipulações no DataFrame.\n",
        "\n",
        "### **Regras:**\n",
        "\n",
        "**Classificação da duração do aluguel:**\n",
        "\n",
        "*   **Curta** - Até 3 dias\n",
        "*   **Média** - 4-7\n",
        "*   **Longa** - Acima de 7 dias\n",
        "\n",
        "\n",
        "**Valor Total:**\n",
        "\n",
        "*   Soma do Total do Aluguel com a Taxa Administrativa\n",
        "\n",
        "*Repare que o campo da Taxa Administrativa precisa ser tratado para poder ser utilizado como um campo numérico*\n",
        "\n",
        "**Definição do Impacto das Taxas Administrativas na Composição do Preço:**\n",
        "\n",
        "*   **Baixa** - Menos de 8% do Valor Total\n",
        "*   **Média** - Entre 8% e 15% do Valor Total\n",
        "*   **Alta** - Acima de 15% do Valor Total\n",
        "\n",
        "**Desconto:**\n",
        "\n",
        "*   Os descontos são aplicados após o cálculo do valor total. Existem 2 tipos de desconto, e eles são acumulativos.\n",
        "\n",
        "1.   Desconto de Taxa: Caso a Classificação de Impacto das Taxas seja **Alta**, será ofertado um desconto que subtraído do valor da taxa, a deixe no patamar de 15%.\n",
        "2.   Desconto de Duração: Será ofertado um desconto de **8%** para locações de duração **Média** e **12%** para locações de duração **Longa**.\n",
        "3.   Desconto Total: Desconto de Duração + Desconto de Taxa.\n",
        "\n",
        "*Formate com 2 casas decimais*\n",
        "\n",
        "**Valor Final:**\n",
        "\n",
        "*   Total - Desconto de Taxa - Desconto de Duração\n",
        "\n",
        "**Percentual de Desconto:**\n",
        "\n",
        "*   1 - (valor_final/valor_inicial)\n",
        "\n",
        "*Formate com 1 casa decimal*\n",
        "\n",
        "**Crie scripts para responder as seguintes questões**\n",
        "\n",
        "\n",
        "\n",
        "1.    Qual é a proporção (%) de contratos curtos, médios e longos no período analisado?\n",
        "2.   Quem são os três clientes (Código Cliente) que mais geraram receita total no período? Quanto (R$) cada um gastou?\n",
        "3.   Calcule o total de desconto concedido pode modelo de carro.\n",
        "4.   Ordene os aluguéis por % de desconto\n",
        "5.   Calcule o Total de Diárias e o valor médio de diária por mês de aluguel (data_aluguel)\n",
        "6.   Bônus: Exporte um Excel com todos os campos originais, além das informações enriquecidas: Classificador de Duração, Desconto Total, Valor Final e Percentual de Desconto.\n",
        "\n",
        "\n",
        "\n",
        "\n"
      ]
    }
  ],
  "metadata": {
    "colab": {
      "provenance": []
    },
    "kernelspec": {
      "display_name": "Python 3",
      "language": "python",
      "name": "python3"
    },
    "language_info": {
      "codemirror_mode": {
        "name": "ipython",
        "version": 3
      },
      "file_extension": ".py",
      "mimetype": "text/x-python",
      "name": "python",
      "nbconvert_exporter": "python",
      "pygments_lexer": "ipython3",
      "version": "3.10.4"
    }
  },
  "nbformat": 4,
  "nbformat_minor": 0
}
