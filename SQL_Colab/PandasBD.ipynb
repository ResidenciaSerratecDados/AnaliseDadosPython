{
  "nbformat": 4,
  "nbformat_minor": 0,
  "metadata": {
    "colab": {
      "provenance": []
    },
    "kernelspec": {
      "name": "python3",
      "display_name": "Python 3"
    },
    "language_info": {
      "name": "python"
    }
  },
  "cells": [
    {
      "cell_type": "code",
      "execution_count": 1,
      "metadata": {
        "id": "gsqZbDZ2_kqv"
      },
      "outputs": [],
      "source": [
        "#exemplo utilização\n",
        "import pandas as pd"
      ]
    },
    {
      "cell_type": "code",
      "source": [
        "#Criando um DataFrame\n",
        "data = {\n",
        "    'Nome': ['Ana', 'João', 'Maria'],\n",
        "    'Idade': [25, 30, 28],\n",
        "    'Salario': [5000, 7000, 6000]\n",
        "}\n",
        "df = pd.DataFrame(data)"
      ],
      "metadata": {
        "id": "AKPEAWrw_uk2"
      },
      "execution_count": 2,
      "outputs": []
    },
    {
      "cell_type": "code",
      "source": [
        "print(df.head())"
      ],
      "metadata": {
        "colab": {
          "base_uri": "https://localhost:8080/"
        },
        "id": "NL8VCxfoANSf",
        "outputId": "72ddacdd-9748-420c-eeee-1b694a9798f0"
      },
      "execution_count": 3,
      "outputs": [
        {
          "output_type": "stream",
          "name": "stdout",
          "text": [
            "    Nome  Idade  Salario\n",
            "0    Ana     25     5000\n",
            "1   João     30     7000\n",
            "2  Maria     28     6000\n"
          ]
        }
      ]
    },
    {
      "cell_type": "code",
      "source": [
        "print(df.info())"
      ],
      "metadata": {
        "colab": {
          "base_uri": "https://localhost:8080/"
        },
        "id": "t3G3tctWAn6w",
        "outputId": "238fba72-ec22-4559-f6b2-8d00ccd3b9ce"
      },
      "execution_count": 4,
      "outputs": [
        {
          "output_type": "stream",
          "name": "stdout",
          "text": [
            "<class 'pandas.core.frame.DataFrame'>\n",
            "RangeIndex: 3 entries, 0 to 2\n",
            "Data columns (total 3 columns):\n",
            " #   Column   Non-Null Count  Dtype \n",
            "---  ------   --------------  ----- \n",
            " 0   Nome     3 non-null      object\n",
            " 1   Idade    3 non-null      int64 \n",
            " 2   Salario  3 non-null      int64 \n",
            "dtypes: int64(2), object(1)\n",
            "memory usage: 204.0+ bytes\n",
            "None\n"
          ]
        }
      ]
    },
    {
      "cell_type": "code",
      "source": [
        "print(df.describe())"
      ],
      "metadata": {
        "colab": {
          "base_uri": "https://localhost:8080/"
        },
        "id": "MNP4or28A3UW",
        "outputId": "645ad03a-7434-4fc4-8385-2af44c8fb8cd"
      },
      "execution_count": 5,
      "outputs": [
        {
          "output_type": "stream",
          "name": "stdout",
          "text": [
            "           Idade  Salario\n",
            "count   3.000000      3.0\n",
            "mean   27.666667   6000.0\n",
            "std     2.516611   1000.0\n",
            "min    25.000000   5000.0\n",
            "25%    26.500000   5500.0\n",
            "50%    28.000000   6000.0\n",
            "75%    29.000000   6500.0\n",
            "max    30.000000   7000.0\n"
          ]
        }
      ]
    },
    {
      "cell_type": "code",
      "source": [
        "import numpy as np"
      ],
      "metadata": {
        "id": "3xfdP2I2Bwl3"
      },
      "execution_count": 6,
      "outputs": []
    },
    {
      "cell_type": "code",
      "source": [
        "#Criando um array\n",
        "arr = np.array([1, 2, 3, 4, 5])\n",
        "\n",
        "#operações vetorizadas\n",
        "print(arr + 10) # soma 10 a cada elemento\n",
        "print(arr - 1) # subtrai 1 de cada elemento\n",
        "print(arr * 2) # multiplica cada elemento por 2\n",
        "print(arr ** 2) # eleva cada elemento por 2\n",
        "print(arr / 2) # divide cada elemento por 2"
      ],
      "metadata": {
        "colab": {
          "base_uri": "https://localhost:8080/"
        },
        "id": "yiIB2prKB-In",
        "outputId": "7ccab7d2-6ce9-495d-a136-45cc15c50f8b"
      },
      "execution_count": 8,
      "outputs": [
        {
          "output_type": "stream",
          "name": "stdout",
          "text": [
            "[11 12 13 14 15]\n",
            "[0 1 2 3 4]\n",
            "[ 2  4  6  8 10]\n",
            "[ 1  4  9 16 25]\n",
            "[0.5 1.  1.5 2.  2.5]\n"
          ]
        }
      ]
    },
    {
      "cell_type": "code",
      "source": [
        "# 1 - criação de dados fictícios com NumPy\n",
        "np.random.seed(42)\n",
        "meses = np.array(['Jan', 'Fev', 'Mar', 'Abr', 'Mai'])\n",
        "vendas = np.random.randint(100, 500, size=5)\n",
        "custos = vendas * np.random.uniform(0.3, 0.7, size=5)\n",
        "#escolher numero aleatorio randômico\n",
        "\n",
        "print(meses)\n",
        "print(vendas)\n",
        "print(custos)"
      ],
      "metadata": {
        "colab": {
          "base_uri": "https://localhost:8080/"
        },
        "id": "sY8dYG19Czpm",
        "outputId": "c7dab6e9-01fa-4d26-bae0-71548adca378"
      },
      "execution_count": 15,
      "outputs": [
        {
          "output_type": "stream",
          "name": "stdout",
          "text": [
            "['Jan' 'Fev' 'Mar' 'Abr' 'Mai']\n",
            "[202 448 370 206 171]\n",
            "[108.97160552 162.35854037 134.08718901  66.58608964 110.54644837]\n"
          ]
        }
      ]
    },
    {
      "cell_type": "code",
      "source": [
        "# 2 - Conversão para DataFrame do Pandas\n",
        "dados = pd.DataFrame({\n",
        "    'Mes': meses,\n",
        "    'Vendas (R$)': vendas,\n",
        "    'Custos (R$)': np.round(custos,2),\n",
        "    'Clientes': np.random.poisson(lam=50,size=5) #escolher numero aleatorio randômico\n",
        "})\n",
        "print(dados)"
      ],
      "metadata": {
        "colab": {
          "base_uri": "https://localhost:8080/"
        },
        "id": "-Mbv27ZQEoiw",
        "outputId": "9292c990-9d3f-4e32-9c9b-80b5c25a0c3d"
      },
      "execution_count": 16,
      "outputs": [
        {
          "output_type": "stream",
          "name": "stdout",
          "text": [
            "   Mes  Vendas (R$)  Custos (R$)  Clientes\n",
            "0  Jan          202       108.97        52\n",
            "1  Fev          448       162.36        58\n",
            "2  Mar          370       134.09        43\n",
            "3  Abr          206        66.59        46\n",
            "4  Mai          171       110.55        49\n"
          ]
        }
      ]
    },
    {
      "cell_type": "code",
      "source": [
        "dados['Lucro (R$)'] = dados['Vendas (R$)'] - dados['Custos (R$)'] # adição de colouna\n",
        "print(dados)"
      ],
      "metadata": {
        "colab": {
          "base_uri": "https://localhost:8080/"
        },
        "id": "z2AEe8s4GQtw",
        "outputId": "8affeb75-28de-4de6-a91f-17ce059ee47c"
      },
      "execution_count": 19,
      "outputs": [
        {
          "output_type": "stream",
          "name": "stdout",
          "text": [
            "   Mes  Vendas (R$)  Custos (R$)  Clientes  Lucro (R$)\n",
            "0  Jan          202       108.97        52       93.03\n",
            "1  Fev          448       162.36        58      285.64\n",
            "2  Mar          370       134.09        43      235.91\n",
            "3  Abr          206        66.59        46      139.41\n",
            "4  Mai          171       110.55        49       60.45\n"
          ]
        }
      ]
    },
    {
      "cell_type": "code",
      "source": [
        "dados['Teste (R$)'] = dados['Vendas (R$)'] * dados['Lucro (R$)'] # adição de colouna\n",
        "print(dados)"
      ],
      "metadata": {
        "colab": {
          "base_uri": "https://localhost:8080/"
        },
        "id": "G0UK0fnFHF3X",
        "outputId": "ab8b6726-06b4-47a5-98d8-f18d44d423ad"
      },
      "execution_count": 20,
      "outputs": [
        {
          "output_type": "stream",
          "name": "stdout",
          "text": [
            "   Mes  Vendas (R$)  Custos (R$)  Clientes  Lucro (R$)  Teste (R$)\n",
            "0  Jan          202       108.97        52       93.03    18792.06\n",
            "1  Fev          448       162.36        58      285.64   127966.72\n",
            "2  Mar          370       134.09        43      235.91    87286.70\n",
            "3  Abr          206        66.59        46      139.41    28718.46\n",
            "4  Mai          171       110.55        49       60.45    10336.95\n"
          ]
        }
      ]
    },
    {
      "cell_type": "code",
      "source": [
        "dados['Margem %'] = np.round((dados['Lucro (R$)']/ dados['Vendas (R$)']) * 100, 1) #Arredondamento para 1 casa decimal\n",
        "print(dados)"
      ],
      "metadata": {
        "colab": {
          "base_uri": "https://localhost:8080/"
        },
        "id": "ZX0hlQxrIQTh",
        "outputId": "3d6a04c4-19ce-455f-9087-00bdb71c2b2b"
      },
      "execution_count": 23,
      "outputs": [
        {
          "output_type": "stream",
          "name": "stdout",
          "text": [
            "   Mes  Vendas (R$)  Custos (R$)  Clientes  Lucro (R$)  Teste (R$)  Margem %\n",
            "0  Jan          202       108.97        52       93.03    18792.06      46.1\n",
            "1  Fev          448       162.36        58      285.64   127966.72      63.8\n",
            "2  Mar          370       134.09        43      235.91    87286.70      63.8\n",
            "3  Abr          206        66.59        46      139.41    28718.46      67.7\n",
            "4  Mai          171       110.55        49       60.45    10336.95      35.4\n"
          ]
        }
      ]
    }
  ]
}