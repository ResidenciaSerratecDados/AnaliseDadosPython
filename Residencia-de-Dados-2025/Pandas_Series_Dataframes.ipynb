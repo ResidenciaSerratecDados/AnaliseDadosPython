{
  "cells": [
    {
      "cell_type": "markdown",
      "metadata": {
        "id": "GMnMA56N2x9P"
      },
      "source": [
        "### Precisamos antes de tudo, importar a biblioteca. É um padrão abreviar o nome da biblioteca para 'pd' por meio de um alias."
      ]
    },
    {
      "cell_type": "code",
      "execution_count": 1,
      "metadata": {
        "id": "Zoj-OXI72rN0"
      },
      "outputs": [],
      "source": [
        "import pandas as pd"
      ]
    },
    {
      "cell_type": "markdown",
      "metadata": {
        "id": "aFa0gl1ekG_c"
      },
      "source": [
        "# Séries - Análise Unidimensional"
      ]
    },
    {
      "cell_type": "markdown",
      "metadata": {
        "id": "vV7Fy1V6k0jB"
      },
      "source": [
        "### Uma série em pandas representa uma estrutura unidimensional, junto a um índice."
      ]
    },
    {
      "cell_type": "markdown",
      "metadata": {
        "id": "OnI0i4GslQBe"
      },
      "source": [
        "Vamos criar uma série números múltiplos de 10."
      ]
    },
    {
      "cell_type": "code",
      "execution_count": null,
      "metadata": {
        "id": "QaSMlnJvkOtA"
      },
      "outputs": [],
      "source": [
        "serie = pd.Series([10, 20, 30, 40, 50, 60, 70, 80, 90])"
      ]
    },
    {
      "cell_type": "markdown",
      "metadata": {
        "id": "url99REXloVV"
      },
      "source": [
        "Podemos usar os métodos Head e Tail para ler os primeiros e últimos elementos em uma série"
      ]
    },
    {
      "cell_type": "code",
      "execution_count": null,
      "metadata": {
        "id": "fp25sNFFlCrS"
      },
      "outputs": [],
      "source": [
        "serie.head()"
      ]
    },
    {
      "cell_type": "code",
      "execution_count": null,
      "metadata": {
        "id": "_QHfbBll5kKz"
      },
      "outputs": [],
      "source": [
        "serie.tail()"
      ]
    },
    {
      "cell_type": "code",
      "execution_count": null,
      "metadata": {
        "id": "5wNVY4HZ3Ltt"
      },
      "outputs": [],
      "source": [
        "print(serie)"
      ]
    },
    {
      "cell_type": "markdown",
      "metadata": {
        "id": "L0SAQB5rnq66"
      },
      "source": [
        "Em arquivos do tipo ipynb (notebooks), é possível utilizar também o método display para exibir os dados."
      ]
    },
    {
      "cell_type": "code",
      "execution_count": null,
      "metadata": {
        "id": "XA_VhAdDnxMV"
      },
      "outputs": [],
      "source": [
        "display(serie)"
      ]
    },
    {
      "cell_type": "markdown",
      "metadata": {
        "id": "qs_4EQCb5BYz"
      },
      "source": [
        "Podemos acessar elementos da série através dos seus índices, assim como é feito nas listas."
      ]
    },
    {
      "cell_type": "code",
      "execution_count": null,
      "metadata": {
        "id": "G04wEj1C5G6P"
      },
      "outputs": [],
      "source": [
        "print(serie[3])"
      ]
    },
    {
      "cell_type": "code",
      "execution_count": null,
      "metadata": {
        "id": "MJhVfqQJ5SHl"
      },
      "outputs": [],
      "source": [
        "display(serie[4:7])"
      ]
    },
    {
      "cell_type": "markdown",
      "metadata": {
        "id": "GR2oY63Cn5WZ"
      },
      "source": [
        "Podemos obter informações estatísticas básicas a partir da série."
      ]
    },
    {
      "cell_type": "code",
      "execution_count": null,
      "metadata": {
        "id": "RLUXB_yI4ZlG"
      },
      "outputs": [],
      "source": [
        "serie.describe()"
      ]
    },
    {
      "cell_type": "markdown",
      "metadata": {
        "id": "Fb7quGf-1s9d"
      },
      "source": [
        "Média Aritimética (Soma de todos elementos dividido pela quantidade de elementos)"
      ]
    },
    {
      "cell_type": "code",
      "execution_count": null,
      "metadata": {
        "id": "EAd_6sYL2j2f"
      },
      "outputs": [],
      "source": [
        "tamanho = serie.size\n",
        "print(f'Total de Elementos: {tamanho}')"
      ]
    },
    {
      "cell_type": "code",
      "execution_count": null,
      "metadata": {
        "id": "OvOvYFnioC_d"
      },
      "outputs": [],
      "source": [
        "media = serie.mean()\n",
        "print(f'Média: {media}')"
      ]
    },
    {
      "cell_type": "markdown",
      "metadata": {
        "id": "EWyu2kvo13fA"
      },
      "source": [
        "Maior Valor"
      ]
    },
    {
      "cell_type": "code",
      "execution_count": null,
      "metadata": {
        "id": "8CTTy7Skpc5n"
      },
      "outputs": [],
      "source": [
        "maximo = serie.max()\n",
        "print(f'Maior Valor: {maximo}')"
      ]
    },
    {
      "cell_type": "markdown",
      "metadata": {
        "id": "FlAj0ZVD14ns"
      },
      "source": [
        "Menor Valor"
      ]
    },
    {
      "cell_type": "code",
      "execution_count": null,
      "metadata": {
        "id": "zpWRBvr_piOT"
      },
      "outputs": [],
      "source": [
        "minimo = serie.min()\n",
        "print(f'Menor Valor: {minimo}')"
      ]
    },
    {
      "cell_type": "markdown",
      "metadata": {
        "id": "FN3R7VUq17AA"
      },
      "source": [
        "A Mediana, o elemento localizado no centro ao considerar a série ordenada em ordem crescente."
      ]
    },
    {
      "cell_type": "code",
      "execution_count": null,
      "metadata": {
        "id": "sUtfWs_2ppyJ"
      },
      "outputs": [],
      "source": [
        "mediana = serie.median()\n",
        "print(f'Mediana: {mediana}')"
      ]
    },
    {
      "cell_type": "markdown",
      "metadata": {
        "id": "qEom9dwh1cmX"
      },
      "source": [
        "Vamos adicionar mais um elemento no próximo índice da série"
      ]
    },
    {
      "cell_type": "code",
      "execution_count": null,
      "metadata": {
        "id": "AoaBbWAb1KqA"
      },
      "outputs": [],
      "source": [
        "serie[9] = 100\n",
        "print(serie)"
      ]
    },
    {
      "cell_type": "markdown",
      "metadata": {
        "id": "ZOEsUzxm3SjH"
      },
      "source": [
        "Se a mediana é o elemento central, como calculá-la em um cojunto de elementos com número de itens par?"
      ]
    },
    {
      "cell_type": "code",
      "execution_count": null,
      "metadata": {
        "id": "vZeXgkPs3SOX"
      },
      "outputs": [],
      "source": [
        "mediana = serie.median()\n",
        "print(f'Mediana: {mediana}')"
      ]
    },
    {
      "cell_type": "markdown",
      "metadata": {
        "id": "z72HDlASTndl"
      },
      "source": [
        "É possível realizar ações de filtragem na série"
      ]
    },
    {
      "cell_type": "code",
      "execution_count": null,
      "metadata": {
        "id": "1bLWu5fzUA_0"
      },
      "outputs": [],
      "source": [
        "display(serie[serie > 30])"
      ]
    },
    {
      "cell_type": "code",
      "execution_count": null,
      "metadata": {
        "id": "bt-c8776USs6"
      },
      "outputs": [],
      "source": [
        "display(serie[serie % 3 == 0])"
      ]
    },
    {
      "cell_type": "code",
      "execution_count": null,
      "metadata": {
        "id": "JH6r0S6tUZ_x"
      },
      "outputs": [],
      "source": [
        "display(serie[serie > serie.mean()])"
      ]
    },
    {
      "cell_type": "markdown",
      "metadata": {
        "id": "xfrsbBRsD1W5"
      },
      "source": [
        "Podemos também, aplicar cálculos para todos os elementos das séries"
      ]
    },
    {
      "cell_type": "code",
      "execution_count": null,
      "metadata": {
        "id": "BxNQOzonD01T"
      },
      "outputs": [],
      "source": [
        "serie_metade = serie/2\n",
        "\n",
        "display(serie_metade)"
      ]
    },
    {
      "cell_type": "markdown",
      "metadata": {
        "id": "4YP4C3UfEJce"
      },
      "source": [
        "E também fazer operações entre duas séries. Nesse caso, o índice é utilizado como referência para correlacionar os registros"
      ]
    },
    {
      "cell_type": "code",
      "execution_count": null,
      "metadata": {
        "id": "JM7dHF0BEI5o"
      },
      "outputs": [],
      "source": [
        "display(serie + serie_metade)"
      ]
    },
    {
      "cell_type": "markdown",
      "metadata": {
        "id": "QlViTDPh4KGB"
      },
      "source": [
        "Se o número de elementos for par, a mediana é a média aritmética dos dois valores centrais."
      ]
    },
    {
      "cell_type": "markdown",
      "metadata": {
        "id": "4RBXmH3U9X6B"
      },
      "source": [
        "### Além dos índices numéricos autoincrementais, é possível fornecer um conjunto de índices customizado, que pode ser utilizado para acrescentar informações à análise."
      ]
    },
    {
      "cell_type": "markdown",
      "metadata": {
        "id": "RH9ICeF09462"
      },
      "source": [
        "Vamos criar uma série com as temperaturas médias por mês do ano em Petrópolis.\n",
        "\n",
        "Fonte: https://www.climatempo.com.br/previsao-do-tempo/15-dias/cidade/317/petropolis-rj"
      ]
    },
    {
      "cell_type": "code",
      "execution_count": null,
      "metadata": {
        "id": "D3ud8c7R9Rke"
      },
      "outputs": [],
      "source": [
        "temperatura_minima = {'13/05': 13,\n",
        "                     '14/05': 12,\n",
        "                     '15/05': 15,\n",
        "                     '16/05': 14,\n",
        "                     '17/05': 14,\n",
        "                     '18/05': 15,\n",
        "                     '19/05': 14,\n",
        "                     '20/05': 15,\n",
        "                     '21/05': 16,\n",
        "                     '22/05': 16}"
      ]
    },
    {
      "cell_type": "code",
      "execution_count": null,
      "metadata": {
        "id": "ximKEaIO_jdJ"
      },
      "outputs": [],
      "source": [
        "temperatura_min = pd.Series(temperatura_minima)"
      ]
    },
    {
      "cell_type": "code",
      "execution_count": null,
      "metadata": {
        "id": "DuO0hxm2_m7P"
      },
      "outputs": [],
      "source": [
        "temperatura_min.head()"
      ]
    },
    {
      "cell_type": "code",
      "execution_count": null,
      "metadata": {
        "id": "OtyGd_o9_qOk"
      },
      "outputs": [],
      "source": [
        "temperatura_min.describe()"
      ]
    },
    {
      "cell_type": "markdown",
      "metadata": {
        "id": "H7vAVZyyAyWV"
      },
      "source": [
        "Ou até mesmo, acessar diretamente pelos índices"
      ]
    },
    {
      "cell_type": "code",
      "execution_count": null,
      "metadata": {
        "id": "uXXdomEZAxyp"
      },
      "outputs": [],
      "source": [
        "temperatura_min[['14/05','18/05','20/05','22/05']]"
      ]
    },
    {
      "cell_type": "markdown",
      "metadata": {
        "id": "XovzKxNiDKXa"
      },
      "source": [
        "Ainda é possível buscar por posição, através do método iLoc"
      ]
    },
    {
      "cell_type": "code",
      "execution_count": null,
      "metadata": {
        "id": "qRuFRuYYDJU2"
      },
      "outputs": [],
      "source": [
        "temperatura_min.iloc[0:3]"
      ]
    },
    {
      "cell_type": "markdown",
      "metadata": {
        "id": "zYPZJcrt6cNk"
      },
      "source": [
        "Podemos também usar o método Plot para gerar visualizacoes sobre os dados"
      ]
    },
    {
      "cell_type": "code",
      "execution_count": null,
      "metadata": {
        "id": "o_Usvz_lDC6J"
      },
      "outputs": [],
      "source": [
        "temperatura_min.plot()"
      ]
    },
    {
      "cell_type": "code",
      "execution_count": null,
      "metadata": {
        "id": "vnCAGfwC6ID-"
      },
      "outputs": [],
      "source": [
        "temperatura_min.plot(kind='bar')"
      ]
    },
    {
      "cell_type": "markdown",
      "metadata": {
        "id": "DBhghsqsVK1_"
      },
      "source": [
        "## **Prática**\n",
        "\n",
        "A partir do conjunto de dados de temperaturas mínimas do exemplo, junto ao conjunto de dados a seguir de temperaturas máximas, mais as regras de negócios fornecidas resolva a seguinte questão. Utilize Series Pandas e demais conhecimentos de python aprendidos.\n",
        "\n",
        "Seu objetivo é ajudar um turista a planejar quais roupas deverá usar ou levar ao sair de casa para passar um dia inteiro de outono em Petrópolis, as regras são as seguintes:\n",
        "\n",
        "\n",
        "*   **Casaco**: se a temperatura mínima do dia for menor que 16ºc\n",
        "*   **Gorro**: se a temperatura mínima do dia for menor que a média de temperaturas mínimas\n",
        "*   **Mochila**: quando a amplitude térmica for maior ou igual a 5ºc, será necessário levar uma mochila para guardar as roupas de frio\n",
        "*   **Bermuda**: Se a temperatura máxima for pelo menos 22ºc e a mínima for acima das médias de temperaturas mínimas\n",
        "*   **Luvas**: Se a temperatura mínima for a menor do período analisado\n",
        "\n",
        "\n",
        "####*Amplitude Térmica*: Diferença entre a maior a menor temperatura em um período analisado. Nesse caso, estamos analisando por dia. (Máxima Dia - Mínima Dia)\n",
        "####*Efeito Chuva*: Se chover, a sensação térmica ficará menor, com isso, todas as temperaturas serão consideradas 2ºc menores, tanto para máximas quanto para mínimas.\n",
        "\n",
        "\n",
        "**Crie scripts para responder as seguintes questões**\n",
        "\n",
        "1.   Se as temperaturas mínimas e máximas oscilarem 1ºc para cima em todos os dias, quantos dias o turista será recomendado a usar bermuda?\n",
        "2.   Em quais dias será necessário levar mochila?\n",
        "3.   Em algum dos dias o Turista será indicado a usar tanto bermuda quanto luvas?\n",
        "4.   Quais serão os itens indicados para o dia 17/05?\n",
        "5.   Em quais dias, que normalmente não necessitariam o uso de casaco, o item passaria a ser necessário em caso de chuva?\n",
        "6.   Gere um gráfico com a evolução da amplitude térmica.\n",
        "7.   Gere um gráfico que retorne quantas vezes cada item será utilizado."
      ]
    },
    {
      "cell_type": "code",
      "execution_count": null,
      "metadata": {
        "id": "RWRpNeNEUtiC"
      },
      "outputs": [],
      "source": [
        "temperatura_maxima = {'13/05': 21,\n",
        "                     '14/05': 20,\n",
        "                     '15/05': 21,\n",
        "                     '16/05': 22,\n",
        "                     '17/05': 23,\n",
        "                     '18/05': 22,\n",
        "                     '19/05': 23,\n",
        "                     '20/05': 23,\n",
        "                     '21/05': 25,\n",
        "                     '22/05': 25}"
      ]
    },
    {
      "cell_type": "markdown",
      "metadata": {
        "id": "whH_671_kD9A"
      },
      "source": [
        "# DataFrames"
      ]
    },
    {
      "cell_type": "markdown",
      "metadata": {
        "id": "UhKStPemM4kI"
      },
      "source": [
        "### Assim como nas seríes é possível usar as estruturas comuns da linguagem para a criação dos DataFrames. Também é possível importar de arquivos (txt, csv, excel, etc) ou da Web."
      ]
    },
    {
      "cell_type": "markdown",
      "metadata": {
        "id": "FO0hABcb4bPv"
      },
      "source": []
    },
    {
      "cell_type": "code",
      "execution_count": null,
      "metadata": {
        "id": "IPuazVr9NAZ_"
      },
      "outputs": [],
      "source": [
        "#Campos: ID da Transação, Codigo Cliente, Modelo, Data do Aluguel, Data de Devolução, Valor Locacao, Taxa Administrativa\n",
        "\n",
        "alugueis = [\n",
        "    (1, 1023, \"Onix\", \"2025-01-05\", \"2025-01-10\", 1250.00, \"R$ 150,00\"),\n",
        "    (2, 1045, \"HB20\", \"2025-01-07\", \"2025-01-12\", 1400.00, \"R$ 150,00\"),\n",
        "    (3, 1102, \"Tracker\", \"2025-01-10\", \"2025-01-15\", 1750.50, \"R$ 200,00\"),\n",
        "    (4, 1150, \"T-Cross\", \"2025-01-12\", \"2025-01-16\", 1120.75, \"R$ 200,00\"),\n",
        "    (5, 1201, \"Civic\", \"2025-01-15\", \"2025-01-17\", 800.00, \"R$ 250,00\"),\n",
        "    (6, 1254, \"Civic\", \"2025-01-18\", \"2025-01-31\", 4525.25, \"R$ 250,00\"),\n",
        "    (7, 1300, \"L200\", \"2025-01-20\", \"2025-01-29\", 4875.00, \"R$ 300,00\"),\n",
        "    (8, 1356, \"Compass\", \"2025-01-22\", \"2025-01-28\", 3400.60, \"R$ 400,00\"),\n",
        "    (9, 1025, \"Onix\", \"2025-02-01\", \"2025-02-05\", 1000.00, \"R$ 150,00\"),\n",
        "    (10, 1023, \"HB20\", \"2025-02-03\", \"2025-02-07\", 1120.00, \"R$ 150,00\"),\n",
        "    (11, 1122, \"Tracker\", \"2025-02-05\", \"2025-02-07\", 425.75, \"R$ 200,00\"),\n",
        "    (12, 1177, \"T-Cross\", \"2025-02-08\", \"2025-02-12\", 1240.50, \"R$ 200,00\"),\n",
        "    (13, 1225, \"Civic\", \"2025-02-10\", \"2025-02-15\", 1750.00, \"R$ 250,00\"),\n",
        "    (14, 1270, \"Civic\", \"2025-02-12\", \"2025-02-17\", 2000.00, \"R$ 250,00\"),\n",
        "    (15, 1300, \"L200\", \"2025-02-14\", \"2025-02-15\", 500.00, \"R$ 300,00\"),\n",
        "    (16, 1375, \"Compass\", \"2025-02-16\", \"2025-02-21\", 3600.00, \"R$ 400,00\"),\n",
        "    (17, 1005, \"Onix\", \"2025-02-18\", \"2025-02-19\", 400.00, \"R$ 150,00\"),\n",
        "    (18, 1150, \"Tracker\", \"2025-02-20\", \"2025-02-25\", 1925.00, \"R$ 250,00\"),\n",
        "    (19, 1105, \"T-Cross\", \"2025-02-22\", \"2025-02-26\", 1300.00, \"R$ 200,00\"),\n",
        "    (20, 1023, \"Civic\", \"2025-02-20\", \"2025-02-28\", 3850.00, \"R$ 250,00\")\n",
        "]"
      ]
    },
    {
      "cell_type": "markdown",
      "metadata": {
        "id": "HZxBbu6_NTNj"
      },
      "source": [
        "### Com isso, conseguimos instanciar a classe Dataframe, a partir da leitura do CSV. A partir de agora, os dados estão disponíveis para serem trabalhados em memória."
      ]
    },
    {
      "cell_type": "code",
      "execution_count": null,
      "metadata": {
        "id": "nawYM1nINOcX"
      },
      "outputs": [],
      "source": [
        "df = pd.DataFrame(alugueis)"
      ]
    },
    {
      "cell_type": "code",
      "execution_count": null,
      "metadata": {
        "id": "n3CwpPFVkRj1"
      },
      "outputs": [],
      "source": [
        "df.to_csv('alugueis_carros.csv', index= False, header = False)"
      ]
    },
    {
      "cell_type": "code",
      "execution_count": null,
      "metadata": {
        "id": "1oTZxZ88n_U6"
      },
      "outputs": [],
      "source": [
        "df.tail()"
      ]
    },
    {
      "cell_type": "code",
      "execution_count": null,
      "metadata": {
        "id": "cru1gkj8SN7g"
      },
      "outputs": [],
      "source": [
        "df = pd.read_csv('alugueis_carros.csv',header=None)"
      ]
    },
    {
      "cell_type": "code",
      "execution_count": null,
      "metadata": {
        "id": "YZoHXl6nn42g"
      },
      "outputs": [],
      "source": [
        "display(df)"
      ]
    },
    {
      "cell_type": "markdown",
      "metadata": {
        "id": "U6ghaJuwSSK2"
      },
      "source": [
        "Podemos incluir o nome das colunas, já na criação do DataFrame"
      ]
    },
    {
      "cell_type": "code",
      "execution_count": null,
      "metadata": {
        "id": "6h6H_Mw9SFeh"
      },
      "outputs": [],
      "source": [
        "df = pd.DataFrame(alugueis, columns=[\n",
        "    \"id_transacao\", \"cod_cliente\", \"modelo\", \"data_aluguel\", \"data_devolucao\", \"valor_locacao\", \"taxa_administrativa\"\n",
        "])"
      ]
    },
    {
      "cell_type": "code",
      "execution_count": null,
      "metadata": {
        "id": "QKniF5OtSMsD"
      },
      "outputs": [],
      "source": [
        "df.head(10)"
      ]
    },
    {
      "cell_type": "markdown",
      "metadata": {
        "id": "6MUP6XIaNstW"
      },
      "source": [
        "### Podemos utilizar alguns métodos para explorar e entender melhor o conjunto de dados."
      ]
    },
    {
      "cell_type": "code",
      "execution_count": null,
      "metadata": {
        "id": "QQMHtS6pNfF_"
      },
      "outputs": [],
      "source": [
        "df.info()"
      ]
    },
    {
      "cell_type": "code",
      "execution_count": null,
      "metadata": {
        "id": "Vy0sMaaVOLYa"
      },
      "outputs": [],
      "source": [
        "df.describe()"
      ]
    },
    {
      "cell_type": "code",
      "execution_count": null,
      "metadata": {
        "id": "ks9tMu4fONlK"
      },
      "outputs": [],
      "source": [
        "df[['modelo','valor_locacao']].head(15)"
      ]
    },
    {
      "cell_type": "markdown",
      "metadata": {
        "id": "TiznJ54HTBuH"
      },
      "source": [
        "### Mesmo em conjuntos de dados simples, podemos descobrir informações valiosas manipulando os dados."
      ]
    },
    {
      "cell_type": "code",
      "execution_count": null,
      "metadata": {
        "id": "FTAg5JFyS-19"
      },
      "outputs": [],
      "source": [
        "df.groupby('modelo')['valor_locacao'].mean()"
      ]
    },
    {
      "cell_type": "markdown",
      "metadata": {
        "id": "k79inoLcUKJ0"
      },
      "source": [
        "Um tratamento comum de ser feito é a alteração de tipagens de dados"
      ]
    },
    {
      "cell_type": "code",
      "execution_count": null,
      "metadata": {
        "id": "VxDcbbjYTxqb"
      },
      "outputs": [],
      "source": [
        "df['data_aluguel'] = pd.to_datetime(df['data_aluguel'], format='%Y-%m-%d')\n",
        "df['data_devolucao'] = pd.to_datetime(df['data_devolucao'], format='%Y-%m-%d')"
      ]
    },
    {
      "cell_type": "markdown",
      "metadata": {
        "id": "zNIkKT_LUH8F"
      },
      "source": [
        "Podemos incluir a informação de duração prevista do aluguel"
      ]
    },
    {
      "cell_type": "code",
      "execution_count": null,
      "metadata": {
        "id": "cuU4RQXUT_yu"
      },
      "outputs": [],
      "source": [
        "df['duracao_dias'] = (df['data_devolucao'] - df['data_aluguel']).dt.days"
      ]
    },
    {
      "cell_type": "code",
      "execution_count": null,
      "metadata": {
        "id": "7SWAJwSyUk-x"
      },
      "outputs": [],
      "source": [
        "df.head(20)"
      ]
    },
    {
      "cell_type": "code",
      "execution_count": null,
      "metadata": {
        "id": "ZBiSUhmIUFhe"
      },
      "outputs": [],
      "source": [
        "df['valor_dia'] = (df['valor_locacao'] / df['duracao_dias']).round(2)"
      ]
    },
    {
      "cell_type": "code",
      "execution_count": null,
      "metadata": {
        "id": "oBMZRsdWVLVS"
      },
      "outputs": [],
      "source": [
        "df.head()"
      ]
    },
    {
      "cell_type": "code",
      "execution_count": null,
      "metadata": {
        "id": "ISeJQ9BRVNla"
      },
      "outputs": [],
      "source": [
        "df.groupby('modelo')['valor_dia'].mean()"
      ]
    },
    {
      "cell_type": "markdown",
      "metadata": {
        "id": "Ac6GuJVH2SMW"
      },
      "source": [
        "## **Prática**\n",
        "\n",
        "A partir do conteúdo apresentado sobre DataFrames, Séries e demais conhecimentos em Python. Utilize o conjunto de dados sobre locação veiculas abordado até aqui e responda as seguintes perguntas. Se necessário, faça tratamentos de manipulações no DataFrame.\n",
        "\n",
        "### **Regras:**\n",
        "\n",
        "**Classificação da duração do aluguel:**\n",
        "\n",
        "*   **Curta** - Até 3 dias\n",
        "*   **Média** - 4-7\n",
        "*   **Longa** - Acima de 7 dias\n",
        "\n",
        "\n",
        "**Valor Total:**\n",
        "\n",
        "*   Soma do Total do Aluguel com a Taxa Administrativa\n",
        "\n",
        "*Repare que o campo da Taxa Administrativa precisa ser tratado para poder ser utilizado como um campo numérico*\n",
        "\n",
        "**Definição do Impacto das Taxas Administrativas na Composição do Preço:**\n",
        "\n",
        "*   **Baixa** - Menos de 8% do Valor Total\n",
        "*   **Média** - Entre 8% e 15% do Valor Total\n",
        "*   **Alta** - Acima de 15% do Valor Total\n",
        "\n",
        "**Desconto:**\n",
        "\n",
        "*   Os descontos são aplicados após o cálculo do valor total. Existem 2 tipos de desconto, e eles são acumulativos.\n",
        "\n",
        "1.   Desconto de Taxa: Caso a Classificação de Impacto das Taxas seja **Alta**, será ofertado um desconto que subtraído do valor da taxa, a deixe no patamar de 15%.\n",
        "2.   Desconto de Duração: Será ofertado um desconto de **8%** para locações de duração **Média** e **12%** para locações de duração **Longa**.\n",
        "3.   Desconto Total: Desconto de Duração + Desconto de Taxa.\n",
        "\n",
        "*Formate com 2 casas decimais*\n",
        "\n",
        "**Valor Final:**\n",
        "\n",
        "*   Total - Desconto de Taxa - Desconto de Duração\n",
        "\n",
        "**Percentual de Desconto:**\n",
        "\n",
        "*   1 - (valor_final/valor_inicial)\n",
        "\n",
        "*Formate com 1 casa decimal*\n",
        "\n",
        "**Crie scripts para responder as seguintes questões**\n",
        "\n",
        "\n",
        "\n",
        "1.    Qual é a proporção (%) de contratos curtos, médios e longos no período analisado?\n",
        "2.   Quem são os três clientes (Código Cliente) que mais geraram receita total no período? Quanto (R$) cada um gastou?\n",
        "3.   Calcule o total de desconto concedido pode modelo de carro.\n",
        "4.   Ordene os aluguéis por % de desconto\n",
        "5.   Calcule o Total de Diárias e o valor médio de diária por mês de aluguel (data_aluguel)\n",
        "6.   Bônus: Exporte um Excel com todos os campos originais, além das informações enriquecidas: Classificador de Duração, Desconto Total, Valor Final e Percentual de Desconto.\n",
        "\n",
        "\n",
        "\n",
        "\n"
      ]
    }
  ],
  "metadata": {
    "colab": {
      "provenance": []
    },
    "kernelspec": {
      "display_name": "Python 3",
      "language": "python",
      "name": "python3"
    },
    "language_info": {
      "codemirror_mode": {
        "name": "ipython",
        "version": 3
      },
      "file_extension": ".py",
      "mimetype": "text/x-python",
      "name": "python",
      "nbconvert_exporter": "python",
      "pygments_lexer": "ipython3",
      "version": "3.10.5"
    }
  },
  "nbformat": 4,
  "nbformat_minor": 0
}
